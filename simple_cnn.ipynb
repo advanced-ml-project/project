{
 "cells": [
  {
   "cell_type": "markdown",
   "metadata": {},
   "source": [
    "# CNN: Precting Polarization through CNN Text Classification \n",
    "\n",
    "I followed a great [guide](https://chriskhanhtran.github.io/posts/cnn-sentence-classification/) about using CNNs for Sentence Classification from **Chris Tran** (huge thanks to this guy!) Also, Ben Trevett has a great [tutorial](https://github.com/bentrevett/pytorch-sentiment-analysis/blob/master/4%20-%20Convolutional%20Sentiment%20Analysis.ipynb) for pytorch-sentiment-analysis using CNNs."
   ]
  },
  {
   "cell_type": "code",
   "execution_count": 1,
   "metadata": {},
   "outputs": [],
   "source": [
    "import pandas as pd\n",
    "import numpy as np\n",
    "import pre_processing as pp\n",
    "import torch\n",
    "import random"
   ]
  },
  {
   "cell_type": "code",
   "execution_count": 2,
   "metadata": {},
   "outputs": [
    {
     "name": "stdout",
     "output_type": "stream",
     "text": [
      "No GPU available, using the CPU instead.\n"
     ]
    }
   ],
   "source": [
    "if torch.cuda.is_available():       \n",
    "    device = torch.device(\"cuda\")\n",
    "    print(f'There are {torch.cuda.device_count()} GPU(s) available.')\n",
    "    print('Device name:', torch.cuda.get_device_name(0))\n",
    "    USE_CUDA=True\n",
    "\n",
    "else:\n",
    "    print('No GPU available, using the CPU instead.')\n",
    "    device = torch.device(\"cpu\")\n",
    "    USE_CUDA=False"
   ]
  },
  {
   "cell_type": "code",
   "execution_count": 3,
   "metadata": {},
   "outputs": [],
   "source": [
    "SEED = 30255 # Specify a seed for reproducability\n",
    "\n",
    "random.seed(SEED)\n",
    "np.random.seed(SEED)\n",
    "torch.manual_seed(SEED)\n",
    "if torch.cuda.is_available():\n",
    "    torch.cuda.manual_seed(SEED)\n",
    "torch.backends.cudnn.deterministic = True"
   ]
  },
  {
   "cell_type": "markdown",
   "metadata": {},
   "source": [
    "## 0. Download Data"
   ]
  },
  {
   "cell_type": "code",
   "execution_count": 4,
   "metadata": {},
   "outputs": [
    {
     "name": "stdout",
     "output_type": "stream",
     "text": [
      "(20697, 9)\n"
     ]
    },
    {
     "data": {
      "text/html": [
       "<div>\n",
       "<style scoped>\n",
       "    .dataframe tbody tr th:only-of-type {\n",
       "        vertical-align: middle;\n",
       "    }\n",
       "\n",
       "    .dataframe tbody tr th {\n",
       "        vertical-align: top;\n",
       "    }\n",
       "\n",
       "    .dataframe thead th {\n",
       "        text-align: right;\n",
       "    }\n",
       "</style>\n",
       "<table border=\"1\" class=\"dataframe\">\n",
       "  <thead>\n",
       "    <tr style=\"text-align: right;\">\n",
       "      <th></th>\n",
       "      <th>id</th>\n",
       "      <th>topic</th>\n",
       "      <th>source</th>\n",
       "      <th>text</th>\n",
       "      <th>replyCount</th>\n",
       "      <th>vaderMean</th>\n",
       "      <th>vaderStd</th>\n",
       "      <th>vaderCatLabel</th>\n",
       "      <th>vaderCat</th>\n",
       "    </tr>\n",
       "  </thead>\n",
       "  <tbody>\n",
       "    <tr>\n",
       "      <th>0</th>\n",
       "      <td>1377385383168765952</td>\n",
       "      <td>Politics</td>\n",
       "      <td>FoxNews</td>\n",
       "      <td>activists protest renaming chicago school afte...</td>\n",
       "      <td>306</td>\n",
       "      <td>-0.052830</td>\n",
       "      <td>0.445459</td>\n",
       "      <td>medium</td>\n",
       "      <td>1.0</td>\n",
       "    </tr>\n",
       "    <tr>\n",
       "      <th>1</th>\n",
       "      <td>1377384607969013765</td>\n",
       "      <td>Violence</td>\n",
       "      <td>FoxNews</td>\n",
       "      <td>border patrol video shows smugglers abandoning...</td>\n",
       "      <td>108</td>\n",
       "      <td>-0.045958</td>\n",
       "      <td>0.495337</td>\n",
       "      <td>medium</td>\n",
       "      <td>1.0</td>\n",
       "    </tr>\n",
       "    <tr>\n",
       "      <th>2</th>\n",
       "      <td>1377384339105669122</td>\n",
       "      <td>Media</td>\n",
       "      <td>FoxNews</td>\n",
       "      <td>cause of tiger woods car crash determined but ...</td>\n",
       "      <td>169</td>\n",
       "      <td>-0.034919</td>\n",
       "      <td>0.424833</td>\n",
       "      <td>medium</td>\n",
       "      <td>1.0</td>\n",
       "    </tr>\n",
       "    <tr>\n",
       "      <th>3</th>\n",
       "      <td>1377367836046192641</td>\n",
       "      <td>Politics</td>\n",
       "      <td>FoxNews</td>\n",
       "      <td>gop rep urges hhs to halt reported plan to rel...</td>\n",
       "      <td>80</td>\n",
       "      <td>0.043459</td>\n",
       "      <td>0.495874</td>\n",
       "      <td>medium</td>\n",
       "      <td>1.0</td>\n",
       "    </tr>\n",
       "    <tr>\n",
       "      <th>4</th>\n",
       "      <td>1377358399759785987</td>\n",
       "      <td>Politics</td>\n",
       "      <td>FoxNews</td>\n",
       "      <td>some democrats trying to stop iowa new hampshi...</td>\n",
       "      <td>96</td>\n",
       "      <td>-0.040135</td>\n",
       "      <td>0.433053</td>\n",
       "      <td>medium</td>\n",
       "      <td>1.0</td>\n",
       "    </tr>\n",
       "  </tbody>\n",
       "</table>\n",
       "</div>"
      ],
      "text/plain": [
       "                    id     topic   source  \\\n",
       "0  1377385383168765952  Politics  FoxNews   \n",
       "1  1377384607969013765  Violence  FoxNews   \n",
       "2  1377384339105669122     Media  FoxNews   \n",
       "3  1377367836046192641  Politics  FoxNews   \n",
       "4  1377358399759785987  Politics  FoxNews   \n",
       "\n",
       "                                                text  replyCount  vaderMean  \\\n",
       "0  activists protest renaming chicago school afte...         306  -0.052830   \n",
       "1  border patrol video shows smugglers abandoning...         108  -0.045958   \n",
       "2  cause of tiger woods car crash determined but ...         169  -0.034919   \n",
       "3  gop rep urges hhs to halt reported plan to rel...          80   0.043459   \n",
       "4  some democrats trying to stop iowa new hampshi...          96  -0.040135   \n",
       "\n",
       "   vaderStd vaderCatLabel  vaderCat  \n",
       "0  0.445459        medium       1.0  \n",
       "1  0.495337        medium       1.0  \n",
       "2  0.424833        medium       1.0  \n",
       "3  0.495874        medium       1.0  \n",
       "4  0.433053        medium       1.0  "
      ]
     },
     "execution_count": 4,
     "metadata": {},
     "output_type": "execute_result"
    }
   ],
   "source": [
    "tweets = pd.read_csv('data/tweets_all.csv')\n",
    "tweets = tweets[tweets.text.notnull()]\n",
    "print(tweets.shape)\n",
    "tweets.head()"
   ]
  },
  {
   "cell_type": "code",
   "execution_count": 5,
   "metadata": {},
   "outputs": [
    {
     "data": {
      "text/plain": [
       "array([1., 0., 2.])"
      ]
     },
     "execution_count": 5,
     "metadata": {},
     "output_type": "execute_result"
    }
   ],
   "source": [
    "tweets.vaderCat.unique()"
   ]
  },
  {
   "cell_type": "markdown",
   "metadata": {},
   "source": [
    "### 0.1 What is the max number of words for a given tweet in the dataset? \n",
    "This will be used as the fix length of a sentence in our model "
   ]
  },
  {
   "cell_type": "code",
   "execution_count": 6,
   "metadata": {},
   "outputs": [
    {
     "name": "stdout",
     "output_type": "stream",
     "text": [
      "Max number of words for a given tweet in the Dataset:\n",
      "53\n"
     ]
    }
   ],
   "source": [
    "print('Max number of words for a given tweet in the Dataset:')\n",
    "max_len = tweets.text.apply(lambda x: len(x.split())).max()\n",
    "print(max_len)"
   ]
  },
  {
   "cell_type": "code",
   "execution_count": 7,
   "metadata": {},
   "outputs": [
    {
     "name": "stdout",
     "output_type": "stream",
     "text": [
      "vaderCatLabel\n",
      "high      4138\n",
      "low       5532\n",
      "medium    6994\n",
      "dtype: int64\n",
      "observations for filtered data:16664\n"
     ]
    }
   ],
   "source": [
    "t= tweets[(tweets.replyCount <=60)].groupby('vaderCatLabel').size()\n",
    "print(t)\n",
    "print(\"observations for filtered data:{}\".format(t.sum()))"
   ]
  },
  {
   "cell_type": "markdown",
   "metadata": {},
   "source": [
    "### 0.1 What data to use? Filter by topic? By number of replies? Use all?\n",
    "\n",
    "I proposed to filter by number of replies, as we get a more balanced data with this filter. "
   ]
  },
  {
   "cell_type": "code",
   "execution_count": 8,
   "metadata": {},
   "outputs": [],
   "source": [
    "data_to_use = tweets[(tweets.replyCount <=60)]"
   ]
  },
  {
   "cell_type": "markdown",
   "metadata": {},
   "source": [
    "## 1. Convert to Pytorch Data Objects"
   ]
  },
  {
   "cell_type": "markdown",
   "metadata": {},
   "source": [
    "### 1.1 Data Class"
   ]
  },
  {
   "cell_type": "code",
   "execution_count": 9,
   "metadata": {},
   "outputs": [],
   "source": [
    "from dataclassCNN import ProjectDataset"
   ]
  },
  {
   "cell_type": "code",
   "execution_count": 10,
   "metadata": {},
   "outputs": [],
   "source": [
    "data_obj = ProjectDataset(data_to_use, 'vaderCat', 'text')"
   ]
  },
  {
   "cell_type": "markdown",
   "metadata": {},
   "source": [
    "## 2. Get Vocabulary and Pre-trained Vectors"
   ]
  },
  {
   "cell_type": "markdown",
   "metadata": {},
   "source": [
    "### Vocabulary from dataset"
   ]
  },
  {
   "cell_type": "code",
   "execution_count": 11,
   "metadata": {},
   "outputs": [
    {
     "name": "stdout",
     "output_type": "stream",
     "text": [
      "The vocabulary length is 19548 words\n"
     ]
    }
   ],
   "source": [
    "from collections import Counter\n",
    "from torchtext.vocab import Vocab\n",
    "\n",
    "\n",
    "counter_words = Counter()\n",
    "for (label, text) in data_obj:\n",
    "    counter_words.update(text)\n",
    "    \n",
    "vocab_words = Vocab(counter_words)\n",
    "\n",
    "print('The vocabulary length is {} words'.format(len(vocab_words)))"
   ]
  },
  {
   "cell_type": "markdown",
   "metadata": {},
   "source": [
    "### Load Pre-trained vectors (e.g. GloVe or FastText) and get the pre-trained vectors from vocabulary"
   ]
  },
  {
   "cell_type": "code",
   "execution_count": 12,
   "metadata": {},
   "outputs": [],
   "source": [
    "VECTORS_CACHE_DIR = './.vector_cache'"
   ]
  },
  {
   "cell_type": "code",
   "execution_count": 13,
   "metadata": {},
   "outputs": [
    {
     "name": "stderr",
     "output_type": "stream",
     "text": [
      "./.vector_cache/wiki.en.vec: 6.60GB [06:08, 17.9MB/s]                                \n",
      "  0%|          | 0/2519370 [00:00<?, ?it/s]Skipping token b'2519370' with 1-dimensional vector [b'300']; likely a header\n",
      "100%|██████████| 2519370/2519370 [03:54<00:00, 10755.52it/s]\n"
     ]
    }
   ],
   "source": [
    "from torchtext import vocab\n",
    "\n",
    "fastText = vocab.FastText(language='en',cache=VECTORS_CACHE_DIR)\n",
    "\n",
    "pre_trained_vectors = fastText.get_vecs_by_tokens(vocab_words.itos)"
   ]
  },
  {
   "cell_type": "markdown",
   "metadata": {},
   "source": [
    "## 3. Collate Function for CNN Model\n",
    "\n",
    "We are going to use the pre-trained embeddings and construct a `max_len` (53) long vector of embeddings, adding the `<pad>` word vector to the end for the tweets (sentences) that do not have the full `max_len`. "
   ]
  },
  {
   "cell_type": "code",
   "execution_count": 14,
   "metadata": {},
   "outputs": [],
   "source": [
    "def collate_for_cnn(batch, max_len=max_len):\n",
    "    '''\n",
    "    For each batch, develop the appropiate inputs from the models (i.e. embeddings)\n",
    "    '''\n",
    "    input_vector = []\n",
    "    labels = []\n",
    "    for i, (label, tokenized_sent) in enumerate(batch):\n",
    "        \n",
    "        #Append labels \n",
    "        labels.append(label)\n",
    "        \n",
    "        #Get tokenized sentence\n",
    "        tokenized_sent += ['<pad>'] * (max_len - len(tokenized_sent))\n",
    "        \n",
    "        wordstoidx = [vocab_words.stoi[w] for w in tokenized_sent]\n",
    "        input_vector.append(wordstoidx)\n",
    "    \n",
    "    return torch.tensor(labels).to(device), torch.tensor(input_vector).to(device)"
   ]
  },
  {
   "cell_type": "markdown",
   "metadata": {},
   "source": [
    "## 4. Setting up Train, Validation, Test set and DataLoader Class"
   ]
  },
  {
   "cell_type": "code",
   "execution_count": 15,
   "metadata": {},
   "outputs": [],
   "source": [
    "from torch.utils.data import DataLoader"
   ]
  },
  {
   "cell_type": "code",
   "execution_count": 16,
   "metadata": {},
   "outputs": [],
   "source": [
    "from sklearn.model_selection import train_test_split\n",
    "\n",
    "# Train with Validation Data and Test Data Split\n",
    "train_val_texts, test_texts, train_val_labels, test_labels = train_test_split(\n",
    "    data_to_use['text'], data_to_use['vaderCat'], test_size=0.1, random_state=42)\n",
    "\n",
    "#Train and Validation Split\n",
    "train_texts, val_texts, train_labels, val_labels = train_test_split(\n",
    "    train_val_texts, train_val_labels, test_size=0.1, random_state=42)"
   ]
  },
  {
   "cell_type": "code",
   "execution_count": 17,
   "metadata": {},
   "outputs": [],
   "source": [
    "def data_loader(train_tuple, val_tuple, test_tuple,\n",
    "                batch_size=30):\n",
    "    \"\"\"Convert train, validation and test sets into Dataloaders :)\n",
    "    \"\"\"\n",
    "\n",
    "    # Create DataLoader for training data\n",
    "    train_data = ProjectDataset(train_tuple)\n",
    "    train_dataloader = DataLoader(train_data, shuffle=True,\n",
    "                                  batch_size=batch_size, \n",
    "                                 collate_fn=collate_for_cnn)\n",
    "    \n",
    "    # Create DataLoader for validation data\n",
    "    valid_data = ProjectDataset(val_tuple)\n",
    "    val_dataloader = DataLoader(valid_data, shuffle=False,\n",
    "                                  batch_size=batch_size, \n",
    "                                 collate_fn=collate_for_cnn)\n",
    "\n",
    "    # Create DataLoader for test data\n",
    "    test_data = ProjectDataset(test_tuple)\n",
    "    test_dataloader = DataLoader(test_data, shuffle=False,\n",
    "                                  batch_size=batch_size, \n",
    "                                 collate_fn=collate_for_cnn)\n",
    "\n",
    "    return train_dataloader, val_dataloader, test_dataloader"
   ]
  },
  {
   "cell_type": "code",
   "execution_count": 18,
   "metadata": {},
   "outputs": [],
   "source": [
    "train_dataloader, val_dataloader, test_dataloader = data_loader([train_labels, train_texts],\n",
    "                                                               [val_labels, val_texts],\n",
    "                                                               [test_labels, test_texts])"
   ]
  },
  {
   "cell_type": "code",
   "execution_count": 19,
   "metadata": {},
   "outputs": [
    {
     "name": "stdout",
     "output_type": "stream",
     "text": [
      "torch.Size([30, 53])\n"
     ]
    }
   ],
   "source": [
    "for i in train_dataloader:\n",
    "    labels, inputs = i[0], i[1]\n",
    "    print(inputs.shape)\n",
    "    break"
   ]
  },
  {
   "cell_type": "markdown",
   "metadata": {},
   "source": [
    "## 5. Model Building: CNN Arquitecture\n",
    "\n",
    "explanation here\n"
   ]
  },
  {
   "cell_type": "code",
   "execution_count": 20,
   "metadata": {},
   "outputs": [],
   "source": [
    "FILTER_SIZES = [3,4,5]\n",
    "N_FILTERS = 100\n",
    "DROPOUT = 0.5\n",
    "PAD_IDX = vocab_words.stoi['<pad>']\n",
    "num_classes = 3 #Low, Medium, High"
   ]
  },
  {
   "cell_type": "markdown",
   "metadata": {},
   "source": [
    "### 5.1 CNN Model Class"
   ]
  },
  {
   "cell_type": "code",
   "execution_count": 21,
   "metadata": {},
   "outputs": [],
   "source": [
    "import torch\n",
    "import torch.nn as nn\n",
    "import torch.nn.functional as F\n",
    "\n",
    "class CNN_polarization(nn.Module):\n",
    "    ''' An 1D Convulational Neural Network for Sentence Classification'''\n",
    "    \n",
    "    def __init__(self, pretrained_embedding=None, freeze_embedding=False,\n",
    "                 vocab_size=None, embed_dim=None,\n",
    "                 filter_sizes=FILTER_SIZES, num_filters=N_FILTERS,\n",
    "                 num_classes=num_classes,pad_id=PAD_IDX,\n",
    "                 dropout=DROPOUT):\n",
    "        \"\"\"\n",
    "        pretrained_embedding (torch.Tensor): Pretrained embeddings with\n",
    "                shape (vocab_size, embed_dim)\n",
    "            freeze_embedding (bool): Set to False to fine-tune pretraiend\n",
    "                vectors. Default: False\n",
    "            vocab_size (int): Need to be specified when not pretrained word\n",
    "                embeddings are not used.\n",
    "            embed_dim (int): Dimension of word vectors. Need to be specified\n",
    "                when pretrained word embeddings are not used. Default: 300\n",
    "            filter_sizes (List[int]): List of filter sizes. Default: [3, 4, 5]\n",
    "            num_filters (int): Number of filters. Default: 100\n",
    "            n_classes (int): Number of classes. Default: 3\n",
    "            dropout (float): Dropout rate. Default: 0.5\n",
    "        \"\"\"\n",
    "\n",
    "        super(CNN_polarization, self).__init__()\n",
    "        \n",
    "        # 1. Embedding layer\n",
    "        if pretrained_embedding is not None:\n",
    "            self.vocab_size, self.embed_dim = pretrained_embedding.shape\n",
    "            self.embedding = nn.Embedding.from_pretrained(pretrained_embedding,\n",
    "                                                          freeze=freeze_embedding)\n",
    "        else:\n",
    "            self.embed_dim = embed_dim\n",
    "            self.embedding = nn.Embedding(num_embeddings=vocab_size,\n",
    "                                          embedding_dim=self.embed_dim,\n",
    "                                          padding_idx= pad_id,\n",
    "                                          max_norm=5.0)\n",
    "        \n",
    "        # 2. Convolutional Layers (for each filter size --> n-gram)\n",
    "        self.convs = nn.ModuleList([\n",
    "                                    nn.Conv1d(in_channels = self.embed_dim,\n",
    "                                              out_channels = num_filters, \n",
    "                                              kernel_size = fs)\n",
    "                                    for fs in filter_sizes\n",
    "                                    ])\n",
    "        \n",
    "    \n",
    "        # 3. Fully-connected layer\n",
    "        self.linear = nn.Linear(in_features = len(filter_sizes) * num_filters, \n",
    "                                out_features = num_classes\n",
    "                               )\n",
    "        \n",
    "        \n",
    "        # Additional Feature\n",
    "        self.dropout = nn.Dropout(dropout)\n",
    "\n",
    "    def forward(self, inputs):\n",
    "\n",
    "        x_embedded = self.embedding(inputs)\n",
    "        \n",
    "        x_embedded = x_embedded.permute(0, 2, 1)\n",
    "        \n",
    "        # Apply CNN and ReLU\n",
    "        convs_list = [F.relu(conv(x_embedded)) for conv in self.convs]\n",
    "\n",
    "        # Max pooling.\n",
    "        pooled = [F.max_pool1d(x_conv, kernel_size=x_conv.shape[2]).squeeze(2)\n",
    "                  for x_conv in convs_list]\n",
    "        \n",
    "        # Concatenate Pool list to feed the fully connected layer\n",
    "        input_fc = self.dropout(torch.cat(pooled, dim = 1))\n",
    "        \n",
    "        # Compute probabilities\n",
    "        predictions_classes = self.linear(input_fc)\n",
    "        \n",
    "        return predictions_classes"
   ]
  },
  {
   "cell_type": "markdown",
   "metadata": {},
   "source": [
    "### 5.3 Training Function for one epoch"
   ]
  },
  {
   "cell_type": "code",
   "execution_count": 22,
   "metadata": {},
   "outputs": [],
   "source": [
    "\n",
    "def train_an_epoch(model, dataloader, loss_function, optimizer):\n",
    "    \n",
    "    model.train() # Sets the module in training mode.\n",
    "    total_loss = 0\n",
    "    \n",
    "    for idx, batch in enumerate(dataloader):\n",
    "        \n",
    "        # Load batch to GPU\n",
    "        labels, inputs = tuple(t.to(device) for t in batch)\n",
    "        \n",
    "        # Zero out any previously calculated gradients\n",
    "        model.zero_grad()\n",
    "        \n",
    "        #Perform a forward pass.\n",
    "        log_probs = model(inputs)\n",
    "        \n",
    "        # Compute loss and accumulate the loss values\n",
    "        loss = loss_function(log_probs, labels.long())\n",
    "        total_loss += loss.item()\n",
    "        \n",
    "        # Perform a backward pass to calculate gradients\n",
    "        loss.backward()\n",
    "        optimizer.step()\n",
    "    \n",
    "    return total_loss/len(dataloader)"
   ]
  },
  {
   "cell_type": "markdown",
   "metadata": {},
   "source": [
    "### 5.4 Evaluate Function"
   ]
  },
  {
   "cell_type": "code",
   "execution_count": 23,
   "metadata": {},
   "outputs": [],
   "source": [
    "def evaluate(model, dataloader, loss_fn):\n",
    "    '''\n",
    "    Evaluate the model on the given data (e.g. validation data or test data).\n",
    "    '''\n",
    "\n",
    "    #As we are now using dropout, we must remember to use model.eval() \n",
    "    #to ensure the dropout is \"turned off\" while evaluating.\n",
    "    model.eval()\n",
    "    \n",
    "    total_accuracy = []\n",
    "    total_loss = []\n",
    "    \n",
    "    with torch.no_grad():\n",
    "        # No gradients need to be maintained during evaluation\n",
    "        for i, batch in enumerate(dataloader):\n",
    "            \n",
    "            # Load batch to Device\n",
    "            labels, inputs = batch[0], batch[1]\n",
    "            if USE_CUDA:\n",
    "                labels, inputs = labels.cuda(), inputs.cuda()\n",
    "                \n",
    "            # Obtain probabilities of each class per sentence\n",
    "            output = model(inputs)\n",
    "            \n",
    "            # Compute loss\n",
    "            loss = loss_fn(output, labels.long())\n",
    "            total_loss.append(loss.item())\n",
    "            \n",
    "            # Get the predictions\n",
    "            preds = torch.argmax(output, dim=1).flatten()\n",
    "            \n",
    "            # Calculate the accuracy rate\n",
    "            accuracy = (preds == labels).sum()/len(preds)\n",
    "            total_accuracy.append(accuracy)\n",
    "            \n",
    "\n",
    "    return np.mean(total_loss), np.mean(total_accuracy)"
   ]
  },
  {
   "cell_type": "markdown",
   "metadata": {},
   "source": [
    "### 5.5 Complete Training Function (With early stopping for best model)"
   ]
  },
  {
   "cell_type": "code",
   "execution_count": 24,
   "metadata": {},
   "outputs": [],
   "source": [
    "import datetime\n",
    "\n",
    "def train_validate(model, optimizer, train_dataloader, val_dataloader, epochs=20):\n",
    "    \n",
    "    \"\"\"Train the CNN model.\"\"\"\n",
    "    \n",
    "    #Loss function\n",
    "    loss_function = nn.CrossEntropyLoss()\n",
    "    \n",
    "    # Tracking best model\n",
    "    val_losses = []\n",
    "    val_accuracies = []\n",
    "    best_model = None\n",
    "    \n",
    "    # Start training loop\n",
    "    print(\"Start training...\\n\")\n",
    "    print(f\"{'Epoch':^7} | {'Time Training(seconds)':^8} | {'Train Loss':^9} |{'Val Loss':^10} | {'Val Acc':^11}\")\n",
    "    print(\"-\"*80)\n",
    "\n",
    "    for epoch_i in range(epochs):\n",
    "        start_time = datetime.datetime.now()\n",
    "        # =======================================\n",
    "        #               Training\n",
    "        # =======================================\n",
    "        \n",
    "        avg_loss_train = train_an_epoch(model, train_dataloader, loss_function, optimizer)\n",
    "        \n",
    "        # =======================================\n",
    "        #               Evaluation\n",
    "        # =======================================\n",
    "        \n",
    "        val_loss, val_accuracy = evaluate(model, val_dataloader, loss_function)\n",
    "\n",
    "        # Track the best model\n",
    "        if len(val_losses) == 0 or val_loss < min(val_losses):\n",
    "            best_model = type(model)(pretrained_embedding=pre_trained_vectors, filter_sizes=filter_sizes,\n",
    "                                     num_filters=N_FILTERS, num_classes=num_classes)\n",
    "            best_model.load_state_dict(model.state_dict())\n",
    "            if USE_CUDA:\n",
    "                best_model = best_model.cuda()\n",
    "        \n",
    "        val_losses.append(val_loss)\n",
    "        val_accuracies.append(val_accuracy)\n",
    "        \n",
    "        time_diff = (datetime.datetime.now() - start_time).seconds\n",
    "        \n",
    "        print(f\"{epoch_i + 1:^7} |   {time_diff:^8}   | {avg_loss_train:^9} | {val_loss:^10} | {val_accuracy:^11}\")\n",
    "        print('')\n",
    "        \n",
    "    return best_model, val_accuracies"
   ]
  },
  {
   "cell_type": "markdown",
   "metadata": {},
   "source": [
    "# 6. Train the model"
   ]
  },
  {
   "cell_type": "code",
   "execution_count": 25,
   "metadata": {},
   "outputs": [],
   "source": [
    "num_classes = len(tweets.vaderCat.unique())\n",
    "filter_sizes = [2, 3, 4] # bi-grams, tri-grams, four-grams filters\n",
    "N_FILTERS = 100"
   ]
  },
  {
   "cell_type": "markdown",
   "metadata": {},
   "source": [
    "### 6.1 Initialize Model and Optimizer"
   ]
  },
  {
   "cell_type": "code",
   "execution_count": 26,
   "metadata": {},
   "outputs": [],
   "source": [
    "cnn_model = CNN_polarization(pretrained_embedding=pre_trained_vectors,\n",
    "                        freeze_embedding=False,\n",
    "                        filter_sizes=filter_sizes,\n",
    "                        num_filters=N_FILTERS,\n",
    "                        num_classes=num_classes,\n",
    "                        dropout=DROPOUT).to(device)"
   ]
  },
  {
   "cell_type": "code",
   "execution_count": 27,
   "metadata": {},
   "outputs": [],
   "source": [
    "learning_rate = 0.01\n",
    "optimizer = torch.optim.Adam(cnn_model.parameters(), \n",
    "                                 lr=learning_rate)"
   ]
  },
  {
   "cell_type": "code",
   "execution_count": 28,
   "metadata": {},
   "outputs": [
    {
     "name": "stdout",
     "output_type": "stream",
     "text": [
      "Start training...\n",
      "\n",
      " Epoch  | Time Training(seconds) | Train Loss | Val Loss  |   Val Acc  \n",
      "--------------------------------------------------------------------------------\n",
      "   1    |      44      | 1.1807660920090146 | 1.182009608745575 | 0.382666677236557\n",
      "\n",
      "   2    |      45      | 1.3734942130247751 | 1.3358265769481659 | 0.40799999237060547\n",
      "\n",
      "   3    |      49      | 1.725801849630144 | 1.666714814901352 | 0.40666666626930237\n",
      "\n",
      "   4    |      49      | 1.6280672453509437 | 1.6005100071430207 | 0.40733328461647034\n",
      "\n",
      "   5    |      48      | 1.6306050128406948 | 1.960930370092392 | 0.41466668248176575\n",
      "\n",
      "   6    |      50      | 1.4926161213715872 | 1.5354959738254548 | 0.40666666626930237\n",
      "\n",
      "   7    |      50      | 1.274472368425793 | 1.3402659177780152 | 0.4086666405200958\n",
      "\n",
      "   8    |      50      | 1.2542569149865044 | 1.4853100740909577 | 0.4013333022594452\n",
      "\n",
      "   9    |      51      | 1.2096691921022202 | 1.325696313381195 | 0.40133339166641235\n",
      "\n",
      "  10    |      50      | 1.2273320529195997 | 1.5934904110431671 | 0.40400004386901855\n",
      "\n",
      "  11    |      49      | 1.1245132717821333 | 1.4831485176086425 | 0.4020000100135803\n",
      "\n",
      "  12    |      50      | 1.1128456172678205 | 1.8710770165920259 | 0.40400001406669617\n",
      "\n",
      "  13    |      49      | 1.1030148731337652 | 2.1966226828098296 | 0.40400001406669617\n",
      "\n",
      "  14    |      49      | 1.0768827617168426 | 2.0229177570343015 | 0.40799999237060547\n",
      "\n",
      "  15    |      50      | 1.1922864639759063 | 2.5395322215557097 | 0.414000004529953\n",
      "\n",
      "  16    |      49      | 1.39047194480896 | 3.712741937637329 | 0.4099999964237213\n",
      "\n",
      "  17    |      49      | 1.3211933912171259 | 3.162699484825134 | 0.4060000479221344\n",
      "\n",
      "  18    |      49      | 1.2023900486363306 | 2.907449131011963 | 0.40800002217292786\n",
      "\n",
      "  19    |      49      | 1.2164438144365946 | 3.2119203817844393 | 0.40666666626930237\n",
      "\n",
      "  20    |      49      | 1.2600194674068028 | 2.9923764669895174 | 0.406000018119812\n",
      "\n"
     ]
    }
   ],
   "source": [
    "best_model, val_accuracies = train_validate(cnn_model, optimizer, \n",
    "                                            train_dataloader, val_dataloader, epochs=20)"
   ]
  },
  {
   "cell_type": "code",
   "execution_count": 32,
   "metadata": {},
   "outputs": [
    {
     "data": {
      "image/png": "[encoded data removed]",
      "text/plain": [
       "<Figure size 720x504 with 1 Axes>"
      ]
     },
     "metadata": {
      "needs_background": "light"
     },
     "output_type": "display_data"
    }
   ],
   "source": [
    "import matplotlib.pyplot as plt\n",
    "%matplotlib inline\n",
    "plt.figure(figsize=(10,7))\n",
    "plt.plot(range(1, len(val_accuracies)+1), val_accuracies, color='navy')\n",
    "plt.xlabel(\"Epochs\")\n",
    "plt.ylabel(\"Accuracy\")\n",
    "plt.title('Validation Accuracy of CNN Model', fontsize=14);"
   ]
  },
  {
   "cell_type": "markdown",
   "metadata": {},
   "source": [
    "## 7. Test the Best Model"
   ]
  },
  {
   "cell_type": "code",
   "execution_count": 29,
   "metadata": {},
   "outputs": [],
   "source": [
    "#Loss function\n",
    "loss_function = nn.CrossEntropyLoss()\n",
    "test_loss, test_accuracy = evaluate(best_model, test_dataloader, loss_function)"
   ]
  },
  {
   "cell_type": "code",
   "execution_count": 30,
   "metadata": {},
   "outputs": [
    {
     "data": {
      "text/plain": [
       "0.4240196"
      ]
     },
     "execution_count": 30,
     "metadata": {},
     "output_type": "execute_result"
    }
   ],
   "source": [
    "test_accuracy"
   ]
  },
  {
   "cell_type": "code",
   "execution_count": 31,
   "metadata": {},
   "outputs": [
    {
     "name": "stdout",
     "output_type": "stream",
     "text": [
      ":( shit\n"
     ]
    }
   ],
   "source": [
    "print(':( shit')"
   ]
  },
  {
   "cell_type": "code",
   "execution_count": null,
   "metadata": {},
   "outputs": [],
   "source": []
  }
 ],
 "metadata": {
  "kernelspec": {
   "display_name": "Python 3",
   "language": "python",
   "name": "python3"
  },
  "language_info": {
   "codemirror_mode": {
    "name": "ipython",
    "version": 3
   },
   "file_extension": ".py",
   "mimetype": "text/x-python",
   "name": "python",
   "nbconvert_exporter": "python",
   "pygments_lexer": "ipython3",
   "version": "3.8.1"
  }
 },
 "nbformat": 4,
 "nbformat_minor": 4
}
