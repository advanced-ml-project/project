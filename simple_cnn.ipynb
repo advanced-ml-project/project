{
 "cells": [
  {
   "cell_type": "markdown",
   "metadata": {},
   "source": [
    "# CNN: Precting Polarization through CNN Text Classification \n",
    "\n",
    "I followed a great [guide](https://chriskhanhtran.github.io/posts/cnn-sentence-classification/) about using CNNs for Sentence Classification from **Chris Tran** (huge thanks to this guy!) Also, Ben Trevett has a great [tutorial](https://github.com/bentrevett/pytorch-sentiment-analysis/blob/master/4%20-%20Convolutional%20Sentiment%20Analysis.ipynb) for pytorch-sentiment-analysis using CNNs."
   ]
  },
  {
   "cell_type": "code",
   "execution_count": 1,
   "metadata": {},
   "outputs": [],
   "source": [
    "import pandas as pd\n",
    "import numpy as np\n",
    "import pre_processing as pp\n",
    "import torch\n",
    "import random"
   ]
  },
  {
   "cell_type": "code",
   "execution_count": 2,
   "metadata": {},
   "outputs": [
    {
     "name": "stdout",
     "output_type": "stream",
     "text": [
      "No GPU available, using the CPU instead.\n"
     ]
    }
   ],
   "source": [
    "if torch.cuda.is_available():       \n",
    "    device = torch.device(\"cuda\")\n",
    "    print(f'There are {torch.cuda.device_count()} GPU(s) available.')\n",
    "    print('Device name:', torch.cuda.get_device_name(0))\n",
    "    USE_CUDA=True\n",
    "\n",
    "else:\n",
    "    print('No GPU available, using the CPU instead.')\n",
    "    device = torch.device(\"cpu\")\n",
    "    USE_CUDA=False"
   ]
  },
  {
   "cell_type": "code",
   "execution_count": 3,
   "metadata": {},
   "outputs": [],
   "source": [
    "SEED = 30255 # Specify a seed for reproducability\n",
    "\n",
    "random.seed(SEED)\n",
    "np.random.seed(SEED)\n",
    "torch.manual_seed(SEED)\n",
    "if torch.cuda.is_available():\n",
    "    torch.cuda.manual_seed(SEED)\n",
    "torch.backends.cudnn.deterministic = True"
   ]
  },
  {
   "cell_type": "markdown",
   "metadata": {},
   "source": [
    "## 0. Download Data"
   ]
  },
  {
   "cell_type": "code",
   "execution_count": 4,
   "metadata": {},
   "outputs": [
    {
     "name": "stdout",
     "output_type": "stream",
     "text": [
      "(20006, 9)\n"
     ]
    },
    {
     "data": {
      "text/html": [
       "<div>\n",
       "<style scoped>\n",
       "    .dataframe tbody tr th:only-of-type {\n",
       "        vertical-align: middle;\n",
       "    }\n",
       "\n",
       "    .dataframe tbody tr th {\n",
       "        vertical-align: top;\n",
       "    }\n",
       "\n",
       "    .dataframe thead th {\n",
       "        text-align: right;\n",
       "    }\n",
       "</style>\n",
       "<table border=\"1\" class=\"dataframe\">\n",
       "  <thead>\n",
       "    <tr style=\"text-align: right;\">\n",
       "      <th></th>\n",
       "      <th>id</th>\n",
       "      <th>topic</th>\n",
       "      <th>source</th>\n",
       "      <th>text</th>\n",
       "      <th>replyCount</th>\n",
       "      <th>vaderMean</th>\n",
       "      <th>vaderStd</th>\n",
       "      <th>vaderCatLabel</th>\n",
       "      <th>vaderCat</th>\n",
       "    </tr>\n",
       "  </thead>\n",
       "  <tbody>\n",
       "    <tr>\n",
       "      <th>0</th>\n",
       "      <td>1377384607969013765</td>\n",
       "      <td>NaN</td>\n",
       "      <td>FoxNews</td>\n",
       "      <td>border patrol video shows smugglers abandoning...</td>\n",
       "      <td>108</td>\n",
       "      <td>-0.045958</td>\n",
       "      <td>0.495337</td>\n",
       "      <td>high</td>\n",
       "      <td>1.0</td>\n",
       "    </tr>\n",
       "    <tr>\n",
       "      <th>1</th>\n",
       "      <td>1377367836046192641</td>\n",
       "      <td>NaN</td>\n",
       "      <td>FoxNews</td>\n",
       "      <td>gop rep urges hhs to halt reported plan to rel...</td>\n",
       "      <td>80</td>\n",
       "      <td>0.043459</td>\n",
       "      <td>0.495874</td>\n",
       "      <td>high</td>\n",
       "      <td>1.0</td>\n",
       "    </tr>\n",
       "    <tr>\n",
       "      <th>2</th>\n",
       "      <td>1377339316616097797</td>\n",
       "      <td>NaN</td>\n",
       "      <td>FoxNews</td>\n",
       "      <td>see it  nasas curiosity rover takes mars selfie</td>\n",
       "      <td>17</td>\n",
       "      <td>0.052776</td>\n",
       "      <td>0.322931</td>\n",
       "      <td>low</td>\n",
       "      <td>0.0</td>\n",
       "    </tr>\n",
       "    <tr>\n",
       "      <th>3</th>\n",
       "      <td>1377319049487642625</td>\n",
       "      <td>NaN</td>\n",
       "      <td>FoxNews</td>\n",
       "      <td>trump moving forward with plans to start socia...</td>\n",
       "      <td>1147</td>\n",
       "      <td>0.005348</td>\n",
       "      <td>0.451982</td>\n",
       "      <td>high</td>\n",
       "      <td>1.0</td>\n",
       "    </tr>\n",
       "    <tr>\n",
       "      <th>4</th>\n",
       "      <td>1377316510939684883</td>\n",
       "      <td>NaN</td>\n",
       "      <td>FoxNews</td>\n",
       "      <td>san diego teachers given option to teach migra...</td>\n",
       "      <td>311</td>\n",
       "      <td>-0.051989</td>\n",
       "      <td>0.463370</td>\n",
       "      <td>high</td>\n",
       "      <td>1.0</td>\n",
       "    </tr>\n",
       "  </tbody>\n",
       "</table>\n",
       "</div>"
      ],
      "text/plain": [
       "                    id  topic   source  \\\n",
       "0  1377384607969013765    NaN  FoxNews   \n",
       "1  1377367836046192641    NaN  FoxNews   \n",
       "2  1377339316616097797    NaN  FoxNews   \n",
       "3  1377319049487642625    NaN  FoxNews   \n",
       "4  1377316510939684883    NaN  FoxNews   \n",
       "\n",
       "                                                text  replyCount  vaderMean  \\\n",
       "0  border patrol video shows smugglers abandoning...         108  -0.045958   \n",
       "1  gop rep urges hhs to halt reported plan to rel...          80   0.043459   \n",
       "2    see it  nasas curiosity rover takes mars selfie          17   0.052776   \n",
       "3  trump moving forward with plans to start socia...        1147   0.005348   \n",
       "4  san diego teachers given option to teach migra...         311  -0.051989   \n",
       "\n",
       "   vaderStd vaderCatLabel  vaderCat  \n",
       "0  0.495337          high       1.0  \n",
       "1  0.495874          high       1.0  \n",
       "2  0.322931           low       0.0  \n",
       "3  0.451982          high       1.0  \n",
       "4  0.463370          high       1.0  "
      ]
     },
     "execution_count": 4,
     "metadata": {},
     "output_type": "execute_result"
    }
   ],
   "source": [
    "tweets = pd.read_csv('data/tweets_all.csv')\n",
    "tweets = tweets[tweets.text.notnull()]\n",
    "print(tweets.shape)\n",
    "tweets.head()"
   ]
  },
  {
   "cell_type": "code",
   "execution_count": 5,
   "metadata": {},
   "outputs": [
    {
     "data": {
      "text/plain": [
       "array([1., 0.])"
      ]
     },
     "execution_count": 5,
     "metadata": {},
     "output_type": "execute_result"
    }
   ],
   "source": [
    "tweets.vaderCat.unique()"
   ]
  },
  {
   "cell_type": "markdown",
   "metadata": {},
   "source": [
    "### 0.1 What is the max number of words for a given tweet in the dataset? \n",
    "This will be used as the fix length of a sentence in our model "
   ]
  },
  {
   "cell_type": "code",
   "execution_count": 6,
   "metadata": {},
   "outputs": [
    {
     "name": "stdout",
     "output_type": "stream",
     "text": [
      "Max number of words for a given tweet in the Dataset:\n",
      "56\n"
     ]
    }
   ],
   "source": [
    "print('Max number of words for a given tweet in the Dataset:')\n",
    "max_len = tweets.text.apply(lambda x: len(x.split())).max()\n",
    "print(max_len)"
   ]
  },
  {
   "cell_type": "code",
   "execution_count": 7,
   "metadata": {},
   "outputs": [
    {
     "name": "stdout",
     "output_type": "stream",
     "text": [
      "vaderCatLabel\n",
      "high    9007\n",
      "low     6207\n",
      "dtype: int64\n",
      "observations for filtered data:15214\n"
     ]
    }
   ],
   "source": [
    "t= tweets[(tweets.replyCount <=60)].groupby('vaderCatLabel').size()\n",
    "print(t)\n",
    "print(\"observations for filtered data:{}\".format(t.sum()))"
   ]
  },
  {
   "cell_type": "markdown",
   "metadata": {},
   "source": [
    "### 0.1 What data to use? Filter by topic? By number of replies? Use all?\n",
    "\n",
    "I proposed to filter by number of replies, as we get a more balanced data with this filter. "
   ]
  },
  {
   "cell_type": "code",
   "execution_count": 8,
   "metadata": {},
   "outputs": [],
   "source": [
    "data_to_use = tweets[(tweets.replyCount <=60)]"
   ]
  },
  {
   "cell_type": "markdown",
   "metadata": {},
   "source": [
    "## 1. Convert to Pytorch Data Objects"
   ]
  },
  {
   "cell_type": "markdown",
   "metadata": {},
   "source": [
    "### 1.1 Data Class"
   ]
  },
  {
   "cell_type": "code",
   "execution_count": 9,
   "metadata": {},
   "outputs": [],
   "source": [
    "from dataclassCNN import ProjectDataset"
   ]
  },
  {
   "cell_type": "code",
   "execution_count": 10,
   "metadata": {},
   "outputs": [],
   "source": [
    "data_obj = ProjectDataset(data_to_use, 'vaderCat', 'text')"
   ]
  },
  {
   "cell_type": "markdown",
   "metadata": {},
   "source": [
    "## 2. Get Vocabulary and Pre-trained Vectors"
   ]
  },
  {
   "cell_type": "markdown",
   "metadata": {},
   "source": [
    "### Vocabulary from dataset"
   ]
  },
  {
   "cell_type": "code",
   "execution_count": 11,
   "metadata": {},
   "outputs": [
    {
     "name": "stdout",
     "output_type": "stream",
     "text": [
      "The vocabulary length is 19204 words\n"
     ]
    }
   ],
   "source": [
    "from collections import Counter\n",
    "from torchtext.vocab import Vocab\n",
    "\n",
    "\n",
    "counter_words = Counter()\n",
    "for (label, text) in data_obj:\n",
    "    counter_words.update(text)\n",
    "    \n",
    "vocab_words = Vocab(counter_words)\n",
    "\n",
    "print('The vocabulary length is {} words'.format(len(vocab_words)))"
   ]
  },
  {
   "cell_type": "markdown",
   "metadata": {},
   "source": [
    "### Load Pre-trained vectors (e.g. GloVe or FastText) and get the pre-trained vectors from vocabulary"
   ]
  },
  {
   "cell_type": "code",
   "execution_count": 12,
   "metadata": {},
   "outputs": [],
   "source": [
    "VECTORS_CACHE_DIR = './.vector_cache'"
   ]
  },
  {
   "cell_type": "code",
   "execution_count": 13,
   "metadata": {},
   "outputs": [],
   "source": [
    "from torchtext import vocab\n",
    "\n",
    "fastText = vocab.FastText(language='en',cache=VECTORS_CACHE_DIR)\n",
    "\n",
    "pre_trained_vectors = fastText.get_vecs_by_tokens(vocab_words.itos)"
   ]
  },
  {
   "cell_type": "markdown",
   "metadata": {},
   "source": [
    "## 3. Collate Function for CNN Model\n",
    "\n",
    "We are going to use the pre-trained embeddings and construct a `max_len` (53) long vector of embeddings, adding the `<pad>` word vector to the end for the tweets (sentences) that do not have the full `max_len`. "
   ]
  },
  {
   "cell_type": "code",
   "execution_count": 14,
   "metadata": {},
   "outputs": [],
   "source": [
    "def collate_for_cnn(batch, max_len=max_len):\n",
    "    '''\n",
    "    For each batch, develop the appropiate inputs from the models (i.e. embeddings)\n",
    "    '''\n",
    "    input_vector = []\n",
    "    labels = []\n",
    "    for i, (label, tokenized_sent) in enumerate(batch):\n",
    "        \n",
    "        #Append labels \n",
    "        labels.append(label)\n",
    "        \n",
    "        #Get tokenized sentence\n",
    "        tokenized_sent += ['<pad>'] * (max_len - len(tokenized_sent))\n",
    "        \n",
    "        wordstoidx = [vocab_words.stoi[w] for w in tokenized_sent]\n",
    "        input_vector.append(wordstoidx)\n",
    "    \n",
    "    return torch.tensor(labels).to(device), torch.tensor(input_vector).to(device)"
   ]
  },
  {
   "cell_type": "markdown",
   "metadata": {},
   "source": [
    "## 4. Setting up Train, Validation, Test set and DataLoader Class"
   ]
  },
  {
   "cell_type": "code",
   "execution_count": 15,
   "metadata": {},
   "outputs": [],
   "source": [
    "from torch.utils.data import DataLoader"
   ]
  },
  {
   "cell_type": "code",
   "execution_count": 16,
   "metadata": {},
   "outputs": [],
   "source": [
    "from sklearn.model_selection import train_test_split\n",
    "\n",
    "# Train with Validation Data and Test Data Split\n",
    "train_val_texts, test_texts, train_val_labels, test_labels = train_test_split(\n",
    "    data_to_use['text'], data_to_use['vaderCat'], test_size=0.1, random_state=42)\n",
    "\n",
    "#Train and Validation Split\n",
    "train_texts, val_texts, train_labels, val_labels = train_test_split(\n",
    "    train_val_texts, train_val_labels, test_size=0.1, random_state=42)"
   ]
  },
  {
   "cell_type": "code",
   "execution_count": 17,
   "metadata": {},
   "outputs": [],
   "source": [
    "def data_loader(train_tuple, val_tuple, test_tuple,\n",
    "                batch_size=30):\n",
    "    \"\"\"Convert train, validation and test sets into Dataloaders :)\n",
    "    \"\"\"\n",
    "\n",
    "    # Create DataLoader for training data\n",
    "    train_data = ProjectDataset(train_tuple)\n",
    "    train_dataloader = DataLoader(train_data, shuffle=True,\n",
    "                                  batch_size=batch_size, \n",
    "                                 collate_fn=collate_for_cnn)\n",
    "    \n",
    "    # Create DataLoader for validation data\n",
    "    valid_data = ProjectDataset(val_tuple)\n",
    "    val_dataloader = DataLoader(valid_data, shuffle=False,\n",
    "                                  batch_size=batch_size, \n",
    "                                 collate_fn=collate_for_cnn)\n",
    "\n",
    "    # Create DataLoader for test data\n",
    "    test_data = ProjectDataset(test_tuple)\n",
    "    test_dataloader = DataLoader(test_data, shuffle=False,\n",
    "                                  batch_size=batch_size, \n",
    "                                 collate_fn=collate_for_cnn)\n",
    "\n",
    "    return train_dataloader, val_dataloader, test_dataloader"
   ]
  },
  {
   "cell_type": "code",
   "execution_count": 18,
   "metadata": {},
   "outputs": [],
   "source": [
    "train_dataloader, val_dataloader, test_dataloader = data_loader([train_labels, train_texts],\n",
    "                                                               [val_labels, val_texts],\n",
    "                                                               [test_labels, test_texts])"
   ]
  },
  {
   "cell_type": "code",
   "execution_count": 19,
   "metadata": {},
   "outputs": [
    {
     "name": "stdout",
     "output_type": "stream",
     "text": [
      "torch.Size([30, 56])\n"
     ]
    }
   ],
   "source": [
    "for i in train_dataloader:\n",
    "    labels, inputs = i[0], i[1]\n",
    "    print(inputs.shape)\n",
    "    break"
   ]
  },
  {
   "cell_type": "markdown",
   "metadata": {},
   "source": [
    "## 5. Model Building: CNN Arquitecture\n",
    "\n",
    "explanation here\n"
   ]
  },
  {
   "cell_type": "code",
   "execution_count": 20,
   "metadata": {},
   "outputs": [],
   "source": [
    "FILTER_SIZES = [3,4,5]\n",
    "N_FILTERS = 100\n",
    "DROPOUT = 0.5\n",
    "PAD_IDX = vocab_words.stoi['<pad>']\n",
    "num_classes = 3 #Low, Medium, High"
   ]
  },
  {
   "cell_type": "markdown",
   "metadata": {},
   "source": [
    "### 5.1 CNN Model Class"
   ]
  },
  {
   "cell_type": "code",
   "execution_count": 21,
   "metadata": {},
   "outputs": [],
   "source": [
    "import torch\n",
    "import torch.nn as nn\n",
    "import torch.nn.functional as F\n",
    "\n",
    "class CNN_polarization(nn.Module):\n",
    "    ''' An 1D Convulational Neural Network for Sentence Classification'''\n",
    "    \n",
    "    def __init__(self, pretrained_embedding=None, freeze_embedding=False,\n",
    "                 vocab_size=None, embed_dim=None,\n",
    "                 filter_sizes=FILTER_SIZES, num_filters=N_FILTERS,\n",
    "                 num_classes=num_classes,pad_id=PAD_IDX,\n",
    "                 dropout=DROPOUT):\n",
    "        \"\"\"\n",
    "        pretrained_embedding (torch.Tensor): Pretrained embeddings with\n",
    "                shape (vocab_size, embed_dim)\n",
    "            freeze_embedding (bool): Set to False to fine-tune pretraiend\n",
    "                vectors. Default: False\n",
    "            vocab_size (int): Need to be specified when not pretrained word\n",
    "                embeddings are not used.\n",
    "            embed_dim (int): Dimension of word vectors. Need to be specified\n",
    "                when pretrained word embeddings are not used. Default: 300\n",
    "            filter_sizes (List[int]): List of filter sizes. Default: [3, 4, 5]\n",
    "            num_filters (int): Number of filters. Default: 100\n",
    "            n_classes (int): Number of classes. Default: 3\n",
    "            dropout (float): Dropout rate. Default: 0.5\n",
    "        \"\"\"\n",
    "\n",
    "        super(CNN_polarization, self).__init__()\n",
    "        \n",
    "        # 1. Embedding layer\n",
    "        if pretrained_embedding is not None:\n",
    "            self.vocab_size, self.embed_dim = pretrained_embedding.shape\n",
    "            self.embedding = nn.Embedding.from_pretrained(pretrained_embedding,\n",
    "                                                          freeze=freeze_embedding)\n",
    "        else:\n",
    "            self.embed_dim = embed_dim\n",
    "            self.embedding = nn.Embedding(num_embeddings=vocab_size,\n",
    "                                          embedding_dim=self.embed_dim,\n",
    "                                          padding_idx= pad_id,\n",
    "                                          max_norm=5.0)\n",
    "        \n",
    "        # 2. Convolutional Layers (for each filter size --> n-gram)\n",
    "        self.convs = nn.ModuleList([\n",
    "                                    nn.Conv1d(in_channels = self.embed_dim,\n",
    "                                              out_channels = num_filters, \n",
    "                                              kernel_size = fs)\n",
    "                                    for fs in filter_sizes\n",
    "                                    ])\n",
    "        \n",
    "    \n",
    "        # 3. Fully-connected layer\n",
    "        self.linear = nn.Linear(in_features = len(filter_sizes) * num_filters, \n",
    "                                out_features = num_classes\n",
    "                               )\n",
    "        \n",
    "        \n",
    "        # Additional Feature\n",
    "        self.dropout = nn.Dropout(dropout)\n",
    "\n",
    "    def forward(self, inputs):\n",
    "\n",
    "        x_embedded = self.embedding(inputs)\n",
    "        \n",
    "        x_embedded = x_embedded.permute(0, 2, 1)\n",
    "        \n",
    "        # Apply CNN and ReLU\n",
    "        convs_list = [F.relu(conv(x_embedded)) for conv in self.convs]\n",
    "\n",
    "        # Max pooling.\n",
    "        pooled = [F.max_pool1d(x_conv, kernel_size=x_conv.shape[2]).squeeze(2)\n",
    "                  for x_conv in convs_list]\n",
    "        \n",
    "        # Concatenate Pool list to feed the fully connected layer\n",
    "        input_fc = self.dropout(torch.cat(pooled, dim = 1))\n",
    "        \n",
    "        # Compute probabilities\n",
    "        predictions_classes = self.linear(input_fc)\n",
    "        \n",
    "        return predictions_classes"
   ]
  },
  {
   "cell_type": "markdown",
   "metadata": {},
   "source": [
    "### 5.3 Training Function for one epoch"
   ]
  },
  {
   "cell_type": "code",
   "execution_count": 22,
   "metadata": {},
   "outputs": [],
   "source": [
    "\n",
    "def train_an_epoch(model, dataloader, loss_function, optimizer):\n",
    "    \n",
    "    model.train() # Sets the module in training mode.\n",
    "    total_loss = 0\n",
    "    \n",
    "    for idx, batch in enumerate(dataloader):\n",
    "        \n",
    "        # Load batch to GPU\n",
    "        labels, inputs = tuple(t.to(device) for t in batch)\n",
    "        \n",
    "        # Zero out any previously calculated gradients\n",
    "        model.zero_grad()\n",
    "        \n",
    "        #Perform a forward pass.\n",
    "        log_probs = model(inputs)\n",
    "        \n",
    "        # Compute loss and accumulate the loss values\n",
    "        loss = loss_function(log_probs, labels.long())\n",
    "        total_loss += loss.item()\n",
    "        \n",
    "        # Perform a backward pass to calculate gradients\n",
    "        loss.backward()\n",
    "        optimizer.step()\n",
    "    \n",
    "    return total_loss/len(dataloader)"
   ]
  },
  {
   "cell_type": "markdown",
   "metadata": {},
   "source": [
    "### 5.4 Evaluate Function"
   ]
  },
  {
   "cell_type": "code",
   "execution_count": 23,
   "metadata": {},
   "outputs": [],
   "source": [
    "def evaluate(model, dataloader, loss_fn):\n",
    "    '''\n",
    "    Evaluate the model on the given data (e.g. validation data or test data).\n",
    "    '''\n",
    "\n",
    "    #As we are now using dropout, we must remember to use model.eval() \n",
    "    #to ensure the dropout is \"turned off\" while evaluating.\n",
    "    model.eval()\n",
    "    \n",
    "    total_accuracy = []\n",
    "    total_loss = []\n",
    "    \n",
    "    with torch.no_grad():\n",
    "        # No gradients need to be maintained during evaluation\n",
    "        for i, batch in enumerate(dataloader):\n",
    "            \n",
    "            # Load batch to Device\n",
    "            labels, inputs = batch[0], batch[1]\n",
    "            if USE_CUDA:\n",
    "                labels, inputs = labels.cuda(), inputs.cuda()\n",
    "                \n",
    "            # Obtain probabilities of each class per sentence\n",
    "            output = model(inputs)\n",
    "            \n",
    "            # Compute loss\n",
    "            loss = loss_fn(output, labels.long())\n",
    "            total_loss.append(loss.item())\n",
    "            \n",
    "            # Get the predictions\n",
    "            preds = torch.argmax(output, dim=1).flatten()\n",
    "            \n",
    "            # Calculate the accuracy rate\n",
    "            accuracy = (preds == labels).sum()/len(preds)\n",
    "            total_accuracy.append(accuracy)\n",
    "            \n",
    "\n",
    "    return np.mean(total_loss), np.mean(total_accuracy)"
   ]
  },
  {
   "cell_type": "markdown",
   "metadata": {},
   "source": [
    "### 5.5 Complete Training Function (With early stopping for best model)"
   ]
  },
  {
   "cell_type": "code",
   "execution_count": 24,
   "metadata": {},
   "outputs": [],
   "source": [
    "import datetime\n",
    "\n",
    "def train_validate(model, optimizer, train_dataloader, val_dataloader, epochs=20):\n",
    "    \n",
    "    \"\"\"Train the CNN model.\"\"\"\n",
    "    \n",
    "    #Loss function\n",
    "    loss_function = nn.CrossEntropyLoss()\n",
    "    \n",
    "    # Tracking best model\n",
    "    val_losses = []\n",
    "    val_accuracies = []\n",
    "    best_model = None\n",
    "    \n",
    "    # Start training loop\n",
    "    print(\"Start training...\\n\")\n",
    "    print(f\"{'Epoch':^7} | {'Time Training(seconds)':^8} | {'Train Loss':^9} |{'Val Loss':^10} | {'Val Acc':^11}\")\n",
    "    print(\"-\"*80)\n",
    "\n",
    "    for epoch_i in range(epochs):\n",
    "        start_time = datetime.datetime.now()\n",
    "        # =======================================\n",
    "        #               Training\n",
    "        # =======================================\n",
    "        \n",
    "        avg_loss_train = train_an_epoch(model, train_dataloader, loss_function, optimizer)\n",
    "        \n",
    "        # =======================================\n",
    "        #               Evaluation\n",
    "        # =======================================\n",
    "        \n",
    "        val_loss, val_accuracy = evaluate(model, val_dataloader, loss_function)\n",
    "\n",
    "        # Track the best model\n",
    "        if len(val_losses) == 0 or val_loss < min(val_losses):\n",
    "            best_model = type(model)(pretrained_embedding=pre_trained_vectors, filter_sizes=filter_sizes,\n",
    "                                     num_filters=N_FILTERS, num_classes=num_classes)\n",
    "            best_model.load_state_dict(model.state_dict())\n",
    "            if USE_CUDA:\n",
    "                best_model = best_model.cuda()\n",
    "        \n",
    "        val_losses.append(val_loss)\n",
    "        val_accuracies.append(val_accuracy)\n",
    "        \n",
    "        time_diff = (datetime.datetime.now() - start_time).seconds\n",
    "        \n",
    "        print(f\"{epoch_i + 1:^7} |   {time_diff:^8}   | {avg_loss_train:^9} | {val_loss:^10} | {val_accuracy:^11}\")\n",
    "        print('')\n",
    "        \n",
    "    return best_model, val_accuracies"
   ]
  },
  {
   "cell_type": "markdown",
   "metadata": {},
   "source": [
    "# 6. Train the model"
   ]
  },
  {
   "cell_type": "code",
   "execution_count": 25,
   "metadata": {},
   "outputs": [],
   "source": [
    "num_classes = len(tweets.vaderCat.unique())\n",
    "filter_sizes = [2, 3, 4] # bi-grams, tri-grams, four-grams filters\n",
    "N_FILTERS = 100"
   ]
  },
  {
   "cell_type": "markdown",
   "metadata": {},
   "source": [
    "### 6.1 Initialize Model and Optimizer"
   ]
  },
  {
   "cell_type": "code",
   "execution_count": 26,
   "metadata": {},
   "outputs": [],
   "source": [
    "cnn_model = CNN_polarization(pretrained_embedding=pre_trained_vectors,\n",
    "                        freeze_embedding=False,\n",
    "                        filter_sizes=filter_sizes,\n",
    "                        num_filters=N_FILTERS,\n",
    "                        num_classes=num_classes,\n",
    "                        dropout=DROPOUT).to(device)"
   ]
  },
  {
   "cell_type": "code",
   "execution_count": 27,
   "metadata": {},
   "outputs": [],
   "source": [
    "learning_rate = 0.01\n",
    "optimizer = torch.optim.Adam(cnn_model.parameters(), \n",
    "                                 lr=learning_rate)"
   ]
  },
  {
   "cell_type": "code",
   "execution_count": 28,
   "metadata": {},
   "outputs": [
    {
     "name": "stdout",
     "output_type": "stream",
     "text": [
      "Start training...\n",
      "\n",
      " Epoch  | Time Training(seconds) | Train Loss | Val Loss  |   Val Acc  \n",
      "--------------------------------------------------------------------------------\n",
      "   1    |      50      | 0.7758350289651077 | 0.8032726282658784 | 0.5579710602760315\n",
      "\n",
      "   2    |      49      | 0.9843856543665095 | 1.1233881867450217 | 0.5626811981201172\n",
      "\n",
      "   3    |      49      | 1.1773551481338602 | 1.1170178379701532 | 0.534420371055603\n",
      "\n",
      "   4    |      51      | 1.0704283200911362 | 1.421078745437705 | 0.5565217733383179\n",
      "\n",
      "   5    |      51      | 0.9291904595501521 | 1.3448135684365812 | 0.5764493346214294\n",
      "\n",
      "   6    |      51      | 0.8707936991305247 | 1.6691948188387828 | 0.5536231398582458\n",
      "\n",
      "   7    |      51      | 0.8476259845451717 | 4.09337633718615 | 0.5692029595375061\n",
      "\n",
      "   8    |      51      | 1.0864061344133966 | 2.888662321412045 | 0.5597826838493347\n",
      "\n",
      "   9    |      50      | 0.9010111489435182 | 4.140311383682748 | 0.570652186870575\n",
      "\n",
      "  10    |      52      | 0.7588220664329483 | 5.994027154601139 | 0.5684782266616821\n",
      "\n",
      "  11    |      53      | 0.669918653666248 | 5.734249892442123 | 0.5746377110481262\n",
      "\n",
      "  12    |      50      | 0.6699376756692454 | 6.062541225682134 | 0.5742753744125366\n",
      "\n",
      "  13    |      49      | 0.7733350659373903 | 6.753984207692354 | 0.571739137172699\n",
      "\n",
      "  14    |      50      | 0.7461500153344333 | 11.140543011219606 | 0.5402173399925232\n",
      "\n",
      "  15    |      50      | 0.9088372555527374 | 13.934241942737414 | 0.5384057760238647\n",
      "\n",
      "  16    |      51      | 1.1707904468632673 | 18.841840206281 | 0.572826087474823\n",
      "\n",
      "  17    |      50      | 1.3504343669489933 | 19.071494979055032 | 0.5213767886161804\n",
      "\n",
      "  18    |      51      | 0.7547154367840203 | 14.125938770563707 | 0.5663043260574341\n",
      "\n",
      "  19    |      50      | 0.8129503875608282 | 14.395414171011552 | 0.5800724625587463\n",
      "\n",
      "  20    |      54      | 0.6421379030765988 | 18.999617929691855 | 0.5387681722640991\n",
      "\n"
     ]
    }
   ],
   "source": [
    "best_model, val_accuracies = train_validate(cnn_model, optimizer, \n",
    "                                            train_dataloader, val_dataloader, epochs=20)"
   ]
  },
  {
   "cell_type": "code",
   "execution_count": 29,
   "metadata": {},
   "outputs": [
    {
     "data": {
      "image/png": "[encoded data removed]",
      "text/plain": [
       "<Figure size 720x504 with 1 Axes>"
      ]
     },
     "metadata": {
      "needs_background": "light"
     },
     "output_type": "display_data"
    }
   ],
   "source": [
    "import matplotlib.pyplot as plt\n",
    "%matplotlib inline\n",
    "plt.figure(figsize=(10,7))\n",
    "plt.plot(range(1, len(val_accuracies)+1), val_accuracies, color='navy')\n",
    "plt.xlabel(\"Epochs\")\n",
    "plt.ylabel(\"Accuracy\")\n",
    "plt.title('Validation Accuracy of CNN Model', fontsize=14);"
   ]
  },
  {
   "cell_type": "markdown",
   "metadata": {},
   "source": [
    "## 7. Test the Best Model"
   ]
  },
  {
   "cell_type": "code",
   "execution_count": 30,
   "metadata": {},
   "outputs": [],
   "source": [
    "#Loss function\n",
    "loss_function = nn.CrossEntropyLoss()\n",
    "test_loss, test_accuracy = evaluate(best_model, test_dataloader, loss_function)"
   ]
  },
  {
   "cell_type": "code",
   "execution_count": 31,
   "metadata": {},
   "outputs": [
    {
     "data": {
      "text/plain": [
       "0.56892455"
      ]
     },
     "execution_count": 31,
     "metadata": {},
     "output_type": "execute_result"
    }
   ],
   "source": [
    "test_accuracy"
   ]
  },
  {
   "cell_type": "code",
   "execution_count": 32,
   "metadata": {},
   "outputs": [
    {
     "name": "stdout",
     "output_type": "stream",
     "text": [
      ":( shit\n"
     ]
    }
   ],
   "source": [
    "print(':( shit')"
   ]
  },
  {
   "cell_type": "markdown",
   "metadata": {},
   "source": [
    "## Feature importance "
   ]
  },
  {
   "cell_type": "markdown",
   "metadata": {},
   "source": [
    "### Integrated Gradient"
   ]
  },
  {
   "cell_type": "code",
   "execution_count": 43,
   "metadata": {},
   "outputs": [],
   "source": [
    "from captum.attr import IntegratedGradients, LayerIntegratedGradients, TokenReferenceBase, visualization\n",
    "from torchtext.data.utils import get_tokenizer\n",
    "tokenizer = get_tokenizer('basic_english')"
   ]
  },
  {
   "cell_type": "code",
   "execution_count": 34,
   "metadata": {},
   "outputs": [
    {
     "data": {
      "text/plain": [
       "1831           this sea slug just ripped off its own head \n",
       "14258    eu institutions experienced hack attempt in ma...\n",
       "10866    turkish court opens trial of pro kurdish party...\n",
       "17829    in opinion fact checked a list of donald trump...\n",
       "12965    biden proposes summit with putin amid tensions...\n",
       "                               ...                        \n",
       "2359     myanmars suu kyi healthy has discussed only le...\n",
       "14791    ex officer derek chauvin used totally unnecess...\n",
       "17223    in wisconsin biden meets with family of shooti...\n",
       "19358    the former fbi director james comey testifying...\n",
       "18361    biden  voting for climate arsonist trump could...\n",
       "Name: text, Length: 1522, dtype: object"
      ]
     },
     "execution_count": 34,
     "metadata": {},
     "output_type": "execute_result"
    }
   ],
   "source": [
    "test_texts"
   ]
  },
  {
   "cell_type": "code",
   "execution_count": 36,
   "metadata": {},
   "outputs": [
    {
     "data": {
      "text/plain": [
       "1831     0.0\n",
       "14258    0.0\n",
       "10866    1.0\n",
       "17829    1.0\n",
       "12965    0.0\n",
       "        ... \n",
       "2359     1.0\n",
       "14791    1.0\n",
       "17223    1.0\n",
       "19358    1.0\n",
       "18361    1.0\n",
       "Name: vaderCat, Length: 1522, dtype: float64"
      ]
     },
     "execution_count": 36,
     "metadata": {},
     "output_type": "execute_result"
    }
   ],
   "source": [
    "test_labels"
   ]
  },
  {
   "cell_type": "code",
   "execution_count": 37,
   "metadata": {},
   "outputs": [],
   "source": [
    "forward_func = lambda x: F.softmax(best_model(x), dim=-1)\n",
    "lig = LayerIntegratedGradients(forward_func, best_model.embedding)\n",
    "token_reference = TokenReferenceBase(reference_token_idx=PAD_IDX)"
   ]
  },
  {
   "cell_type": "code",
   "execution_count": 64,
   "metadata": {},
   "outputs": [],
   "source": [
    "vis_data_records_ig = []\n",
    "\n",
    "def int_gradient(text, true_label, target_label=0, max_len=max_len):\n",
    "    print(text)\n",
    "    words = tokenizer(text)\n",
    "    if len(words) < max_len:\n",
    "        words += ['<pad>'] * (max_len - len(words))\n",
    "    tokens = [vocab_words.stoi[w] for w in words]\n",
    "    print(tokens)\n",
    "    \n",
    "    best_model.zero_grad()\n",
    "    input_indices = torch.tensor(tokens, device=device)\n",
    "    input_indices = input_indices.unsqueeze(0)\n",
    "    #print(input_indices)\n",
    "    \n",
    "    # predict\n",
    "    probs = forward_func(input_indices)\n",
    "    print(probs)\n",
    "    pred = torch.argmax(probs).item()\n",
    "    pred_prob = probs.tolist()[0][pred]\n",
    "    \n",
    "    # generate reference indices for each sample\n",
    "    reference_indices = token_reference.generate_reference(max_len, device=device).unsqueeze(0)\n",
    "    #print(reference_indices)\n",
    "    \n",
    "    # compute attributions and approximation delta using layer integrated gradients\n",
    "    attributions_ig, delta = lig.attribute(input_indices, reference_indices, \\\n",
    "                                           n_steps=500, target=target_label, return_convergence_delta=True)\n",
    "    \n",
    "    print('pred: ', pred, '(', '%.2f'%pred_prob, ')', ', delta: ', abs(delta.tolist()[0]))   \n",
    "    add_attributions_to_visualizer(attributions_ig, tokenizer(text), pred_prob, pred, true_label, delta, target_label, vis_data_records_ig)\n",
    "\n",
    "def add_attributions_to_visualizer(attributions, text, pred_prob, pred, label, delta, target, vis_data_records):\n",
    "    attributions = attributions.sum(dim=2).squeeze(0)\n",
    "    attributions = attributions / torch.norm(attributions)\n",
    "    attributions = attributions.cpu().detach().numpy()\n",
    "    print(label)\n",
    "    true_label = 'High' if int(label) == 1 else 'Low'\n",
    "    pred_label = 'High' if int(pred) == 1 else 'Low'\n",
    "    target_label = 'High' if int(target) == 1 else 'Low'\n",
    "    \n",
    "    # storing couple samples in an array for visualization purposes\n",
    "    vis_data_records.append(visualization.VisualizationDataRecord(\n",
    "                            attributions,\n",
    "                            pred_prob,\n",
    "                            pred_label,\n",
    "                            true_label,\n",
    "                            target_label,\n",
    "                            attributions.sum(),       \n",
    "                            text,\n",
    "                            delta))"
   ]
  },
  {
   "cell_type": "code",
   "execution_count": 67,
   "metadata": {},
   "outputs": [
    {
     "name": "stdout",
     "output_type": "stream",
     "text": [
      "this sea slug just ripped off its own head \n",
      "[46, 483, 7412, 205, 4535, 137, 33, 304, 539, 1, 1, 1, 1, 1, 1, 1, 1, 1, 1, 1, 1, 1, 1, 1, 1, 1, 1, 1, 1, 1, 1, 1, 1, 1, 1, 1, 1, 1, 1, 1, 1, 1, 1, 1, 1, 1, 1, 1, 1, 1, 1, 1, 1, 1, 1, 1]\n",
      "tensor([[0.4566, 0.5434]], grad_fn=<SoftmaxBackward>)\n",
      "pred:  1 ( 0.54 ) , delta:  5.280576204227255e-05\n",
      "0.0\n",
      "myanmars suu kyi healthy has discussed only legal case  lawyer\n",
      "[518, 2170, 2445, 3216, 26, 3415, 245, 849, 250, 625, 1, 1, 1, 1, 1, 1, 1, 1, 1, 1, 1, 1, 1, 1, 1, 1, 1, 1, 1, 1, 1, 1, 1, 1, 1, 1, 1, 1, 1, 1, 1, 1, 1, 1, 1, 1, 1, 1, 1, 1, 1, 1, 1, 1, 1, 1]\n",
      "tensor([[0.0024, 0.9976]], grad_fn=<SoftmaxBackward>)\n",
      "pred:  1 ( 1.00 ) , delta:  0.0010448404045430015\n",
      "1.0\n",
      "biden proposes summit with putin amid tensions over ukraine\n",
      "[24, 2248, 650, 14, 616, 215, 871, 41, 376, 1, 1, 1, 1, 1, 1, 1, 1, 1, 1, 1, 1, 1, 1, 1, 1, 1, 1, 1, 1, 1, 1, 1, 1, 1, 1, 1, 1, 1, 1, 1, 1, 1, 1, 1, 1, 1, 1, 1, 1, 1, 1, 1, 1, 1, 1, 1]\n",
      "tensor([[0.4489, 0.5511]], grad_fn=<SoftmaxBackward>)\n",
      "pred:  1 ( 0.55 ) , delta:  0.00010981268567999969\n",
      "0.0\n",
      "eu institutions experienced hack attempt in march  spokesman\n",
      "[143, 3470, 4377, 6930, 969, 6, 373, 1642, 1, 1, 1, 1, 1, 1, 1, 1, 1, 1, 1, 1, 1, 1, 1, 1, 1, 1, 1, 1, 1, 1, 1, 1, 1, 1, 1, 1, 1, 1, 1, 1, 1, 1, 1, 1, 1, 1, 1, 1, 1, 1, 1, 1, 1, 1, 1, 1]\n",
      "tensor([[0.5170, 0.4830]], grad_fn=<SoftmaxBackward>)\n",
      "pred:  0 ( 0.52 ) , delta:  8.238409677150185e-05\n",
      "0.0\n"
     ]
    }
   ],
   "source": [
    "int_gradient(test_texts[1831], test_labels[1831])\n",
    "int_gradient(test_texts[2359], test_labels[2359])\n",
    "int_gradient(test_texts[12965], test_labels[12965])\n",
    "int_gradient(test_texts[14258], test_labels[14258])\n",
    "\n",
    "#[0.3047, 0.4705, 0.2248]"
   ]
  },
  {
   "cell_type": "code",
   "execution_count": 68,
   "metadata": {},
   "outputs": [
    {
     "name": "stdout",
     "output_type": "stream",
     "text": [
      "Visualize attributions based on Integrated Gradients\n"
     ]
    },
    {
     "data": {
      "text/html": [
       "<table width: 100%><div style=\"border-top: 1px solid; margin-top: 5px;             padding-top: 5px; display: inline-block\"><b>Legend: </b><span style=\"display: inline-block; width: 10px; height: 10px;                 border: 1px solid; background-color:                 hsl(0, 75%, 60%)\"></span> Negative  <span style=\"display: inline-block; width: 10px; height: 10px;                 border: 1px solid; background-color:                 hsl(0, 75%, 100%)\"></span> Neutral  <span style=\"display: inline-block; width: 10px; height: 10px;                 border: 1px solid; background-color:                 hsl(120, 75%, 50%)\"></span> Positive  </div><tr><th>True Label</th><th>Predicted Label</th><th>Attribution Label</th><th>Attribution Score</th><th>Word Importance</th><tr><td><text style=\"padding-right:2em\"><b>Low</b></text></td><td><text style=\"padding-right:2em\"><b>High (0.54)</b></text></td><td><text style=\"padding-right:2em\"><b>Low</b></text></td><td><text style=\"padding-right:2em\"><b>-1.88</b></text></td><td><mark style=\"background-color: hsl(0, 75%, 72%); opacity:1.0;                     line-height:1.75\"><font color=\"black\"> this                    </font></mark><mark style=\"background-color: hsl(0, 75%, 90%); opacity:1.0;                     line-height:1.75\"><font color=\"black\"> sea                    </font></mark><mark style=\"background-color: hsl(0, 75%, 77%); opacity:1.0;                     line-height:1.75\"><font color=\"black\"> slug                    </font></mark><mark style=\"background-color: hsl(0, 75%, 98%); opacity:1.0;                     line-height:1.75\"><font color=\"black\"> just                    </font></mark><mark style=\"background-color: hsl(0, 75%, 91%); opacity:1.0;                     line-height:1.75\"><font color=\"black\"> ripped                    </font></mark><mark style=\"background-color: hsl(0, 75%, 100%); opacity:1.0;                     line-height:1.75\"><font color=\"black\"> off                    </font></mark><mark style=\"background-color: hsl(0, 75%, 100%); opacity:1.0;                     line-height:1.75\"><font color=\"black\"> its                    </font></mark><mark style=\"background-color: hsl(0, 75%, 100%); opacity:1.0;                     line-height:1.75\"><font color=\"black\"> own                    </font></mark><mark style=\"background-color: hsl(0, 75%, 100%); opacity:1.0;                     line-height:1.75\"><font color=\"black\"> head                    </font></mark></td><tr><tr><td><text style=\"padding-right:2em\"><b>High</b></text></td><td><text style=\"padding-right:2em\"><b>High (1.00)</b></text></td><td><text style=\"padding-right:2em\"><b>Low</b></text></td><td><text style=\"padding-right:2em\"><b>-1.77</b></text></td><td><mark style=\"background-color: hsl(0, 75%, 98%); opacity:1.0;                     line-height:1.75\"><font color=\"black\"> myanmars                    </font></mark><mark style=\"background-color: hsl(0, 75%, 76%); opacity:1.0;                     line-height:1.75\"><font color=\"black\"> suu                    </font></mark><mark style=\"background-color: hsl(0, 75%, 75%); opacity:1.0;                     line-height:1.75\"><font color=\"black\"> kyi                    </font></mark><mark style=\"background-color: hsl(0, 75%, 83%); opacity:1.0;                     line-height:1.75\"><font color=\"black\"> healthy                    </font></mark><mark style=\"background-color: hsl(0, 75%, 100%); opacity:1.0;                     line-height:1.75\"><font color=\"black\"> has                    </font></mark><mark style=\"background-color: hsl(0, 75%, 100%); opacity:1.0;                     line-height:1.75\"><font color=\"black\"> discussed                    </font></mark><mark style=\"background-color: hsl(0, 75%, 100%); opacity:1.0;                     line-height:1.75\"><font color=\"black\"> only                    </font></mark><mark style=\"background-color: hsl(0, 75%, 100%); opacity:1.0;                     line-height:1.75\"><font color=\"black\"> legal                    </font></mark><mark style=\"background-color: hsl(0, 75%, 100%); opacity:1.0;                     line-height:1.75\"><font color=\"black\"> case                    </font></mark><mark style=\"background-color: hsl(0, 75%, 100%); opacity:1.0;                     line-height:1.75\"><font color=\"black\"> lawyer                    </font></mark></td><tr><tr><td><text style=\"padding-right:2em\"><b>Low</b></text></td><td><text style=\"padding-right:2em\"><b>High (0.55)</b></text></td><td><text style=\"padding-right:2em\"><b>Low</b></text></td><td><text style=\"padding-right:2em\"><b>-1.35</b></text></td><td><mark style=\"background-color: hsl(0, 75%, 100%); opacity:1.0;                     line-height:1.75\"><font color=\"black\"> biden                    </font></mark><mark style=\"background-color: hsl(0, 75%, 100%); opacity:1.0;                     line-height:1.75\"><font color=\"black\"> proposes                    </font></mark><mark style=\"background-color: hsl(0, 75%, 100%); opacity:1.0;                     line-height:1.75\"><font color=\"black\"> summit                    </font></mark><mark style=\"background-color: hsl(0, 75%, 100%); opacity:1.0;                     line-height:1.75\"><font color=\"black\"> with                    </font></mark><mark style=\"background-color: hsl(0, 75%, 96%); opacity:1.0;                     line-height:1.75\"><font color=\"black\"> putin                    </font></mark><mark style=\"background-color: hsl(120, 75%, 100%); opacity:1.0;                     line-height:1.75\"><font color=\"black\"> amid                    </font></mark><mark style=\"background-color: hsl(0, 75%, 63%); opacity:1.0;                     line-height:1.75\"><font color=\"black\"> tensions                    </font></mark><mark style=\"background-color: hsl(0, 75%, 89%); opacity:1.0;                     line-height:1.75\"><font color=\"black\"> over                    </font></mark><mark style=\"background-color: hsl(0, 75%, 100%); opacity:1.0;                     line-height:1.75\"><font color=\"black\"> ukraine                    </font></mark></td><tr><tr><td><text style=\"padding-right:2em\"><b>Low</b></text></td><td><text style=\"padding-right:2em\"><b>High (0.54)</b></text></td><td><text style=\"padding-right:2em\"><b>Low</b></text></td><td><text style=\"padding-right:2em\"><b>-1.88</b></text></td><td><mark style=\"background-color: hsl(0, 75%, 72%); opacity:1.0;                     line-height:1.75\"><font color=\"black\"> this                    </font></mark><mark style=\"background-color: hsl(0, 75%, 90%); opacity:1.0;                     line-height:1.75\"><font color=\"black\"> sea                    </font></mark><mark style=\"background-color: hsl(0, 75%, 77%); opacity:1.0;                     line-height:1.75\"><font color=\"black\"> slug                    </font></mark><mark style=\"background-color: hsl(0, 75%, 98%); opacity:1.0;                     line-height:1.75\"><font color=\"black\"> just                    </font></mark><mark style=\"background-color: hsl(0, 75%, 91%); opacity:1.0;                     line-height:1.75\"><font color=\"black\"> ripped                    </font></mark><mark style=\"background-color: hsl(0, 75%, 100%); opacity:1.0;                     line-height:1.75\"><font color=\"black\"> off                    </font></mark><mark style=\"background-color: hsl(0, 75%, 100%); opacity:1.0;                     line-height:1.75\"><font color=\"black\"> its                    </font></mark><mark style=\"background-color: hsl(0, 75%, 100%); opacity:1.0;                     line-height:1.75\"><font color=\"black\"> own                    </font></mark><mark style=\"background-color: hsl(0, 75%, 100%); opacity:1.0;                     line-height:1.75\"><font color=\"black\"> head                    </font></mark></td><tr><tr><td><text style=\"padding-right:2em\"><b>High</b></text></td><td><text style=\"padding-right:2em\"><b>High (1.00)</b></text></td><td><text style=\"padding-right:2em\"><b>Low</b></text></td><td><text style=\"padding-right:2em\"><b>-1.77</b></text></td><td><mark style=\"background-color: hsl(0, 75%, 98%); opacity:1.0;                     line-height:1.75\"><font color=\"black\"> myanmars                    </font></mark><mark style=\"background-color: hsl(0, 75%, 76%); opacity:1.0;                     line-height:1.75\"><font color=\"black\"> suu                    </font></mark><mark style=\"background-color: hsl(0, 75%, 75%); opacity:1.0;                     line-height:1.75\"><font color=\"black\"> kyi                    </font></mark><mark style=\"background-color: hsl(0, 75%, 83%); opacity:1.0;                     line-height:1.75\"><font color=\"black\"> healthy                    </font></mark><mark style=\"background-color: hsl(0, 75%, 100%); opacity:1.0;                     line-height:1.75\"><font color=\"black\"> has                    </font></mark><mark style=\"background-color: hsl(0, 75%, 100%); opacity:1.0;                     line-height:1.75\"><font color=\"black\"> discussed                    </font></mark><mark style=\"background-color: hsl(0, 75%, 100%); opacity:1.0;                     line-height:1.75\"><font color=\"black\"> only                    </font></mark><mark style=\"background-color: hsl(0, 75%, 100%); opacity:1.0;                     line-height:1.75\"><font color=\"black\"> legal                    </font></mark><mark style=\"background-color: hsl(0, 75%, 100%); opacity:1.0;                     line-height:1.75\"><font color=\"black\"> case                    </font></mark><mark style=\"background-color: hsl(0, 75%, 100%); opacity:1.0;                     line-height:1.75\"><font color=\"black\"> lawyer                    </font></mark></td><tr><tr><td><text style=\"padding-right:2em\"><b>Low</b></text></td><td><text style=\"padding-right:2em\"><b>High (0.55)</b></text></td><td><text style=\"padding-right:2em\"><b>Low</b></text></td><td><text style=\"padding-right:2em\"><b>-1.35</b></text></td><td><mark style=\"background-color: hsl(0, 75%, 100%); opacity:1.0;                     line-height:1.75\"><font color=\"black\"> biden                    </font></mark><mark style=\"background-color: hsl(0, 75%, 100%); opacity:1.0;                     line-height:1.75\"><font color=\"black\"> proposes                    </font></mark><mark style=\"background-color: hsl(0, 75%, 100%); opacity:1.0;                     line-height:1.75\"><font color=\"black\"> summit                    </font></mark><mark style=\"background-color: hsl(0, 75%, 100%); opacity:1.0;                     line-height:1.75\"><font color=\"black\"> with                    </font></mark><mark style=\"background-color: hsl(0, 75%, 96%); opacity:1.0;                     line-height:1.75\"><font color=\"black\"> putin                    </font></mark><mark style=\"background-color: hsl(120, 75%, 100%); opacity:1.0;                     line-height:1.75\"><font color=\"black\"> amid                    </font></mark><mark style=\"background-color: hsl(0, 75%, 63%); opacity:1.0;                     line-height:1.75\"><font color=\"black\"> tensions                    </font></mark><mark style=\"background-color: hsl(0, 75%, 89%); opacity:1.0;                     line-height:1.75\"><font color=\"black\"> over                    </font></mark><mark style=\"background-color: hsl(0, 75%, 100%); opacity:1.0;                     line-height:1.75\"><font color=\"black\"> ukraine                    </font></mark></td><tr><tr><td><text style=\"padding-right:2em\"><b>Low</b></text></td><td><text style=\"padding-right:2em\"><b>Low (0.52)</b></text></td><td><text style=\"padding-right:2em\"><b>Low</b></text></td><td><text style=\"padding-right:2em\"><b>1.12</b></text></td><td><mark style=\"background-color: hsl(120, 75%, 98%); opacity:1.0;                     line-height:1.75\"><font color=\"black\"> eu                    </font></mark><mark style=\"background-color: hsl(120, 75%, 71%); opacity:1.0;                     line-height:1.75\"><font color=\"black\"> institutions                    </font></mark><mark style=\"background-color: hsl(120, 75%, 90%); opacity:1.0;                     line-height:1.75\"><font color=\"black\"> experienced                    </font></mark><mark style=\"background-color: hsl(120, 75%, 90%); opacity:1.0;                     line-height:1.75\"><font color=\"black\"> hack                    </font></mark><mark style=\"background-color: hsl(0, 75%, 77%); opacity:1.0;                     line-height:1.75\"><font color=\"black\"> attempt                    </font></mark><mark style=\"background-color: hsl(0, 75%, 100%); opacity:1.0;                     line-height:1.75\"><font color=\"black\"> in                    </font></mark><mark style=\"background-color: hsl(120, 75%, 79%); opacity:1.0;                     line-height:1.75\"><font color=\"black\"> march                    </font></mark><mark style=\"background-color: hsl(120, 75%, 90%); opacity:1.0;                     line-height:1.75\"><font color=\"black\"> spokesman                    </font></mark></td><tr></table>"
      ],
      "text/plain": [
       "<IPython.core.display.HTML object>"
      ]
     },
     "metadata": {},
     "output_type": "display_data"
    }
   ],
   "source": [
    "print('Visualize attributions based on Integrated Gradients')\n",
    "_ = visualization.visualize_text(vis_data_records_ig)"
   ]
  },
  {
   "cell_type": "code",
   "execution_count": 62,
   "metadata": {},
   "outputs": [],
   "source": [
    "# check predictons(same probabilities??)\n",
    "@torch.no_grad()\n",
    "def get_all_preds(model, loader):\n",
    "    all_preds = torch.tensor([])\n",
    "    for batch in loader:\n",
    "        labels, text = batch\n",
    "        preds = model(text)\n",
    "        all_preds = torch.cat(\n",
    "            (all_preds, preds)\n",
    "            ,dim=0\n",
    "        )\n",
    "    return F.softmax(all_preds, dim=1)\n",
    "\n",
    "preds = get_all_preds(best_model, test_dataloader)"
   ]
  },
  {
   "cell_type": "markdown",
   "metadata": {},
   "source": [
    "# Occlusion"
   ]
  },
  {
   "cell_type": "code",
   "execution_count": null,
   "metadata": {},
   "outputs": [],
   "source": [
    "from captum.attr import Occlusion\n",
    "\n",
    "occlusion = Occlusion(forward_func)"
   ]
  },
  {
   "cell_type": "code",
   "execution_count": null,
   "metadata": {},
   "outputs": [],
   "source": [
    "def occ(text, max_len=max_len):\n",
    "    words = text.split()\n",
    "    if len(words) < max_len:\n",
    "        words += ['<pad>'] * (max_len - len(words))\n",
    "    tokens = [vocab_words.stoi[w] for w in words]\n",
    "    \n",
    "    best_model.zero_grad()\n",
    "    input_indices = torch.tensor(tokens, device=device)\n",
    "    input_indices = input_indices.unsqueeze(0)\n",
    "    print(input_indices)\n",
    "    \n",
    "    # predict\n",
    "    probs = forward_func(input_indices)\n",
    "    pred = torch.argmax(probs).item()\n",
    "    \n",
    "    # generate reference indices for each sample\n",
    "    reference_indices = token_reference.generate_reference(max_len, device=device).unsqueeze(0)\n",
    "    #print(reference_indices)\n",
    "    \n",
    "    # compute attributions and approximation delta using layer integrated gradients\n",
    "    attributions_oc = occlusion.attribute(input_indices, target=pred, sliding_window_shapes = (53,))\n",
    "    \n",
    "    print('pred: ', pred, '(', '%.2f'%pred, ')', ', delta: ', )    \n",
    "    return attributions_oc"
   ]
  },
  {
   "cell_type": "code",
   "execution_count": null,
   "metadata": {},
   "outputs": [],
   "source": [
    "occ(train_texts[14113], max_len=max_len)"
   ]
  },
  {
   "cell_type": "code",
   "execution_count": null,
   "metadata": {},
   "outputs": [],
   "source": []
  }
 ],
 "metadata": {
  "kernelspec": {
   "display_name": "Python 3",
   "language": "python",
   "name": "python3"
  },
  "language_info": {
   "codemirror_mode": {
    "name": "ipython",
    "version": 3
   },
   "file_extension": ".py",
   "mimetype": "text/x-python",
   "name": "python",
   "nbconvert_exporter": "python",
   "pygments_lexer": "ipython3",
   "version": "3.7.7"
  }
 },
 "nbformat": 4,
 "nbformat_minor": 4
}
