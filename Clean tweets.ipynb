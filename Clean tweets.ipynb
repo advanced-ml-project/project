{
 "cells": [
  {
   "cell_type": "markdown",
   "metadata": {},
   "source": [
    "# Clean tweets"
   ]
  },
  {
   "cell_type": "code",
   "execution_count": 105,
   "metadata": {},
   "outputs": [],
   "source": [
    "import pandas as pd\n",
    "import zipfile\n",
    "import pre_processing as pp\n",
    "import nltk"
   ]
  },
  {
   "cell_type": "code",
   "execution_count": 111,
   "metadata": {},
   "outputs": [
    {
     "name": "stdout",
     "output_type": "stream",
     "text": [
      "(34301, 6)\n"
     ]
    },
    {
     "data": {
      "text/html": [
       "<div>\n",
       "<style scoped>\n",
       "    .dataframe tbody tr th:only-of-type {\n",
       "        vertical-align: middle;\n",
       "    }\n",
       "\n",
       "    .dataframe tbody tr th {\n",
       "        vertical-align: top;\n",
       "    }\n",
       "\n",
       "    .dataframe thead th {\n",
       "        text-align: right;\n",
       "    }\n",
       "</style>\n",
       "<table border=\"1\" class=\"dataframe\">\n",
       "  <thead>\n",
       "    <tr style=\"text-align: right;\">\n",
       "      <th></th>\n",
       "      <th>Datetime</th>\n",
       "      <th>TweetId</th>\n",
       "      <th>Text</th>\n",
       "      <th>Username</th>\n",
       "      <th>MentionedUsers</th>\n",
       "      <th>ConversationId</th>\n",
       "    </tr>\n",
       "  </thead>\n",
       "  <tbody>\n",
       "    <tr>\n",
       "      <th>0</th>\n",
       "      <td>2021-03-31 22:20:40+00:00</td>\n",
       "      <td>1377385383168765952</td>\n",
       "      <td>Activists protest renaming Chicago school afte...</td>\n",
       "      <td>FoxNews</td>\n",
       "      <td>NaN</td>\n",
       "      <td>1377385383168765952</td>\n",
       "    </tr>\n",
       "    <tr>\n",
       "      <th>1</th>\n",
       "      <td>2021-03-31 22:17:35+00:00</td>\n",
       "      <td>1377384607969013765</td>\n",
       "      <td>Border Patrol video shows smugglers abandoning...</td>\n",
       "      <td>FoxNews</td>\n",
       "      <td>NaN</td>\n",
       "      <td>1377384607969013765</td>\n",
       "    </tr>\n",
       "    <tr>\n",
       "      <th>2</th>\n",
       "      <td>2021-03-31 22:16:31+00:00</td>\n",
       "      <td>1377384339105669122</td>\n",
       "      <td>Cause of Tiger Woods car crash determined but ...</td>\n",
       "      <td>FoxNews</td>\n",
       "      <td>NaN</td>\n",
       "      <td>1377384339105669122</td>\n",
       "    </tr>\n",
       "    <tr>\n",
       "      <th>3</th>\n",
       "      <td>2021-03-31 21:10:57+00:00</td>\n",
       "      <td>1377367836046192641</td>\n",
       "      <td>GOP rep urges HHS to halt reported plan to rel...</td>\n",
       "      <td>FoxNews</td>\n",
       "      <td>NaN</td>\n",
       "      <td>1377367836046192641</td>\n",
       "    </tr>\n",
       "    <tr>\n",
       "      <th>4</th>\n",
       "      <td>2021-03-31 20:33:27+00:00</td>\n",
       "      <td>1377358399759785987</td>\n",
       "      <td>Some Democrats trying to stop Iowa New Hampshi...</td>\n",
       "      <td>FoxNews</td>\n",
       "      <td>NaN</td>\n",
       "      <td>1377358399759785987</td>\n",
       "    </tr>\n",
       "  </tbody>\n",
       "</table>\n",
       "</div>"
      ],
      "text/plain": [
       "                    Datetime              TweetId  \\\n",
       "0  2021-03-31 22:20:40+00:00  1377385383168765952   \n",
       "1  2021-03-31 22:17:35+00:00  1377384607969013765   \n",
       "2  2021-03-31 22:16:31+00:00  1377384339105669122   \n",
       "3  2021-03-31 21:10:57+00:00  1377367836046192641   \n",
       "4  2021-03-31 20:33:27+00:00  1377358399759785987   \n",
       "\n",
       "                                                Text Username  MentionedUsers  \\\n",
       "0  Activists protest renaming Chicago school afte...  FoxNews             NaN   \n",
       "1  Border Patrol video shows smugglers abandoning...  FoxNews             NaN   \n",
       "2  Cause of Tiger Woods car crash determined but ...  FoxNews             NaN   \n",
       "3  GOP rep urges HHS to halt reported plan to rel...  FoxNews             NaN   \n",
       "4  Some Democrats trying to stop Iowa New Hampshi...  FoxNews             NaN   \n",
       "\n",
       "        ConversationId  \n",
       "0  1377385383168765952  \n",
       "1  1377384607969013765  \n",
       "2  1377384339105669122  \n",
       "3  1377367836046192641  \n",
       "4  1377358399759785987  "
      ]
     },
     "execution_count": 111,
     "metadata": {},
     "output_type": "execute_result"
    }
   ],
   "source": [
    "tweet_files = ['data/tweets_Mar2021.csv',\n",
    "               'data/tweets_Apr2021.csv']\n",
    "\n",
    "for i, file in enumerate(tweet_files):\n",
    "    if i == 0:\n",
    "        tweets = pd.read_csv(file)\n",
    "    else:\n",
    "        temp = pd.read_csv(file)\n",
    "        tweets = pd.concat([tweets, temp],\n",
    "                          ignore_index=True)\n",
    "\n",
    "print(tweets.shape)\n",
    "tweets.head()"
   ]
  },
  {
   "cell_type": "code",
   "execution_count": 112,
   "metadata": {},
   "outputs": [
    {
     "data": {
      "text/plain": [
       "'Cuomo accuser Lindsey Boylan claims governor once joked he would try to mount her if he were a dog\\n\\nhttps://t.co/1ap6vDIoHI'"
      ]
     },
     "execution_count": 112,
     "metadata": {},
     "output_type": "execute_result"
    }
   ],
   "source": [
    "tweets.Text[348]"
   ]
  },
  {
   "cell_type": "code",
   "execution_count": 113,
   "metadata": {},
   "outputs": [
    {
     "data": {
      "text/plain": [
       "'2021 Oscar nominees won’t have the option to participate remotely casual dress is discouraged: producers https://t.co/Bk9n0FPjks'"
      ]
     },
     "execution_count": 113,
     "metadata": {},
     "output_type": "execute_result"
    }
   ],
   "source": [
    "tweets.Text[350]"
   ]
  },
  {
   "cell_type": "code",
   "execution_count": 114,
   "metadata": {},
   "outputs": [
    {
     "name": "stderr",
     "output_type": "stream",
     "text": [
      "<ipython-input-114-313d17c733ad>:2: FutureWarning: The default value of regex will change from True to False in a future version.\n",
      "  tweets['Text'] = tweets['Text'].str.replace('(\\@\\w+.*?)',\"\")\n",
      "<ipython-input-114-313d17c733ad>:4: FutureWarning: The default value of regex will change from True to False in a future version.\n",
      "  tweets['Text'] = tweets['Text'].str.replace(r\"http\\S+\",\"\")\n"
     ]
    },
    {
     "data": {
      "text/plain": [
       "'cuomo accuser lindsey boylan claims governor once joked he would try to mount her if he were a dog'"
      ]
     },
     "execution_count": 114,
     "metadata": {},
     "output_type": "execute_result"
    }
   ],
   "source": [
    "# remove words that start with @\n",
    "tweets['Text'] = tweets['Text'].str.replace('(\\@\\w+.*?)',\"\")\n",
    "# remove words that start with https\n",
    "tweets['Text'] = tweets['Text'].str.replace(r\"http\\S+\",\"\")\n",
    "# other cleaning stuff\n",
    "tweets['Text'] = tweets['Text'].apply(pp.clean_text)\n",
    "\n",
    "tweets.Text[348]"
   ]
  },
  {
   "cell_type": "code",
   "execution_count": 115,
   "metadata": {},
   "outputs": [
    {
     "data": {
      "text/plain": [
       "' oscar nominees wont have the option to participate remotely casual dress is discouraged  producers'"
      ]
     },
     "execution_count": 115,
     "metadata": {},
     "output_type": "execute_result"
    }
   ],
   "source": [
    "tweets.Text[350]"
   ]
  },
  {
   "cell_type": "code",
   "execution_count": 116,
   "metadata": {},
   "outputs": [],
   "source": [
    "tweets.to_csv('data/tweets.csv', index=False)"
   ]
  },
  {
   "cell_type": "markdown",
   "metadata": {},
   "source": [
    "# Clean Comments"
   ]
  },
  {
   "cell_type": "code",
   "execution_count": 135,
   "metadata": {},
   "outputs": [
    {
     "name": "stdout",
     "output_type": "stream",
     "text": [
      "Comments nyt: 465631\n",
      "Comments fox: 474243\n",
      "Comments reu: 360712\n",
      "Total comments: 1300586\n"
     ]
    },
    {
     "data": {
      "text/html": [
       "<div>\n",
       "<style scoped>\n",
       "    .dataframe tbody tr th:only-of-type {\n",
       "        vertical-align: middle;\n",
       "    }\n",
       "\n",
       "    .dataframe tbody tr th {\n",
       "        vertical-align: top;\n",
       "    }\n",
       "\n",
       "    .dataframe thead th {\n",
       "        text-align: right;\n",
       "    }\n",
       "</style>\n",
       "<table border=\"1\" class=\"dataframe\">\n",
       "  <thead>\n",
       "    <tr style=\"text-align: right;\">\n",
       "      <th></th>\n",
       "      <th>Datetime</th>\n",
       "      <th>TweetId</th>\n",
       "      <th>Text</th>\n",
       "      <th>Username</th>\n",
       "      <th>NewsOutlet</th>\n",
       "      <th>MentionedUsers</th>\n",
       "      <th>ConversationId</th>\n",
       "    </tr>\n",
       "  </thead>\n",
       "  <tbody>\n",
       "    <tr>\n",
       "      <th>0</th>\n",
       "      <td>2021-05-11 17:57:51+00:00</td>\n",
       "      <td>1392177144785108993</td>\n",
       "      <td>@FoxNews @JasonHogge8 I dont think they know w...</td>\n",
       "      <td>ChaseTMAnderson</td>\n",
       "      <td>FoxNews</td>\n",
       "      <td>FoxNews JasonHogge8</td>\n",
       "      <td>1377385383168765952</td>\n",
       "    </tr>\n",
       "    <tr>\n",
       "      <th>1</th>\n",
       "      <td>2021-04-04 16:42:56+00:00</td>\n",
       "      <td>1378749941162516480</td>\n",
       "      <td>@anime_class @FoxNews Not at all...it reminds ...</td>\n",
       "      <td>FranciscoSan44</td>\n",
       "      <td>FoxNews</td>\n",
       "      <td>anime_class FoxNews</td>\n",
       "      <td>1377385383168765952</td>\n",
       "    </tr>\n",
       "    <tr>\n",
       "      <th>2</th>\n",
       "      <td>2021-04-04 01:11:03+00:00</td>\n",
       "      <td>1378515422723649537</td>\n",
       "      <td>@FoxNews The only thing that should be named a...</td>\n",
       "      <td>Alvin07458983</td>\n",
       "      <td>FoxNews</td>\n",
       "      <td>FoxNews</td>\n",
       "      <td>1377385383168765952</td>\n",
       "    </tr>\n",
       "    <tr>\n",
       "      <th>3</th>\n",
       "      <td>2021-04-03 21:03:29+00:00</td>\n",
       "      <td>1378453123354652672</td>\n",
       "      <td>@bobby_thoughts @FoxNews Does that include the...</td>\n",
       "      <td>sometyis</td>\n",
       "      <td>FoxNews</td>\n",
       "      <td>bobby_thoughts FoxNews</td>\n",
       "      <td>1377385383168765952</td>\n",
       "    </tr>\n",
       "    <tr>\n",
       "      <th>4</th>\n",
       "      <td>2021-04-03 20:59:02+00:00</td>\n",
       "      <td>1378452004771557376</td>\n",
       "      <td>@NewsWhatNews @FoxNews So who does then?</td>\n",
       "      <td>sometyis</td>\n",
       "      <td>FoxNews</td>\n",
       "      <td>NewsWhatNews FoxNews</td>\n",
       "      <td>1377385383168765952</td>\n",
       "    </tr>\n",
       "  </tbody>\n",
       "</table>\n",
       "</div>"
      ],
      "text/plain": [
       "                    Datetime              TweetId  \\\n",
       "0  2021-05-11 17:57:51+00:00  1392177144785108993   \n",
       "1  2021-04-04 16:42:56+00:00  1378749941162516480   \n",
       "2  2021-04-04 01:11:03+00:00  1378515422723649537   \n",
       "3  2021-04-03 21:03:29+00:00  1378453123354652672   \n",
       "4  2021-04-03 20:59:02+00:00  1378452004771557376   \n",
       "\n",
       "                                                Text         Username  \\\n",
       "0  @FoxNews @JasonHogge8 I dont think they know w...  ChaseTMAnderson   \n",
       "1  @anime_class @FoxNews Not at all...it reminds ...   FranciscoSan44   \n",
       "2  @FoxNews The only thing that should be named a...    Alvin07458983   \n",
       "3  @bobby_thoughts @FoxNews Does that include the...         sometyis   \n",
       "4           @NewsWhatNews @FoxNews So who does then?         sometyis   \n",
       "\n",
       "  NewsOutlet          MentionedUsers       ConversationId  \n",
       "0    FoxNews     FoxNews JasonHogge8  1377385383168765952  \n",
       "1    FoxNews     anime_class FoxNews  1377385383168765952  \n",
       "2    FoxNews                 FoxNews  1377385383168765952  \n",
       "3    FoxNews  bobby_thoughts FoxNews  1377385383168765952  \n",
       "4    FoxNews    NewsWhatNews FoxNews  1377385383168765952  "
      ]
     },
     "execution_count": 135,
     "metadata": {},
     "output_type": "execute_result"
    }
   ],
   "source": [
    "zf1 = zipfile.ZipFile('data/replies_archive.zip')\n",
    "zf2 = zipfile.ZipFile('data/replies_archive2.zip')\n",
    "\n",
    "replies_nyt = pd.concat([pd.read_csv(zf1.open('replies_Mar2021_nyt.csv'),\n",
    "                                     lineterminator='\\n'),\n",
    "                         pd.read_csv(zf2.open('replies_Apr2021_nyt.csv'),\n",
    "                                     lineterminator='\\n')],\n",
    "                        ignore_index=True)\n",
    "replies_fox = pd.concat([pd.read_csv(zf1.open('replies_Mar2021_fox.csv'),\n",
    "                                     lineterminator='\\n'),\n",
    "                         pd.read_csv(zf2.open('replies_Apr2021_fox.csv'),\n",
    "                                     lineterminator='\\n')],\n",
    "                        ignore_index=True)\n",
    "replies_reu = pd.concat([pd.read_csv(zf1.open('replies_Mar2021_reu.csv'),\n",
    "                                     lineterminator='\\n'),\n",
    "                         pd.read_csv(zf2.open('replies_Apr2021_reu.csv'),\n",
    "                                     lineterminator='\\n')],\n",
    "                        ignore_index=True)\n",
    "\n",
    "print('Comments nyt:', replies_nyt.shape[0])\n",
    "print('Comments fox:', replies_fox.shape[0])\n",
    "print('Comments reu:', replies_reu.shape[0])\n",
    "\n",
    "replies = [replies_fox, replies_nyt, replies_reu]\n",
    "comments = pd.concat(replies, ignore_index=True)\n",
    "print('Total comments:', comments.shape[0])\n",
    "comments.head()"
   ]
  },
  {
   "cell_type": "code",
   "execution_count": 138,
   "metadata": {},
   "outputs": [
    {
     "data": {
      "text/plain": [
       "'@canamman @nytimes Why do you care?'"
      ]
     },
     "execution_count": 138,
     "metadata": {},
     "output_type": "execute_result"
    }
   ],
   "source": [
    "replies_nyt.Text[451328]"
   ]
  },
  {
   "cell_type": "code",
   "execution_count": 139,
   "metadata": {},
   "outputs": [
    {
     "data": {
      "text/plain": [
       "'@DocBoomstick @louise75850026 @FoxNews Yep exactly! They know theyre lying &amp; they just plead the case that their not real news. How can they get away with calling themselves that?'"
      ]
     },
     "execution_count": 139,
     "metadata": {},
     "output_type": "execute_result"
    }
   ],
   "source": [
    "comments.Text[150]"
   ]
  },
  {
   "cell_type": "code",
   "execution_count": 140,
   "metadata": {},
   "outputs": [
    {
     "name": "stderr",
     "output_type": "stream",
     "text": [
      "<ipython-input-140-91f449644746>:6: FutureWarning: The default value of regex will change from True to False in a future version.\n",
      "  comments['Text'] = comments['Text'].str.replace('(\\@\\w+.*?)',\"\")\n",
      "<ipython-input-140-91f449644746>:8: FutureWarning: The default value of regex will change from True to False in a future version.\n",
      "  comments['Text'] = comments['Text'].str.replace(r\"http\\S+\",\"\")\n"
     ]
    },
    {
     "data": {
      "text/plain": [
       "'yep exactly  they know theyre lying  amp  they just plead the case that their not real news  how can they get away with calling themselves that '"
      ]
     },
     "execution_count": 140,
     "metadata": {},
     "output_type": "execute_result"
    }
   ],
   "source": [
    "# remove blank comments & conversationIDs\n",
    "comments = comments[comments['Text'].notnull()]\n",
    "comments = comments[comments['ConversationId'].notnull()]\n",
    "\n",
    "# remove words that start with @\n",
    "comments['Text'] = comments['Text'].str.replace('(\\@\\w+.*?)',\"\")\n",
    "# remove words that start with https\n",
    "comments['Text'] = comments['Text'].str.replace(r\"http\\S+\",\"\")\n",
    "\n",
    "comments['Text'] = comments['Text'].apply(pp.clean_text)\n",
    "\n",
    "comments.Text[150]"
   ]
  },
  {
   "cell_type": "code",
   "execution_count": 141,
   "metadata": {},
   "outputs": [
    {
     "name": "stdout",
     "output_type": "stream",
     "text": [
      "total unique threads:  30542\n"
     ]
    }
   ],
   "source": [
    "print(\"total unique threads: \", len(comments.ConversationId.unique()))"
   ]
  },
  {
   "cell_type": "code",
   "execution_count": 142,
   "metadata": {},
   "outputs": [],
   "source": [
    "comments.to_csv('data/comments.csv', index=False)"
   ]
  },
  {
   "cell_type": "code",
   "execution_count": null,
   "metadata": {},
   "outputs": [],
   "source": []
  }
 ],
 "metadata": {
  "kernelspec": {
   "display_name": "Python 3",
   "language": "python",
   "name": "python3"
  },
  "language_info": {
   "codemirror_mode": {
    "name": "ipython",
    "version": 3
   },
   "file_extension": ".py",
   "mimetype": "text/x-python",
   "name": "python",
   "nbconvert_exporter": "python",
   "pygments_lexer": "ipython3",
   "version": "3.8.2"
  }
 },
 "nbformat": 4,
 "nbformat_minor": 4
}
