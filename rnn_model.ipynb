{
 "cells": [
  {
   "cell_type": "markdown",
   "id": "9934f4fe-0ef5-4c64-95dd-d8ef99ac2569",
   "metadata": {},
   "source": [
    "# RNN Model For Classifying Tweets"
   ]
  },
  {
   "cell_type": "code",
   "execution_count": 1,
   "id": "e7c58380-0211-4d0e-a015-2f29400471dc",
   "metadata": {},
   "outputs": [],
   "source": [
    "import pandas as pd\n",
    "import numpy as np\n",
    "\n",
    "import torch\n",
    "import torch.nn as nn\n",
    "import torch.nn.functional as F\n",
    "import torch.optim as optim\n",
    "from torchtext.legacy.data import Field, TabularDataset, BucketIterator\n",
    "\n",
    "\n",
    "import train_test_datasets as pdata\n",
    "from lstm import LSTM\n",
    "from evaluate import train_model, evaluate, load_checkpoint\n"
   ]
  },
  {
   "cell_type": "code",
   "execution_count": 2,
   "id": "dc94c2b5-55f9-43c3-9af5-d11999d81eb1",
   "metadata": {},
   "outputs": [],
   "source": [
    "# parameters\n",
    "DATA_PATH = './data/tweets_all.csv'\n",
    "SAVE_PATH = './data'\n",
    "\n",
    "TEST_VALID_PERC=0.2\n",
    "BATCH_SIZE = 32\n",
    "MAX_SEQ_LEN = 150\n",
    "BPTT_LENGTH = 64\n",
    "\n",
    "EPOCHS = 2\n",
    "LOSS_FN = nn.CrossEntropyLoss()\n",
    "OPTIM_FN = optim.Adam\n",
    "HIDDEN_DIM = 150\n",
    "LEARN_RATE = 0.001\n",
    "DROP_OUT = 0.5\n",
    "LAYERS = 2"
   ]
  },
  {
   "cell_type": "code",
   "execution_count": 3,
   "id": "3aaed099-9948-4976-9114-2228c0cdae0f",
   "metadata": {},
   "outputs": [
    {
     "name": "stdout",
     "output_type": "stream",
     "text": [
      "Using cpu.\n"
     ]
    }
   ],
   "source": [
    "# test and set kernel device\n",
    "USE_CUDA = torch.cuda.is_available()\n",
    "\n",
    "if USE_CUDA:\n",
    "    DEVICE = torch.device('cuda')\n",
    "    print(\"Using cuda.\")\n",
    "else:\n",
    "    DEVICE = torch.device('cpu')\n",
    "    print(\"Using cpu.\")"
   ]
  },
  {
   "cell_type": "code",
   "execution_count": 4,
   "id": "c90861ea-3570-4646-9f80-594b666a25ce",
   "metadata": {},
   "outputs": [
    {
     "name": "stdout",
     "output_type": "stream",
     "text": [
      "Datasets saved.\n",
      "./data/train.csv saved; 9380 records\n",
      "./data/valid.csv saved; 1044 records\n",
      "./data/test.csv saved; 1160 records\n",
      "\n",
      "checking class balance:\n",
      "low in train:  4699\n",
      "high in train:  4681\n"
     ]
    }
   ],
   "source": [
    "pdata.make_data(DATA_PATH, SAVE_PATH, TEST_VALID_PERC)"
   ]
  },
  {
   "cell_type": "code",
   "execution_count": 5,
   "id": "450527a1-553e-4891-b874-3b4b90650d25",
   "metadata": {},
   "outputs": [
    {
     "name": "stderr",
     "output_type": "stream",
     "text": [
      "/Users/LokiJo/opt/anaconda3/lib/python3.8/site-packages/torchtext/data/utils.py:123: UserWarning: Spacy model \"en\" could not be loaded, trying \"en_core_web_sm\" instead\n",
      "  warnings.warn(f'Spacy model \"{language}\" could not be loaded, trying \"{OLD_MODEL_SHORTCUTS[language]}\" instead')\n"
     ]
    },
    {
     "name": "stdout",
     "output_type": "stream",
     "text": [
      "vocab length:  7218\n"
     ]
    }
   ],
   "source": [
    "# Fields\n",
    "label_field = Field(sequential=False, use_vocab=False, batch_first=True, dtype=torch.long)\n",
    "text_field = Field(tokenize='spacy', lower=True, include_lengths=True, batch_first=True)\n",
    "fields = [('label', label_field), ('text', text_field)]\n",
    "\n",
    "# TabularDataset\n",
    "train, valid, test = TabularDataset.splits(path=SAVE_PATH, \n",
    "                                           train='train.csv', validation='valid.csv', test='test.csv',\n",
    "                                           format='CSV', fields=fields, skip_header=True)\n",
    "\n",
    "# Iterators\n",
    "train_iter = BucketIterator(train, batch_size=BATCH_SIZE, sort_key=lambda x: len(x.text),\n",
    "                            device=DEVICE, sort=True, sort_within_batch=True)\n",
    "valid_iter = BucketIterator(valid, batch_size=BATCH_SIZE, sort_key=lambda x: len(x.text),\n",
    "                            device=DEVICE, sort=True, sort_within_batch=True)\n",
    "test_iter = BucketIterator(test, batch_size=BATCH_SIZE, sort_key=lambda x: len(x.text),\n",
    "                            device=DEVICE, sort=True, sort_within_batch=True)\n",
    "\n",
    "# Vocabulary\n",
    "text_field.build_vocab(train, min_freq=3)\n",
    "print(\"vocab length: \", len(text_field.vocab))"
   ]
  },
  {
   "cell_type": "code",
   "execution_count": 6,
   "id": "7a665e1a-1575-4ff7-954a-b809b89625a2",
   "metadata": {},
   "outputs": [
    {
     "name": "stdout",
     "output_type": "stream",
     "text": [
      "Epoch [1/2], Step [147/588], Train Loss: 0.7225, Valid Loss: 0.6756\n",
      "Model saved to ==> ./data/model.pt\n",
      "Model saved to ==> ./data/metrics.pt\n",
      "Epoch [1/2], Step [294/588], Train Loss: 0.6516, Valid Loss: 0.6952\n",
      "Epoch [2/2], Step [441/588], Train Loss: 0.6588, Valid Loss: 0.6474\n",
      "Model saved to ==> ./data/model.pt\n",
      "Model saved to ==> ./data/metrics.pt\n",
      "Epoch [2/2], Step [588/588], Train Loss: 0.5668, Valid Loss: 0.6717\n",
      "Model saved to ==> ./data/metrics.pt\n",
      "Finished Training!\n"
     ]
    }
   ],
   "source": [
    "model = LSTM(vocab_len=len(text_field.vocab),\n",
    "             dropout=DROP_OUT,\n",
    "             dimension=HIDDEN_DIM,\n",
    "             layers=LAYERS).to(DEVICE)\n",
    "\n",
    "optimizer = OPTIM_FN(model.parameters(), lr=LEARN_RATE)\n",
    "\n",
    "train_model(model=model,\n",
    "            optimizer=optimizer,\n",
    "            train_loader=train_iter,\n",
    "            valid_loader=valid_iter,\n",
    "            criterion = LOSS_FN,\n",
    "            num_epochs = EPOCHS,\n",
    "            file_path = SAVE_PATH,\n",
    "            device=DEVICE)"
   ]
  },
  {
   "cell_type": "code",
   "execution_count": 7,
   "id": "55d0b6ef-ac18-4c0a-92e9-7d698c19d4c6",
   "metadata": {},
   "outputs": [
    {
     "name": "stdout",
     "output_type": "stream",
     "text": [
      "Model loaded from <== ./data/model.pt\n",
      "Test Accuracy:  0.6051724137931035\n",
      "Classification Report:\n",
      "              precision    recall  f1-score   support\n",
      "\n",
      "           1     0.6212    0.5354    0.5751       579\n",
      "           0     0.5930    0.6747    0.6312       581\n",
      "\n",
      "    accuracy                         0.6052      1160\n",
      "   macro avg     0.6071    0.6051    0.6032      1160\n",
      "weighted avg     0.6071    0.6052    0.6032      1160\n",
      "\n"
     ]
    },
    {
     "data": {
      "image/png": "[encoded data removed]",
      "text/plain": [
       "<Figure size 432x288 with 2 Axes>"
      ]
     },
     "metadata": {
      "needs_background": "light"
     },
     "output_type": "display_data"
    }
   ],
   "source": [
    "# Evaluate\n",
    "best_model = LSTM(vocab_len=len(text_field.vocab),\n",
    "                  dropout=DROP_OUT,\n",
    "                  dimension=HIDDEN_DIM,\n",
    "                  layers=LAYERS).to(DEVICE)\n",
    "\n",
    "optimizer = OPTIM_FN(best_model.parameters(), lr=0.001)\n",
    "\n",
    "load_checkpoint(SAVE_PATH + '/model.pt', best_model, optimizer)\n",
    "evaluate(best_model, test_iter)"
   ]
  },
  {
   "cell_type": "code",
   "execution_count": null,
   "id": "46329a46-25da-4fac-a967-5160be22b6a0",
   "metadata": {},
   "outputs": [],
   "source": []
  }
 ],
 "metadata": {
  "kernelspec": {
   "display_name": "Python 3",
   "language": "python",
   "name": "python3"
  },
  "language_info": {
   "codemirror_mode": {
    "name": "ipython",
    "version": 3
   },
   "file_extension": ".py",
   "mimetype": "text/x-python",
   "name": "python",
   "nbconvert_exporter": "python",
   "pygments_lexer": "ipython3",
   "version": "3.8.2"
  }
 },
 "nbformat": 4,
 "nbformat_minor": 5
}
