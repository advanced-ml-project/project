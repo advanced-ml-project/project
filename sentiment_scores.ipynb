{
 "cells": [
  {
   "cell_type": "markdown",
   "metadata": {
    "id": "nJLM596OCpfk"
   },
   "source": [
    "# Pipeline for creating VADER sentiment scores\n",
    "\n",
    "This notebook accepts a body of user comments and uses the VADER sentiment scoring system to find a distribution of positive-negative intensity scores grouped by original article or post.\n",
    "\n",
    "A measure of distritution variance is then used as a target for our machine learning feature set.\n",
    "\n",
    "## About VADER scores\n",
    "Source VADER: https://github.com/cjhutto/vaderSentiment\n",
    "\n",
    "VADER (Valence Aware Dictionary and sEntiment Reasoner) is a rule-based mechanism trained on social media datasets that provides scores for strings of text ranging from -1 (extremely negative) to +1 (extremely postive).\n",
    "\n",
    "It computes a total score (compound score) for a sentence by looking up the sentiment score assigned to each individual word and then applying learned rules to modify these scores based on context.\n",
    "\n",
    "The values returned on a call to polarity_scores(string) are the positive, negative and neutral parts of the string and a post-rule computed compound score.\n",
    "\n",
    "This is in the form: {'compound': 0.4199, 'neg': 0.0, 'neu': 0.417, 'pos': 0.583}\n",
    "\n"
   ]
  },
  {
   "cell_type": "code",
   "execution_count": 3,
   "metadata": {
    "colab": {
     "base_uri": "https://localhost:8080/"
    },
    "id": "AEPhADa5Ch-0",
    "outputId": "105be7fe-a38a-4a53-8f05-dde984452677"
   },
   "outputs": [],
   "source": [
    "# Install VADER if needed. Uncomment & run.\n",
    "#!pip install vaderSentiment"
   ]
  },
  {
   "cell_type": "code",
   "execution_count": 4,
   "metadata": {
    "id": "MCph1VeyFiDt"
   },
   "outputs": [],
   "source": [
    "import pandas as pd\n",
    "import seaborn as sns\n",
    "import matplotlib.pyplot as plt\n",
    "from vaderSentiment.vaderSentiment import SentimentIntensityAnalyzer as sia"
   ]
  },
  {
   "cell_type": "markdown",
   "metadata": {},
   "source": [
    "### Assigning Parameters"
   ]
  },
  {
   "cell_type": "code",
   "execution_count": 127,
   "metadata": {},
   "outputs": [],
   "source": [
    "# Dataset Specific Parameters\n",
    "FILE_PATH = './'\n",
    "\n",
    "MIN_COMMENT_COUNT = 20\n",
    "\n",
    "OUTPUT_COLS = ['id',\n",
    "               'topic',\n",
    "               'source',\n",
    "               'text',\n",
    "               'replyCount',\n",
    "               'vaderMean',\n",
    "               'vaderStd',\n",
    "               'vaderCatLabel',\n",
    "               'vaderCat']\n",
    "\n",
    "\n",
    "## for the NYT news archive from Kaggle uncomment:\n",
    "#MAIN_ID = 'articleID'\n",
    "#MAIN_TEXT = 'headline'  # should this be snippet? Not in csv post-topics.\n",
    "#REPLY_ID = 'commentID'\n",
    "#REPLY_TEXT = 'commentBody'\n",
    "#TOPIC = 'topic'\n",
    "#SOURCE = 'kaggle'\n",
    "#REPLY_FILE = 'article_comments.csv'\n",
    "#MAIN_FILE = 'articles.csv'\n",
    "#EXPORT_NAME = 'articles_w_scores.csv'\n",
    "\n",
    "\n",
    "## for the tweet dataset uncomment:\n",
    "MAIN_ID = 'ConversationId'\n",
    "MAIN_TEXT = 'Text'\n",
    "REPLY_ID = 'TweetId'\n",
    "REPLY_TEXT = 'Text'\n",
    "TOPIC = 'MentionedUsers' #this should change after topics updated\n",
    "SOURCE = 'Username'\n",
    "    \n",
    "REPLY_FILE = 'comments.csv'\n",
    "MAIN_FILE = 'tweets.csv'\n",
    "EXPORT_NAME = 'tweets_w_scores.csv'"
   ]
  },
  {
   "cell_type": "markdown",
   "metadata": {},
   "source": [
    "### Setting up VADER scoring"
   ]
  },
  {
   "cell_type": "code",
   "execution_count": 41,
   "metadata": {
    "id": "hfcAUO-eGe1O"
   },
   "outputs": [],
   "source": [
    "# vader initialized\n",
    "vader = sia()"
   ]
  },
  {
   "cell_type": "code",
   "execution_count": 42,
   "metadata": {
    "id": "Dy4Fs13jJdDP"
   },
   "outputs": [],
   "source": [
    "def getScore(string):\n",
    "  scoreDict = vader.polarity_scores(string)\n",
    "  return scoreDict[\"compound\"]"
   ]
  },
  {
   "cell_type": "markdown",
   "metadata": {},
   "source": [
    "### Importing Replies"
   ]
  },
  {
   "cell_type": "code",
   "execution_count": 45,
   "metadata": {
    "colab": {
     "base_uri": "https://localhost:8080/"
    },
    "id": "pzs9LKLVGzKm",
    "outputId": "ad41609e-245f-45c1-c627-e863664f6f52"
   },
   "outputs": [],
   "source": [
    "# reply data import\n",
    "comments = pd.read_csv(FILE_PATH + \"data/\" + REPLY_FILE)\n",
    "comments = comments[comments[REPLY_TEXT].notnull()]"
   ]
  },
  {
   "cell_type": "markdown",
   "metadata": {},
   "source": [
    "### Applying Scores"
   ]
  },
  {
   "cell_type": "code",
   "execution_count": 46,
   "metadata": {
    "id": "GsYm2Iv2JF_P"
   },
   "outputs": [],
   "source": [
    "# applying scores\n",
    "comments[\"vaderScore\"] = comments[REPLY_TEXT].map(getScore)"
   ]
  },
  {
   "cell_type": "code",
   "execution_count": 63,
   "metadata": {
    "colab": {
     "base_uri": "https://localhost:8080/",
     "height": 204
    },
    "id": "8dQ-_dXbOAia",
    "outputId": "f3168300-5b57-4b66-db27-2614744dc2b6"
   },
   "outputs": [
    {
     "name": "stdout",
     "output_type": "stream",
     "text": [
      "20\n"
     ]
    },
    {
     "data": {
      "text/html": [
       "<div>\n",
       "<style scoped>\n",
       "    .dataframe tbody tr th:only-of-type {\n",
       "        vertical-align: middle;\n",
       "    }\n",
       "\n",
       "    .dataframe tbody tr th {\n",
       "        vertical-align: top;\n",
       "    }\n",
       "\n",
       "    .dataframe thead th {\n",
       "        text-align: right;\n",
       "    }\n",
       "</style>\n",
       "<table border=\"1\" class=\"dataframe\">\n",
       "  <thead>\n",
       "    <tr style=\"text-align: right;\">\n",
       "      <th></th>\n",
       "      <th>ConversationId</th>\n",
       "      <th>commentCount</th>\n",
       "      <th>vaderMean</th>\n",
       "      <th>vaderStd</th>\n",
       "      <th>vaderIQR</th>\n",
       "    </tr>\n",
       "  </thead>\n",
       "  <tbody>\n",
       "    <tr>\n",
       "      <th>1</th>\n",
       "      <td>1366181408969007104</td>\n",
       "      <td>58</td>\n",
       "      <td>-0.057066</td>\n",
       "      <td>0.497125</td>\n",
       "      <td>0.951000</td>\n",
       "    </tr>\n",
       "    <tr>\n",
       "      <th>4</th>\n",
       "      <td>1366187705504305153</td>\n",
       "      <td>20</td>\n",
       "      <td>0.188220</td>\n",
       "      <td>0.418771</td>\n",
       "      <td>0.600300</td>\n",
       "    </tr>\n",
       "    <tr>\n",
       "      <th>5</th>\n",
       "      <td>1366188965548744707</td>\n",
       "      <td>112</td>\n",
       "      <td>0.064095</td>\n",
       "      <td>0.478664</td>\n",
       "      <td>0.709725</td>\n",
       "    </tr>\n",
       "    <tr>\n",
       "      <th>6</th>\n",
       "      <td>1366192217455546368</td>\n",
       "      <td>22</td>\n",
       "      <td>-0.029400</td>\n",
       "      <td>0.517250</td>\n",
       "      <td>0.673875</td>\n",
       "    </tr>\n",
       "    <tr>\n",
       "      <th>7</th>\n",
       "      <td>1366197170488098816</td>\n",
       "      <td>20</td>\n",
       "      <td>0.180580</td>\n",
       "      <td>0.448511</td>\n",
       "      <td>0.752500</td>\n",
       "    </tr>\n",
       "  </tbody>\n",
       "</table>\n",
       "</div>"
      ],
      "text/plain": [
       "        ConversationId  commentCount  vaderMean  vaderStd  vaderIQR\n",
       "1  1366181408969007104            58  -0.057066  0.497125  0.951000\n",
       "4  1366187705504305153            20   0.188220  0.418771  0.600300\n",
       "5  1366188965548744707           112   0.064095  0.478664  0.709725\n",
       "6  1366192217455546368            22  -0.029400  0.517250  0.673875\n",
       "7  1366197170488098816            20   0.180580  0.448511  0.752500"
      ]
     },
     "execution_count": 63,
     "metadata": {},
     "output_type": "execute_result"
    }
   ],
   "source": [
    "# creating aggregations by original post\n",
    "\n",
    "articles = comments.groupby(MAIN_ID)['vaderScore'].agg(['count',\n",
    "                                                            'mean',\n",
    "                                                            'min', \n",
    "                                                            'max',\n",
    "                                                            'std'])\n",
    "articles = articles.reset_index()\n",
    "\n",
    "articles[\"firstQ\"] = (comments.groupby(MAIN_ID)['vaderScore']\n",
    "                      .quantile(.25).reset_index()['vaderScore'])\n",
    "\n",
    "articles[\"thirdQ\"] = (comments.groupby(MAIN_ID)['vaderScore']\n",
    "                      .quantile(.75).reset_index()['vaderScore'])\n",
    "\n",
    "articles[\"iq_range\"] = abs(articles[\"firstQ\"] - articles['thirdQ'])\n",
    "\n",
    "articles[\"range\"] = abs(articles['min'] - articles['max'])\n",
    "\n",
    "articles = articles[[MAIN_ID, 'count', 'mean', 'std', 'iq_range']]\n",
    "articles.columns = [MAIN_ID, 'commentCount', \n",
    "                    'vaderMean', 'vaderStd', 'vaderIQR']\n",
    "\n",
    "articles = articles[articles['commentCount'] >= MIN_COMMENT_COUNT]\n",
    "print(MIN_COMMENT_COUNT)\n",
    "articles.head()"
   ]
  },
  {
   "cell_type": "code",
   "execution_count": 64,
   "metadata": {},
   "outputs": [
    {
     "name": "stdout",
     "output_type": "stream",
     "text": [
      "<class 'pandas.core.frame.DataFrame'>\n",
      "Int64Index: 2711 entries, 1 to 3188\n",
      "Data columns (total 5 columns):\n",
      " #   Column          Non-Null Count  Dtype  \n",
      "---  ------          --------------  -----  \n",
      " 0   ConversationId  2711 non-null   int64  \n",
      " 1   commentCount    2711 non-null   int64  \n",
      " 2   vaderMean       2711 non-null   float64\n",
      " 3   vaderStd        2711 non-null   float64\n",
      " 4   vaderIQR        2711 non-null   float64\n",
      "dtypes: float64(3), int64(2)\n",
      "memory usage: 127.1 KB\n"
     ]
    }
   ],
   "source": [
    "articles.info()"
   ]
  },
  {
   "cell_type": "markdown",
   "metadata": {},
   "source": [
    "## Analyzing for Category Cut-offs\n",
    "\n",
    "### Expectations for Polarization Distributions\n",
    "\n",
    "A completely random assignment of sentiment scores should have a mean that centers at 0 and tails that approach -1 and 1. Setting the 3rd standard deviation from the mean to these values give us a standard distribution around 1/3.\n",
    "\n",
    "Since an unpolarizing post should have a distribution that results in comments that are less polarizing than a completely random assignment of scores, posts with standard deviations less than 1/3 can be considered unpolarized.\n",
    "\n",
    "Similarly, two randomly assigned distributions of scores centering on -1 and 1 added together to form a bimodal distribution would also have a mean of zero but, it would indicate that the post creates two completely separate groups of replies, centered on the extremes. The standard deviation of such a distribution would be the sum of the sub-distributions: (1/3 + 1/3) = 2/3. \n",
    "\n",
    "Therefore we can reasonably assume a distritution with a standard deviation approaching 2/3 to be extremely polarized.\n",
    "\n",
    "### Binning Standard Deviations\n",
    "\n",
    "For the sake of simplification, and because tweets with standard deviations greater than 2/3 are rare in our dataset, first we use these markers as a general guideline and set up even bins between 0.3 and 0.6 to categorize the polarity of tweet sentiments.\n",
    "\n",
    "**no polarization** \\[0.0, 0.3\\]  \n",
    "**low polarization** (0.3, 0.4\\]  \n",
    "**medium polarization** (0.4, 0.5\\]  \n",
    "**high polarization** (0.5, 0.6\\]  \n",
    "**extreme polarization** (0.6, inf\\)\n",
    "\n",
    "The counts, especially in the lower levels of polarization are low.\n",
    "To make the sample balance better, we tried rebinning into three categories.\n",
    "\n",
    "**low polarization** \\[0.0, 0.4\\]  \n",
    "**medium polarization** (0.4, 0.5\\]  \n",
    "**high polarization** (0.5, inf\\)\n",
    "\n",
    "\n"
   ]
  },
  {
   "cell_type": "code",
   "execution_count": 66,
   "metadata": {},
   "outputs": [
    {
     "data": {
      "text/plain": [
       "<matplotlib.axes._subplots.AxesSubplot at 0x7fa88f487820>"
      ]
     },
     "execution_count": 66,
     "metadata": {},
     "output_type": "execute_result"
    },
    {
     "data": {
      "image/png": "[encoded data removed]",
      "text/plain": [
       "<Figure size 432x288 with 1 Axes>"
      ]
     },
     "metadata": {
      "needs_background": "light"
     },
     "output_type": "display_data"
    }
   ],
   "source": [
    "sns.histplot(x='vaderStd',\n",
    "             data=articles,\n",
    "            bins=20)"
   ]
  },
  {
   "cell_type": "markdown",
   "metadata": {},
   "source": [
    "### Adding Category Bins"
   ]
  },
  {
   "cell_type": "code",
   "execution_count": 110,
   "metadata": {},
   "outputs": [
    {
     "data": {
      "text/html": [
       "<div>\n",
       "<style scoped>\n",
       "    .dataframe tbody tr th:only-of-type {\n",
       "        vertical-align: middle;\n",
       "    }\n",
       "\n",
       "    .dataframe tbody tr th {\n",
       "        vertical-align: top;\n",
       "    }\n",
       "\n",
       "    .dataframe thead th {\n",
       "        text-align: right;\n",
       "    }\n",
       "</style>\n",
       "<table border=\"1\" class=\"dataframe\">\n",
       "  <thead>\n",
       "    <tr style=\"text-align: right;\">\n",
       "      <th></th>\n",
       "      <th>ConversationId</th>\n",
       "      <th>commentCount</th>\n",
       "      <th>vaderMean</th>\n",
       "      <th>vaderStd</th>\n",
       "      <th>vaderIQR</th>\n",
       "      <th>vaderCatLabel</th>\n",
       "      <th>vaderCat</th>\n",
       "    </tr>\n",
       "  </thead>\n",
       "  <tbody>\n",
       "    <tr>\n",
       "      <th>1</th>\n",
       "      <td>1366181408969007104</td>\n",
       "      <td>58</td>\n",
       "      <td>-0.057066</td>\n",
       "      <td>0.497125</td>\n",
       "      <td>0.951000</td>\n",
       "      <td>medium</td>\n",
       "      <td>1.0</td>\n",
       "    </tr>\n",
       "    <tr>\n",
       "      <th>4</th>\n",
       "      <td>1366187705504305153</td>\n",
       "      <td>20</td>\n",
       "      <td>0.188220</td>\n",
       "      <td>0.418771</td>\n",
       "      <td>0.600300</td>\n",
       "      <td>medium</td>\n",
       "      <td>1.0</td>\n",
       "    </tr>\n",
       "    <tr>\n",
       "      <th>5</th>\n",
       "      <td>1366188965548744707</td>\n",
       "      <td>112</td>\n",
       "      <td>0.064095</td>\n",
       "      <td>0.478664</td>\n",
       "      <td>0.709725</td>\n",
       "      <td>medium</td>\n",
       "      <td>1.0</td>\n",
       "    </tr>\n",
       "    <tr>\n",
       "      <th>6</th>\n",
       "      <td>1366192217455546368</td>\n",
       "      <td>22</td>\n",
       "      <td>-0.029400</td>\n",
       "      <td>0.517250</td>\n",
       "      <td>0.673875</td>\n",
       "      <td>high</td>\n",
       "      <td>2.0</td>\n",
       "    </tr>\n",
       "    <tr>\n",
       "      <th>7</th>\n",
       "      <td>1366197170488098816</td>\n",
       "      <td>20</td>\n",
       "      <td>0.180580</td>\n",
       "      <td>0.448511</td>\n",
       "      <td>0.752500</td>\n",
       "      <td>medium</td>\n",
       "      <td>1.0</td>\n",
       "    </tr>\n",
       "  </tbody>\n",
       "</table>\n",
       "</div>"
      ],
      "text/plain": [
       "        ConversationId  commentCount  vaderMean  vaderStd  vaderIQR  \\\n",
       "1  1366181408969007104            58  -0.057066  0.497125  0.951000   \n",
       "4  1366187705504305153            20   0.188220  0.418771  0.600300   \n",
       "5  1366188965548744707           112   0.064095  0.478664  0.709725   \n",
       "6  1366192217455546368            22  -0.029400  0.517250  0.673875   \n",
       "7  1366197170488098816            20   0.180580  0.448511  0.752500   \n",
       "\n",
       "  vaderCatLabel  vaderCat  \n",
       "1        medium       1.0  \n",
       "4        medium       1.0  \n",
       "5        medium       1.0  \n",
       "6          high       2.0  \n",
       "7        medium       1.0  "
      ]
     },
     "execution_count": 110,
     "metadata": {},
     "output_type": "execute_result"
    }
   ],
   "source": [
    "articles['vaderCatLabel'] = \"medium\"\n",
    "\n",
    "\n",
    "# five bins...\n",
    "#articles.loc[articles['vaderStd'] <= 0.3, 'vaderCatLabel'] = \"none\"\n",
    "#articles.loc[(articles['vaderStd'] > 0.3) &\n",
    "#             (articles['vaderStd'] <= 0.4), 'vaderCatLabel'] = \"low\"\n",
    "#articles.loc[(articles['vaderStd'] > 0.5) &\n",
    "#             (articles['vaderStd'] <= 0.6), 'vaderCatLabel'] = \"high\"\n",
    "#articles.loc[articles['vaderStd'] > 0.6, 'vaderCatLabel'] = \"extreme\"\n",
    "\n",
    "#for val, label in enumerate(['none','low','medium', 'high',  'extreme']):\n",
    "#    articles.loc[articles.vaderCatLabel == label, 'vaderCat'] = val\n",
    "\n",
    "\n",
    "# three bins...\n",
    "articles.loc[articles['vaderStd'] <= 0.4, 'vaderCatLabel'] = \"low\"\n",
    "articles.loc[articles['vaderStd'] > 0.5, 'vaderCatLabel'] = \"high\"\n",
    "\n",
    "for val, label in enumerate(['low','medium', 'high']):\n",
    "    articles.loc[articles.vaderCatLabel == label, 'vaderCat'] = val\n",
    "\n",
    "articles.head()"
   ]
  },
  {
   "cell_type": "code",
   "execution_count": 112,
   "metadata": {},
   "outputs": [
    {
     "data": {
      "text/plain": [
       "vaderCatLabel\n",
       "high       579\n",
       "low        354\n",
       "medium    1778\n",
       "Name: ConversationId, dtype: int64"
      ]
     },
     "execution_count": 112,
     "metadata": {},
     "output_type": "execute_result"
    }
   ],
   "source": [
    "articles.groupby('vaderCatLabel')['ConversationId'].count()"
   ]
  },
  {
   "cell_type": "markdown",
   "metadata": {},
   "source": [
    "### Merging with Original Posts and Exporting"
   ]
  },
  {
   "cell_type": "code",
   "execution_count": 129,
   "metadata": {
    "colab": {
     "base_uri": "https://localhost:8080/",
     "height": 204
    },
    "id": "ZD9EWPczLVsl",
    "outputId": "27aa9dbd-98cd-49a7-caf5-39edea719490"
   },
   "outputs": [
    {
     "name": "stdout",
     "output_type": "stream",
     "text": [
      "<class 'pandas.core.frame.DataFrame'>\n",
      "RangeIndex: 17933 entries, 0 to 17932\n",
      "Data columns (total 6 columns):\n",
      " #   Column          Non-Null Count  Dtype \n",
      "---  ------          --------------  ----- \n",
      " 0   Datetime        17933 non-null  object\n",
      " 1   TweetId         17933 non-null  int64 \n",
      " 2   Text            17933 non-null  object\n",
      " 3   Username        17933 non-null  object\n",
      " 4   MentionedUsers  17933 non-null  object\n",
      " 5   ConversationId  17933 non-null  int64 \n",
      "dtypes: int64(2), object(4)\n",
      "memory usage: 840.7+ KB\n"
     ]
    }
   ],
   "source": [
    "# import main thread data \n",
    "main_df = pd.read_csv(FILE_PATH + \"data/\" + MAIN_FILE)\n",
    "\n",
    "if SOURCE == 'kaggle':\n",
    "    main_df['kaggle'] = 'nyt_kaggle'\n",
    "\n",
    "main_df.info()"
   ]
  },
  {
   "cell_type": "code",
   "execution_count": 130,
   "metadata": {},
   "outputs": [],
   "source": [
    "# add standard deviation and categories\n",
    "main_df = main_df.merge(articles, on=MAIN_ID, how='inner')\n",
    "\n",
    "# filter and rename columns\n",
    "main_df = main_df[[MAIN_ID,\n",
    "                   TOPIC,\n",
    "                   SOURCE,\n",
    "                   MAIN_TEXT,\n",
    "                   'commentCount',\n",
    "                   'vaderMean',\n",
    "                   'vaderStd',\n",
    "                   'vaderCatLabel',\n",
    "                   'vaderCat']]\n",
    "\n",
    "main_df.columns = OUTPUT_COLS\n",
    "\n",
    "# export dataframe\n",
    "main_df.to_csv(FILE_PATH + \"data/\" + EXPORT_NAME, index=False)"
   ]
  },
  {
   "cell_type": "code",
   "execution_count": null,
   "metadata": {},
   "outputs": [],
   "source": []
  }
 ],
 "metadata": {
  "colab": {
   "collapsed_sections": [],
   "name": "sentiment_scores.ipynb",
   "provenance": []
  },
  "kernelspec": {
   "display_name": "Python 3",
   "language": "python",
   "name": "python3"
  },
  "language_info": {
   "codemirror_mode": {
    "name": "ipython",
    "version": 3
   },
   "file_extension": ".py",
   "mimetype": "text/x-python",
   "name": "python",
   "nbconvert_exporter": "python",
   "pygments_lexer": "ipython3",
   "version": "3.8.2"
  }
 },
 "nbformat": 4,
 "nbformat_minor": 4
}
