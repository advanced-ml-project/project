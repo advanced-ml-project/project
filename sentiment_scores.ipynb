{
 "cells": [
  {
   "cell_type": "markdown",
   "metadata": {
    "id": "nJLM596OCpfk"
   },
   "source": [
    "# Pipeline for creating VADER sentiment scores\n",
    "\n",
    "This notebook accepts a body of user comments and uses the VADER sentiment scoring system to find a distribution of positive-negative intensity scores grouped by original article or post.\n",
    "\n",
    "A measure of distritution variance is then used as a target for our machine learning feature set.\n",
    "\n",
    "## About VADER scores\n",
    "Source VADER: https://github.com/cjhutto/vaderSentiment\n",
    "\n",
    "VADER (Valence Aware Dictionary and sEntiment Reasoner) is a rule-based mechanism trained on social media datasets that provides scores for strings of text ranging from -1 (extremely negative) to +1 (extremely postive).\n",
    "\n",
    "It computes a total score (compound score) for a sentence by looking up the sentiment score assigned to each individual word and then applying learned rules to modify these scores based on context.\n",
    "\n",
    "The values returned on a call to polarity_scores(string) are the positive, negative and neutral parts of the string and a post-rule computed compound score.\n",
    "\n",
    "This is in the form: {'compound': 0.4199, 'neg': 0.0, 'neu': 0.417, 'pos': 0.583}\n",
    "\n"
   ]
  },
  {
   "cell_type": "code",
   "execution_count": 3,
   "metadata": {
    "colab": {
     "base_uri": "https://localhost:8080/"
    },
    "id": "AEPhADa5Ch-0",
    "outputId": "105be7fe-a38a-4a53-8f05-dde984452677"
   },
   "outputs": [],
   "source": [
    "# Install VADER if needed. Uncomment & run.\n",
    "#!pip install vaderSentiment"
   ]
  },
  {
   "cell_type": "code",
   "execution_count": 2,
   "metadata": {
    "id": "MCph1VeyFiDt"
   },
   "outputs": [],
   "source": [
    "import pandas as pd\n",
    "import seaborn as sns\n",
    "import matplotlib.pyplot as plt\n",
    "from vaderSentiment.vaderSentiment import SentimentIntensityAnalyzer as sia"
   ]
  },
  {
   "cell_type": "markdown",
   "metadata": {},
   "source": [
    "### Assigning Parameters"
   ]
  },
  {
   "cell_type": "code",
   "execution_count": 47,
   "metadata": {},
   "outputs": [],
   "source": [
    "# Dataset Specific Parameters\n",
    "FILE_PATH = './'\n",
    "\n",
    "MIN_COMMENT_COUNT = 5\n",
    "\n",
    "OUTPUT_COLS = ['id',\n",
    "               'topic',\n",
    "               'source',\n",
    "               'text',\n",
    "               'replyCount',\n",
    "               'vaderCatLabel',\n",
    "               'vaderCat']\n",
    "\n",
    "\n",
    "## for the NYT news archive from Kaggle uncomment:\n",
    "#MAIN_ID = 'articleID'\n",
    "#MAIN_TEXT = 'snippet'\n",
    "#REPLY_ID = 'commentID'\n",
    "#REPLY_TEXT = 'commentBody'\n",
    "#TOPIC = 'newDesk'  # needed\n",
    "#SOURCE = 'kaggle'\n",
    "#REPLY_FILE = 'article_comments.csv'\n",
    "#MAIN_FILE = 'articles.csv'\n",
    "#EXPORT_NAME = 'articles_w_scores.csv'\n",
    "\n",
    "\n",
    "## for the tweet dataset uncomment:\n",
    "MAIN_ID = 'ConversationId'\n",
    "MAIN_TEXT = 'Text'\n",
    "REPLY_ID = 'TweetId'\n",
    "REPLY_TEXT = 'Text'\n",
    "TOPIC = 'Topic' #this should change after topics updated\n",
    "SOURCE = 'Username'\n",
    "    \n",
    "REPLY_FILE = 'comments.csv'\n",
    "MAIN_FILE = 'tweets.csv'\n",
    "EXPORT_NAME = 'tweets_all.csv'"
   ]
  },
  {
   "cell_type": "markdown",
   "metadata": {},
   "source": [
    "### Setting up VADER scoring"
   ]
  },
  {
   "cell_type": "code",
   "execution_count": 4,
   "metadata": {
    "id": "hfcAUO-eGe1O"
   },
   "outputs": [],
   "source": [
    "# vader initialized\n",
    "vader = sia()"
   ]
  },
  {
   "cell_type": "code",
   "execution_count": 5,
   "metadata": {
    "id": "Dy4Fs13jJdDP"
   },
   "outputs": [],
   "source": [
    "def getScore(string):\n",
    "  scoreDict = vader.polarity_scores(string)\n",
    "  return scoreDict[\"compound\"]"
   ]
  },
  {
   "cell_type": "markdown",
   "metadata": {},
   "source": [
    "### Importing Replies"
   ]
  },
  {
   "cell_type": "code",
   "execution_count": 6,
   "metadata": {
    "colab": {
     "base_uri": "https://localhost:8080/"
    },
    "id": "pzs9LKLVGzKm",
    "outputId": "ad41609e-245f-45c1-c627-e863664f6f52"
   },
   "outputs": [
    {
     "name": "stdout",
     "output_type": "stream",
     "text": [
      "total comments:  1300586\n"
     ]
    }
   ],
   "source": [
    "# reply data import\n",
    "comments = pd.read_csv(FILE_PATH + \"data/\" + REPLY_FILE)\n",
    "comments = comments[comments[REPLY_TEXT].notnull()]\n",
    "print('total comments: ',comments.shape[0])"
   ]
  },
  {
   "cell_type": "markdown",
   "metadata": {},
   "source": [
    "### Applying Scores"
   ]
  },
  {
   "cell_type": "code",
   "execution_count": 7,
   "metadata": {
    "id": "GsYm2Iv2JF_P"
   },
   "outputs": [],
   "source": [
    "# applying scores\n",
    "comments[\"vaderScore\"] = comments[REPLY_TEXT].map(getScore)"
   ]
  },
  {
   "cell_type": "markdown",
   "metadata": {},
   "source": [
    "## Analyzing for Category Cut-offs\n",
    "\n",
    "### Expectations for Polarization Distributions\n",
    "\n",
    "After working though more complex definitions of polarization, we determined that at it's essense, a polarized conversation is one that has more sentiment on the fringes than in the middle.\n",
    "\n",
    "Therefore we categorize an thread with a larger number of both positive and negative comments than neutral ones as polarized.\n",
    "If a thread is skewed negative, with very few positive comments, it is not polarized (and visa versa).\n",
    "We require both the positive and negative counts to outweigh the centralizing tweets in order to call a thread polarized.\n",
    "\n",
    "VADER uses 0.05 as the cut off for positive sentiment and -0.05 as the cut off for negative, so we do the same.\n"
   ]
  },
  {
   "cell_type": "code",
   "execution_count": 31,
   "metadata": {},
   "outputs": [],
   "source": [
    "# using vader classifications to count positive, negative and neutral tweets\n",
    "\n",
    "comments['neutral'] = 1\n",
    "comments['pos'] = 0\n",
    "comments['neg'] = 0\n",
    "\n",
    "comments.loc[(comments['vaderScore'] <= -0.05) |\n",
    "         (comments['vaderScore'] >= 0.05), 'neutral'] = 0 \n",
    "comments.loc[(comments['vaderScore'] < -0.05), 'neg'] = 1\n",
    "comments.loc[(comments['vaderScore'] > 0.05), 'pos'] = 1\n"
   ]
  },
  {
   "cell_type": "code",
   "execution_count": 42,
   "metadata": {
    "colab": {
     "base_uri": "https://localhost:8080/",
     "height": 204
    },
    "id": "8dQ-_dXbOAia",
    "outputId": "f3168300-5b57-4b66-db27-2614744dc2b6"
   },
   "outputs": [
    {
     "name": "stdout",
     "output_type": "stream",
     "text": [
      "5\n"
     ]
    },
    {
     "data": {
      "text/html": [
       "<div>\n",
       "<style scoped>\n",
       "    .dataframe tbody tr th:only-of-type {\n",
       "        vertical-align: middle;\n",
       "    }\n",
       "\n",
       "    .dataframe tbody tr th {\n",
       "        vertical-align: top;\n",
       "    }\n",
       "\n",
       "    .dataframe thead th {\n",
       "        text-align: right;\n",
       "    }\n",
       "</style>\n",
       "<table border=\"1\" class=\"dataframe\">\n",
       "  <thead>\n",
       "    <tr style=\"text-align: right;\">\n",
       "      <th></th>\n",
       "      <th>ConversationId</th>\n",
       "      <th>commentCount</th>\n",
       "      <th>neuCount</th>\n",
       "      <th>posCount</th>\n",
       "      <th>negCount</th>\n",
       "      <th>vaderCat</th>\n",
       "    </tr>\n",
       "  </thead>\n",
       "  <tbody>\n",
       "    <tr>\n",
       "      <th>1</th>\n",
       "      <td>1366177614491189251</td>\n",
       "      <td>8</td>\n",
       "      <td>1</td>\n",
       "      <td>1</td>\n",
       "      <td>6</td>\n",
       "      <td>0.0</td>\n",
       "    </tr>\n",
       "    <tr>\n",
       "      <th>4</th>\n",
       "      <td>1366181408969007104</td>\n",
       "      <td>28</td>\n",
       "      <td>6</td>\n",
       "      <td>11</td>\n",
       "      <td>11</td>\n",
       "      <td>1.0</td>\n",
       "    </tr>\n",
       "    <tr>\n",
       "      <th>6</th>\n",
       "      <td>1366182689074782210</td>\n",
       "      <td>28</td>\n",
       "      <td>8</td>\n",
       "      <td>8</td>\n",
       "      <td>12</td>\n",
       "      <td>0.0</td>\n",
       "    </tr>\n",
       "    <tr>\n",
       "      <th>7</th>\n",
       "      <td>1366182899049988105</td>\n",
       "      <td>6</td>\n",
       "      <td>1</td>\n",
       "      <td>2</td>\n",
       "      <td>3</td>\n",
       "      <td>1.0</td>\n",
       "    </tr>\n",
       "    <tr>\n",
       "      <th>8</th>\n",
       "      <td>1366183905930342400</td>\n",
       "      <td>57</td>\n",
       "      <td>23</td>\n",
       "      <td>17</td>\n",
       "      <td>17</td>\n",
       "      <td>0.0</td>\n",
       "    </tr>\n",
       "  </tbody>\n",
       "</table>\n",
       "</div>"
      ],
      "text/plain": [
       "        ConversationId  commentCount  neuCount  posCount  negCount  vaderCat\n",
       "1  1366177614491189251             8         1         1         6       0.0\n",
       "4  1366181408969007104            28         6        11        11       1.0\n",
       "6  1366182689074782210            28         8         8        12       0.0\n",
       "7  1366182899049988105             6         1         2         3       1.0\n",
       "8  1366183905930342400            57        23        17        17       0.0"
      ]
     },
     "execution_count": 42,
     "metadata": {},
     "output_type": "execute_result"
    }
   ],
   "source": [
    "# creating aggregations by original post\n",
    "\n",
    "articles = comments.groupby(MAIN_ID).agg({'neutral':['count', 'sum'],\n",
    "                                          'pos': ['sum'],\n",
    "                                          'neg': ['sum']})\n",
    "articles = articles.reset_index()\n",
    "articles[MAIN_ID] = articles[MAIN_ID].astype('int')\n",
    "\n",
    "articles.columns = [MAIN_ID, 'commentCount', \n",
    "                    'neuCount', 'posCount', 'negCount']\n",
    "\n",
    "articles['vaderCat'] = 0.0\n",
    "articles.loc[((articles.neuCount < articles.posCount) &\n",
    "             (articles.neuCount < articles.negCount)), 'vaderCat'] = 1.0\n",
    "\n",
    "articles = articles[articles['commentCount'] >= MIN_COMMENT_COUNT]\n",
    "print(MIN_COMMENT_COUNT)\n",
    "articles.head()"
   ]
  },
  {
   "cell_type": "code",
   "execution_count": 43,
   "metadata": {},
   "outputs": [
    {
     "data": {
      "text/plain": [
       "vaderCat\n",
       "0.0    10864\n",
       "1.0     8841\n",
       "Name: commentCount, dtype: int64"
      ]
     },
     "execution_count": 43,
     "metadata": {},
     "output_type": "execute_result"
    }
   ],
   "source": [
    "# display class counts\n",
    "articles.groupby('vaderCat')['commentCount'].count()"
   ]
  },
  {
   "cell_type": "markdown",
   "metadata": {},
   "source": [
    "### Adding Category Labels"
   ]
  },
  {
   "cell_type": "code",
   "execution_count": 44,
   "metadata": {},
   "outputs": [],
   "source": [
    "articles['vaderCatLabel'] = 'low'\n",
    "articles.loc[articles['vaderCat'] == 1, 'vaderCatLabel'] = 'high'"
   ]
  },
  {
   "cell_type": "markdown",
   "metadata": {},
   "source": [
    "### Merging with Original Posts and Exporting"
   ]
  },
  {
   "cell_type": "code",
   "execution_count": 49,
   "metadata": {
    "colab": {
     "base_uri": "https://localhost:8080/",
     "height": 204
    },
    "id": "ZD9EWPczLVsl",
    "outputId": "27aa9dbd-98cd-49a7-caf5-39edea719490"
   },
   "outputs": [
    {
     "name": "stdout",
     "output_type": "stream",
     "text": [
      "<class 'pandas.core.frame.DataFrame'>\n",
      "RangeIndex: 34301 entries, 0 to 34300\n",
      "Data columns (total 7 columns):\n",
      " #   Column          Non-Null Count  Dtype  \n",
      "---  ------          --------------  -----  \n",
      " 0   Datetime        34301 non-null  object \n",
      " 1   TweetId         34301 non-null  int64  \n",
      " 2   Text            34299 non-null  object \n",
      " 3   Username        34301 non-null  object \n",
      " 4   MentionedUsers  0 non-null      float64\n",
      " 5   ConversationId  34301 non-null  int64  \n",
      " 6   Topic           0 non-null      float64\n",
      "dtypes: float64(2), int64(2), object(3)\n",
      "memory usage: 1.8+ MB\n"
     ]
    }
   ],
   "source": [
    "# import main thread data \n",
    "main_df = pd.read_csv(FILE_PATH + \"data/\" + MAIN_FILE)\n",
    "\n",
    "if SOURCE == 'kaggle':\n",
    "    main_df['kaggle'] = 'nyt_kaggle'\n",
    "    \n",
    "main_df.info()"
   ]
  },
  {
   "cell_type": "code",
   "execution_count": 50,
   "metadata": {},
   "outputs": [
    {
     "name": "stdout",
     "output_type": "stream",
     "text": [
      "matched threads:  20698\n"
     ]
    }
   ],
   "source": [
    "# add standard deviation and categories\n",
    "main_df = main_df.merge(articles, on=MAIN_ID, how='inner')\n",
    "\n",
    "print(\"matched threads: \", main_df.shape[0])\n",
    "\n",
    "# filter and rename columns\n",
    "main_df = main_df[[MAIN_ID,\n",
    "                   TOPIC,\n",
    "                   SOURCE,\n",
    "                   MAIN_TEXT,\n",
    "                   'commentCount',\n",
    "                   'vaderCatLabel',\n",
    "                   'vaderCat']]\n",
    "\n",
    "main_df.columns = OUTPUT_COLS\n",
    "\n",
    "# export dataframe\n",
    "main_df.to_csv(FILE_PATH + \"data/\" + EXPORT_NAME, index=False)"
   ]
  },
  {
   "cell_type": "code",
   "execution_count": 51,
   "metadata": {},
   "outputs": [
    {
     "data": {
      "text/html": [
       "<div>\n",
       "<style scoped>\n",
       "    .dataframe tbody tr th:only-of-type {\n",
       "        vertical-align: middle;\n",
       "    }\n",
       "\n",
       "    .dataframe tbody tr th {\n",
       "        vertical-align: top;\n",
       "    }\n",
       "\n",
       "    .dataframe thead th {\n",
       "        text-align: right;\n",
       "    }\n",
       "</style>\n",
       "<table border=\"1\" class=\"dataframe\">\n",
       "  <thead>\n",
       "    <tr style=\"text-align: right;\">\n",
       "      <th></th>\n",
       "      <th>id</th>\n",
       "      <th>topic</th>\n",
       "      <th>source</th>\n",
       "      <th>text</th>\n",
       "      <th>replyCount</th>\n",
       "      <th>vaderCatLabel</th>\n",
       "      <th>vaderCat</th>\n",
       "    </tr>\n",
       "  </thead>\n",
       "  <tbody>\n",
       "    <tr>\n",
       "      <th>0</th>\n",
       "      <td>1377385383168765952</td>\n",
       "      <td>NaN</td>\n",
       "      <td>FoxNews</td>\n",
       "      <td>activists protest renaming chicago school afte...</td>\n",
       "      <td>306</td>\n",
       "      <td>high</td>\n",
       "      <td>1.0</td>\n",
       "    </tr>\n",
       "    <tr>\n",
       "      <th>1</th>\n",
       "      <td>1377384607969013765</td>\n",
       "      <td>NaN</td>\n",
       "      <td>FoxNews</td>\n",
       "      <td>border patrol video shows smugglers abandoning...</td>\n",
       "      <td>108</td>\n",
       "      <td>high</td>\n",
       "      <td>1.0</td>\n",
       "    </tr>\n",
       "    <tr>\n",
       "      <th>2</th>\n",
       "      <td>1377384339105669122</td>\n",
       "      <td>NaN</td>\n",
       "      <td>FoxNews</td>\n",
       "      <td>cause of tiger woods car crash determined but ...</td>\n",
       "      <td>169</td>\n",
       "      <td>low</td>\n",
       "      <td>0.0</td>\n",
       "    </tr>\n",
       "    <tr>\n",
       "      <th>3</th>\n",
       "      <td>1377367836046192641</td>\n",
       "      <td>NaN</td>\n",
       "      <td>FoxNews</td>\n",
       "      <td>gop rep urges hhs to halt reported plan to rel...</td>\n",
       "      <td>80</td>\n",
       "      <td>high</td>\n",
       "      <td>1.0</td>\n",
       "    </tr>\n",
       "    <tr>\n",
       "      <th>4</th>\n",
       "      <td>1377358399759785987</td>\n",
       "      <td>NaN</td>\n",
       "      <td>FoxNews</td>\n",
       "      <td>some democrats trying to stop iowa new hampshi...</td>\n",
       "      <td>96</td>\n",
       "      <td>high</td>\n",
       "      <td>1.0</td>\n",
       "    </tr>\n",
       "  </tbody>\n",
       "</table>\n",
       "</div>"
      ],
      "text/plain": [
       "                    id  topic   source  \\\n",
       "0  1377385383168765952    NaN  FoxNews   \n",
       "1  1377384607969013765    NaN  FoxNews   \n",
       "2  1377384339105669122    NaN  FoxNews   \n",
       "3  1377367836046192641    NaN  FoxNews   \n",
       "4  1377358399759785987    NaN  FoxNews   \n",
       "\n",
       "                                                text  replyCount  \\\n",
       "0  activists protest renaming chicago school afte...         306   \n",
       "1  border patrol video shows smugglers abandoning...         108   \n",
       "2  cause of tiger woods car crash determined but ...         169   \n",
       "3  gop rep urges hhs to halt reported plan to rel...          80   \n",
       "4  some democrats trying to stop iowa new hampshi...          96   \n",
       "\n",
       "  vaderCatLabel  vaderCat  \n",
       "0          high       1.0  \n",
       "1          high       1.0  \n",
       "2           low       0.0  \n",
       "3          high       1.0  \n",
       "4          high       1.0  "
      ]
     },
     "execution_count": 51,
     "metadata": {},
     "output_type": "execute_result"
    }
   ],
   "source": [
    "main_df = pd.read_csv(FILE_PATH + 'data/tweets_all.csv')\n",
    "main_df.head()"
   ]
  },
  {
   "cell_type": "code",
   "execution_count": null,
   "metadata": {},
   "outputs": [],
   "source": []
  }
 ],
 "metadata": {
  "colab": {
   "collapsed_sections": [],
   "name": "sentiment_scores.ipynb",
   "provenance": []
  },
  "kernelspec": {
   "display_name": "Python 3",
   "language": "python",
   "name": "python3"
  },
  "language_info": {
   "codemirror_mode": {
    "name": "ipython",
    "version": 3
   },
   "file_extension": ".py",
   "mimetype": "text/x-python",
   "name": "python",
   "nbconvert_exporter": "python",
   "pygments_lexer": "ipython3",
   "version": "3.8.2"
  }
 },
 "nbformat": 4,
 "nbformat_minor": 4
}
