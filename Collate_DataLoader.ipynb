{
 "cells": [
  {
   "cell_type": "markdown",
   "metadata": {},
   "source": [
    "# Collate Function and Dataloader Class\n",
    "\n",
    "In this notebook, we develop the appropriate collate function and data classes for this project. A **collate function**  is how the dataloader will processes each example from the dataset.\n",
    "\n",
    "Dataset and DataLoader are PyTorch classes that provides utilities for iterating through and sampling from a dataset."
   ]
  },
  {
   "cell_type": "code",
   "execution_count": 56,
   "metadata": {},
   "outputs": [],
   "source": [
    "import torch\n",
    "import pandas as pd\n",
    "import numpy as np\n",
    "import pre_processing as pp\n",
    "from nltk import word_tokenize\n",
    "from torchtext.data.utils import get_tokenizer\n",
    "\n",
    "tokenizer = get_tokenizer('basic_english')"
   ]
  },
  {
   "cell_type": "markdown",
   "metadata": {},
   "source": [
    "## 0. Download Data"
   ]
  },
  {
   "cell_type": "code",
   "execution_count": 4,
   "metadata": {},
   "outputs": [],
   "source": [
    "articles = pd.read_csv('data/articles.csv')\n",
    "scores = pd.read_csv('data/articles_w_scores.csv')\n",
    "data = scores[['articleID','vaderMean','vaderStd', 'vaderIQR']].merge(articles)"
   ]
  },
  {
   "cell_type": "code",
   "execution_count": 52,
   "metadata": {},
   "outputs": [
    {
     "data": {
      "text/plain": [
       "articleID                             5adf6684068401528a2aa69b\n",
       "vaderMean                                             0.345973\n",
       "vaderStd                                              0.511952\n",
       "vaderIQR                                              0.750975\n",
       "snippet      “I understand that they could meet with us, pa...\n",
       "topic                                        Culture/Education\n",
       "Name: 0, dtype: object"
      ]
     },
     "execution_count": 52,
     "metadata": {},
     "output_type": "execute_result"
    }
   ],
   "source": [
    "data.iloc[0]"
   ]
  },
  {
   "cell_type": "markdown",
   "metadata": {},
   "source": [
    "## 1. Create Custom Dataset Object (PyTorch)"
   ]
  },
  {
   "cell_type": "code",
   "execution_count": 10,
   "metadata": {},
   "outputs": [],
   "source": [
    "from torch.utils.data import Dataset"
   ]
  },
  {
   "cell_type": "code",
   "execution_count": 61,
   "metadata": {},
   "outputs": [],
   "source": [
    "class ProjectDataset(Dataset):\n",
    "    def __init__(self, data, target_col, text_col):\n",
    "        \n",
    "        data_lists = []\n",
    "        \n",
    "        for index, row in data.iterrows():\n",
    "            text = pp.clean_text(row[text_col], lowercase=False)\n",
    "            text = word_tokenize(text)\n",
    "            target = row[target_col]\n",
    "            data_lists.append([target, text])\n",
    "        \n",
    "        self.samples = data_lists\n",
    "        \n",
    "    def __len__(self):\n",
    "        return len(self.samples)\n",
    "\n",
    "    def __getitem__(self, idx):\n",
    "        return self.samples[idx]"
   ]
  },
  {
   "cell_type": "code",
   "execution_count": 62,
   "metadata": {},
   "outputs": [],
   "source": [
    "data_object = ProjectDataset(data, 'vaderStd', 'snippet')"
   ]
  },
  {
   "cell_type": "code",
   "execution_count": 63,
   "metadata": {},
   "outputs": [
    {
     "data": {
      "text/plain": [
       "4720"
      ]
     },
     "execution_count": 63,
     "metadata": {},
     "output_type": "execute_result"
    }
   ],
   "source": [
    "len(data_object)"
   ]
  },
  {
   "cell_type": "code",
   "execution_count": 64,
   "metadata": {},
   "outputs": [
    {
     "data": {
      "text/plain": [
       "[[0.5119524453713237,\n",
       "  ['I',\n",
       "   'understand',\n",
       "   'that',\n",
       "   'they',\n",
       "   'could',\n",
       "   'meet',\n",
       "   'with',\n",
       "   'us',\n",
       "   'patronize',\n",
       "   'us',\n",
       "   'and',\n",
       "   'do',\n",
       "   'nothing',\n",
       "   'in',\n",
       "   'the',\n",
       "   'end',\n",
       "   'their',\n",
       "   'lawyer',\n",
       "   'says']],\n",
       " [0.5667606324178027,\n",
       "  ['The',\n",
       "   'agency',\n",
       "   'plans',\n",
       "   'to',\n",
       "   'publish',\n",
       "   'a',\n",
       "   'new',\n",
       "   'regulation',\n",
       "   'Tuesday',\n",
       "   'that',\n",
       "   'would',\n",
       "   'restrict',\n",
       "   'the',\n",
       "   'kinds',\n",
       "   'of',\n",
       "   'scientific',\n",
       "   'studies',\n",
       "   'the',\n",
       "   'agency',\n",
       "   'can',\n",
       "   'use',\n",
       "   'when',\n",
       "   'it',\n",
       "   'develops',\n",
       "   'policies']]]"
      ]
     },
     "execution_count": 64,
     "metadata": {},
     "output_type": "execute_result"
    }
   ],
   "source": [
    "data_object[0:2]"
   ]
  },
  {
   "cell_type": "markdown",
   "metadata": {},
   "source": [
    "## 2. Collate Function"
   ]
  },
  {
   "cell_type": "markdown",
   "metadata": {},
   "source": [
    "### 2.1 Bag of Words"
   ]
  },
  {
   "cell_type": "code",
   "execution_count": 65,
   "metadata": {},
   "outputs": [],
   "source": [
    "#Bag of Words\n",
    "from torchtext.data.utils import get_tokenizer\n",
    "from collections import Counter\n",
    "from torchtext.vocab import Vocab\n",
    "\n",
    "tokenizer = get_tokenizer('basic_english')\n",
    "\n",
    "def get_vocab(training_data):\n",
    "    counter = Counter()\n",
    "    for (label, line) in train_iter:\n",
    "        counter.update(line)\n",
    "    vocab = Vocab(counter, min_freq=1000)\n",
    "    return vocab\n",
    "\n",
    "\n",
    "def collate_into_bow(batch):  \n",
    "    labels = []\n",
    "    bag_vector = torch.zeros((len(batch),len(vocab)))\n",
    "    for i, (label, line) in enumerate(batch):\n",
    "        labels.append(label-1)\n",
    "        for w in line:            \n",
    "            bag_vector[i, vocab[w]] += 1\n",
    "    \n",
    "    bag_vector = (bag_vector/bag_vector.sum(axis=1, keepdim=True))\n",
    "    return torch.tensor(labels), bag_vector"
   ]
  },
  {
   "cell_type": "markdown",
   "metadata": {},
   "source": [
    "### 2.2 Continuous Bag of Words using GloVe"
   ]
  },
  {
   "cell_type": "code",
   "execution_count": 66,
   "metadata": {},
   "outputs": [
    {
     "name": "stderr",
     "output_type": "stream",
     "text": [
      ".vector_cache/glove.6B.zip: 862MB [07:51, 1.83MB/s]                               \n",
      "100%|█████████▉| 399999/400000 [00:32<00:00, 12128.48it/s]\n"
     ]
    }
   ],
   "source": [
    "from torchtext.vocab import GloVe\n",
    "glove = GloVe(name='6B') #Takes long to download\n",
    "\n",
    "def collate_into_cbow(batch):\n",
    "    cbag_vector = torch.tensor([])\n",
    "    labels = []\n",
    "    for i, (label, line) in enumerate(batch):\n",
    "        labels.append(label-1)\n",
    "        vecs = glove.get_vecs_by_tokens(line)\n",
    "        vecs = vecs.sum(axis=0)/vecs.shape[0]\n",
    "        cbag_vector = torch.cat([cbag_vector, vecs.view(1, -1)])\n",
    "    \n",
    "    return torch.tensor(labels), cbag_vector"
   ]
  },
  {
   "cell_type": "markdown",
   "metadata": {},
   "source": [
    "## 3. DataLoader"
   ]
  },
  {
   "cell_type": "markdown",
   "metadata": {},
   "source": [
    "### 3.1 Load Articles Data"
   ]
  },
  {
   "cell_type": "code",
   "execution_count": 68,
   "metadata": {},
   "outputs": [],
   "source": [
    "from torch.utils.data import DataLoader\n",
    "train_dataloader = DataLoader(data_object, batch_size=30,\n",
    "                              shuffle=True, \n",
    "                              collate_fn=collate_into_bow)"
   ]
  },
  {
   "cell_type": "code",
   "execution_count": 71,
   "metadata": {},
   "outputs": [
    {
     "data": {
      "text/plain": [
       "<torch.utils.data.dataloader.DataLoader at 0x7fdad80b1cd0>"
      ]
     },
     "execution_count": 71,
     "metadata": {},
     "output_type": "execute_result"
    }
   ],
   "source": [
    "train_dataloader"
   ]
  },
  {
   "cell_type": "code",
   "execution_count": null,
   "metadata": {},
   "outputs": [],
   "source": []
  }
 ],
 "metadata": {
  "kernelspec": {
   "display_name": "Python 3",
   "language": "python",
   "name": "python3"
  },
  "language_info": {
   "codemirror_mode": {
    "name": "ipython",
    "version": 3
   },
   "file_extension": ".py",
   "mimetype": "text/x-python",
   "name": "python",
   "nbconvert_exporter": "python",
   "pygments_lexer": "ipython3",
   "version": "3.8.1"
  }
 },
 "nbformat": 4,
 "nbformat_minor": 4
}
