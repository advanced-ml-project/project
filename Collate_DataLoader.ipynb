{
 "cells": [
  {
   "cell_type": "markdown",
   "metadata": {},
   "source": [
    "# Collate Function and Dataloader Class\n",
    "\n",
    "In this notebook, we develop the appropriate collate function and data classes for this project. A **collate function**  is how the dataloader will processes each example from the dataset.\n",
    "\n",
    "Dataset and DataLoader are PyTorch classes that provides utilities for iterating through and sampling from a dataset."
   ]
  },
  {
   "cell_type": "code",
   "execution_count": 1,
   "metadata": {},
   "outputs": [
    {
     "name": "stderr",
     "output_type": "stream",
     "text": [
      "/Users/LokiJo/opt/anaconda3/lib/python3.8/site-packages/gensim/similarities/__init__.py:15: UserWarning: The gensim.similarities.levenshtein submodule is disabled, because the optional Levenshtein package <https://pypi.org/project/python-Levenshtein/> is unavailable. Install Levenhstein (e.g. `pip install python-Levenshtein`) to suppress this warning.\n",
      "  warnings.warn(msg)\n"
     ]
    }
   ],
   "source": [
    "import torch\n",
    "import pandas as pd\n",
    "import numpy as np\n",
    "import pre_processing as pp\n",
    "from nltk import word_tokenize\n",
    "from torchtext.data.utils import get_tokenizer\n",
    "import dataobject as pdata\n",
    "\n",
    "tokenizer = get_tokenizer('basic_english')"
   ]
  },
  {
   "cell_type": "markdown",
   "metadata": {},
   "source": [
    "## 0. Download Data"
   ]
  },
  {
   "cell_type": "code",
   "execution_count": 6,
   "metadata": {},
   "outputs": [],
   "source": [
    "data = pd.read_csv('data/tweets_all.csv')"
   ]
  },
  {
   "cell_type": "code",
   "execution_count": 7,
   "metadata": {},
   "outputs": [
    {
     "data": {
      "text/html": [
       "<div>\n",
       "<style scoped>\n",
       "    .dataframe tbody tr th:only-of-type {\n",
       "        vertical-align: middle;\n",
       "    }\n",
       "\n",
       "    .dataframe tbody tr th {\n",
       "        vertical-align: top;\n",
       "    }\n",
       "\n",
       "    .dataframe thead th {\n",
       "        text-align: right;\n",
       "    }\n",
       "</style>\n",
       "<table border=\"1\" class=\"dataframe\">\n",
       "  <thead>\n",
       "    <tr style=\"text-align: right;\">\n",
       "      <th></th>\n",
       "      <th>id</th>\n",
       "      <th>topic</th>\n",
       "      <th>source</th>\n",
       "      <th>text</th>\n",
       "      <th>replyCount</th>\n",
       "      <th>vaderMean</th>\n",
       "      <th>vaderStd</th>\n",
       "      <th>vaderCatLabel</th>\n",
       "      <th>vaderCat</th>\n",
       "    </tr>\n",
       "  </thead>\n",
       "  <tbody>\n",
       "    <tr>\n",
       "      <th>0</th>\n",
       "      <td>1377385383168765952</td>\n",
       "      <td>Politics</td>\n",
       "      <td>FoxNews</td>\n",
       "      <td>activists protest renaming chicago school afte...</td>\n",
       "      <td>306</td>\n",
       "      <td>-0.052830</td>\n",
       "      <td>0.445459</td>\n",
       "      <td>medium</td>\n",
       "      <td>1.0</td>\n",
       "    </tr>\n",
       "    <tr>\n",
       "      <th>1</th>\n",
       "      <td>1377384607969013765</td>\n",
       "      <td>Violence</td>\n",
       "      <td>FoxNews</td>\n",
       "      <td>border patrol video shows smugglers abandoning...</td>\n",
       "      <td>108</td>\n",
       "      <td>-0.045958</td>\n",
       "      <td>0.495337</td>\n",
       "      <td>medium</td>\n",
       "      <td>1.0</td>\n",
       "    </tr>\n",
       "    <tr>\n",
       "      <th>2</th>\n",
       "      <td>1377384339105669122</td>\n",
       "      <td>Media</td>\n",
       "      <td>FoxNews</td>\n",
       "      <td>cause of tiger woods car crash determined but ...</td>\n",
       "      <td>169</td>\n",
       "      <td>-0.034919</td>\n",
       "      <td>0.424833</td>\n",
       "      <td>medium</td>\n",
       "      <td>1.0</td>\n",
       "    </tr>\n",
       "    <tr>\n",
       "      <th>3</th>\n",
       "      <td>1377367836046192641</td>\n",
       "      <td>Politics</td>\n",
       "      <td>FoxNews</td>\n",
       "      <td>gop rep urges hhs to halt reported plan to rel...</td>\n",
       "      <td>80</td>\n",
       "      <td>0.043459</td>\n",
       "      <td>0.495874</td>\n",
       "      <td>medium</td>\n",
       "      <td>1.0</td>\n",
       "    </tr>\n",
       "    <tr>\n",
       "      <th>4</th>\n",
       "      <td>1377358399759785987</td>\n",
       "      <td>Politics</td>\n",
       "      <td>FoxNews</td>\n",
       "      <td>some democrats trying to stop iowa new hampshi...</td>\n",
       "      <td>96</td>\n",
       "      <td>-0.040135</td>\n",
       "      <td>0.433053</td>\n",
       "      <td>medium</td>\n",
       "      <td>1.0</td>\n",
       "    </tr>\n",
       "    <tr>\n",
       "      <th>...</th>\n",
       "      <td>...</td>\n",
       "      <td>...</td>\n",
       "      <td>...</td>\n",
       "      <td>...</td>\n",
       "      <td>...</td>\n",
       "      <td>...</td>\n",
       "      <td>...</td>\n",
       "      <td>...</td>\n",
       "      <td>...</td>\n",
       "    </tr>\n",
       "    <tr>\n",
       "      <th>20692</th>\n",
       "      <td>1377415994973376513</td>\n",
       "      <td>Protests</td>\n",
       "      <td>Reuters</td>\n",
       "      <td>u n  special envoy tells security council to a...</td>\n",
       "      <td>14</td>\n",
       "      <td>-0.334379</td>\n",
       "      <td>0.346530</td>\n",
       "      <td>low</td>\n",
       "      <td>0.0</td>\n",
       "    </tr>\n",
       "    <tr>\n",
       "      <th>20693</th>\n",
       "      <td>1377414604851142662</td>\n",
       "      <td>Business</td>\n",
       "      <td>Reuters</td>\n",
       "      <td>wisconsin high court voids governors mask mand...</td>\n",
       "      <td>12</td>\n",
       "      <td>-0.057192</td>\n",
       "      <td>0.521413</td>\n",
       "      <td>high</td>\n",
       "      <td>2.0</td>\n",
       "    </tr>\n",
       "    <tr>\n",
       "      <th>20694</th>\n",
       "      <td>1377412951456411649</td>\n",
       "      <td>Politics</td>\n",
       "      <td>Reuters</td>\n",
       "      <td>analysis  biden infrastructure plan bets big o...</td>\n",
       "      <td>38</td>\n",
       "      <td>0.047718</td>\n",
       "      <td>0.422482</td>\n",
       "      <td>medium</td>\n",
       "      <td>1.0</td>\n",
       "    </tr>\n",
       "    <tr>\n",
       "      <th>20695</th>\n",
       "      <td>1377411743295541252</td>\n",
       "      <td>Protests</td>\n",
       "      <td>Reuters</td>\n",
       "      <td>analysis  deliveroos flop a wake up call for t...</td>\n",
       "      <td>5</td>\n",
       "      <td>-0.171920</td>\n",
       "      <td>0.404383</td>\n",
       "      <td>medium</td>\n",
       "      <td>1.0</td>\n",
       "    </tr>\n",
       "    <tr>\n",
       "      <th>20696</th>\n",
       "      <td>1377410437835149312</td>\n",
       "      <td>Protests</td>\n",
       "      <td>Reuters</td>\n",
       "      <td>defense tells canada court that huawei cfos ar...</td>\n",
       "      <td>6</td>\n",
       "      <td>-0.145833</td>\n",
       "      <td>0.340716</td>\n",
       "      <td>low</td>\n",
       "      <td>0.0</td>\n",
       "    </tr>\n",
       "  </tbody>\n",
       "</table>\n",
       "<p>20697 rows × 9 columns</p>\n",
       "</div>"
      ],
      "text/plain": [
       "                        id     topic   source  \\\n",
       "0      1377385383168765952  Politics  FoxNews   \n",
       "1      1377384607969013765  Violence  FoxNews   \n",
       "2      1377384339105669122     Media  FoxNews   \n",
       "3      1377367836046192641  Politics  FoxNews   \n",
       "4      1377358399759785987  Politics  FoxNews   \n",
       "...                    ...       ...      ...   \n",
       "20692  1377415994973376513  Protests  Reuters   \n",
       "20693  1377414604851142662  Business  Reuters   \n",
       "20694  1377412951456411649  Politics  Reuters   \n",
       "20695  1377411743295541252  Protests  Reuters   \n",
       "20696  1377410437835149312  Protests  Reuters   \n",
       "\n",
       "                                                    text  replyCount  \\\n",
       "0      activists protest renaming chicago school afte...         306   \n",
       "1      border patrol video shows smugglers abandoning...         108   \n",
       "2      cause of tiger woods car crash determined but ...         169   \n",
       "3      gop rep urges hhs to halt reported plan to rel...          80   \n",
       "4      some democrats trying to stop iowa new hampshi...          96   \n",
       "...                                                  ...         ...   \n",
       "20692  u n  special envoy tells security council to a...          14   \n",
       "20693  wisconsin high court voids governors mask mand...          12   \n",
       "20694  analysis  biden infrastructure plan bets big o...          38   \n",
       "20695  analysis  deliveroos flop a wake up call for t...           5   \n",
       "20696  defense tells canada court that huawei cfos ar...           6   \n",
       "\n",
       "       vaderMean  vaderStd vaderCatLabel  vaderCat  \n",
       "0      -0.052830  0.445459        medium       1.0  \n",
       "1      -0.045958  0.495337        medium       1.0  \n",
       "2      -0.034919  0.424833        medium       1.0  \n",
       "3       0.043459  0.495874        medium       1.0  \n",
       "4      -0.040135  0.433053        medium       1.0  \n",
       "...          ...       ...           ...       ...  \n",
       "20692  -0.334379  0.346530           low       0.0  \n",
       "20693  -0.057192  0.521413          high       2.0  \n",
       "20694   0.047718  0.422482        medium       1.0  \n",
       "20695  -0.171920  0.404383        medium       1.0  \n",
       "20696  -0.145833  0.340716           low       0.0  \n",
       "\n",
       "[20697 rows x 9 columns]"
      ]
     },
     "execution_count": 7,
     "metadata": {},
     "output_type": "execute_result"
    }
   ],
   "source": [
    "data"
   ]
  },
  {
   "cell_type": "markdown",
   "metadata": {},
   "source": [
    "## New Example Process\n",
    "All functions have been placed in dataobject.py \n",
    "for ease of replication.\n",
    "\n",
    "This should be all that is needed in model notebooks:"
   ]
  },
  {
   "cell_type": "code",
   "execution_count": 8,
   "metadata": {},
   "outputs": [
    {
     "name": "stdout",
     "output_type": "stream",
     "text": [
      "downloading GloVe, please wait.\n",
      "training size:  16560\n",
      "validation size:  2070\n",
      "testing size:  2070\n"
     ]
    }
   ],
   "source": [
    "train, validate, test = pdata.get_datasets(data, 'vaderCat', 'text', \n",
    "                                           collate_func='cbow',\n",
    "                                           batch_size=30,\n",
    "                                           split=0.2, \n",
    "                                           random_seed=42)"
   ]
  },
  {
   "cell_type": "markdown",
   "metadata": {},
   "source": [
    "## Old Process (functions all moved into dataobject.py)"
   ]
  },
  {
   "cell_type": "markdown",
   "metadata": {},
   "source": [
    "## 1. Create Custom Dataset Object (PyTorch)"
   ]
  },
  {
   "cell_type": "code",
   "execution_count": null,
   "metadata": {},
   "outputs": [],
   "source": [
    "#Updated version imported from dataobject.py\n",
    "\n",
    "from torch.utils.data import Dataset\n",
    "\n",
    "class ProjectDataset(Dataset):\n",
    "    def __init__(self, data, target_col, text_col):\n",
    "        data_lists = []\n",
    "        \n",
    "        for index, row in data.iterrows():\n",
    "            text = pp.clean_text(row[text_col], lowercase=False)\n",
    "            text = word_tokenize(text)\n",
    "            target = row[target_col]\n",
    "            data_lists.append([target, text])\n",
    "        \n",
    "        self.samples = data_lists\n",
    "        \n",
    "    def __len__(self):\n",
    "        return len(self.samples)\n",
    "\n",
    "    def __getitem__(self, idx):\n",
    "        return self.samples[idx]"
   ]
  },
  {
   "cell_type": "code",
   "execution_count": null,
   "metadata": {},
   "outputs": [],
   "source": [
    "len(data_object)"
   ]
  },
  {
   "cell_type": "code",
   "execution_count": null,
   "metadata": {},
   "outputs": [],
   "source": [
    "data_object[0:2]"
   ]
  },
  {
   "cell_type": "markdown",
   "metadata": {},
   "source": [
    "## 2. Collate Function"
   ]
  },
  {
   "cell_type": "markdown",
   "metadata": {},
   "source": [
    "### 2.1 Bag of Words"
   ]
  },
  {
   "cell_type": "code",
   "execution_count": null,
   "metadata": {},
   "outputs": [],
   "source": [
    "#Bag of Words\n",
    "from torchtext.data.utils import get_tokenizer\n",
    "from collections import Counter\n",
    "from torchtext.vocab import Vocab\n",
    "\n",
    "tokenizer = get_tokenizer('basic_english')\n",
    "\n",
    "def get_vocab(training_data):\n",
    "    counter = Counter()\n",
    "    for (label, line) in train_iter:\n",
    "        counter.update(line)\n",
    "    vocab = Vocab(counter, min_freq=1000)\n",
    "    return vocab\n",
    "\n",
    "\n",
    "def collate_into_bow(batch):  \n",
    "    labels = []\n",
    "    bag_vector = torch.zeros((len(batch),len(vocab)))\n",
    "    for i, (label, line) in enumerate(batch):\n",
    "        labels.append(label-1)\n",
    "        for w in line:            \n",
    "            bag_vector[i, vocab[w]] += 1\n",
    "    \n",
    "    bag_vector = (bag_vector/bag_vector.sum(axis=1, keepdim=True))\n",
    "    return torch.tensor(labels), bag_vector"
   ]
  },
  {
   "cell_type": "markdown",
   "metadata": {},
   "source": [
    "### 2.2 Continuous Bag of Words using GloVe"
   ]
  },
  {
   "cell_type": "code",
   "execution_count": null,
   "metadata": {},
   "outputs": [],
   "source": [
    "from torchtext.vocab import GloVe\n",
    "glove = GloVe(name='6B') #Takes long to download\n",
    "\n",
    "def collate_into_cbow(batch):\n",
    "    cbag_vector = torch.tensor([])\n",
    "    labels = []\n",
    "    for i, (label, line) in enumerate(batch):\n",
    "        labels.append(label-1)\n",
    "        vecs = glove.get_vecs_by_tokens(line)\n",
    "        vecs = vecs.sum(axis=0)/vecs.shape[0]\n",
    "        cbag_vector = torch.cat([cbag_vector, vecs.view(1, -1)])\n",
    "    \n",
    "    return torch.tensor(labels), cbag_vector"
   ]
  },
  {
   "cell_type": "markdown",
   "metadata": {},
   "source": [
    "## 3. DataLoader"
   ]
  },
  {
   "cell_type": "markdown",
   "metadata": {},
   "source": [
    "### 3.1 Load Articles Data"
   ]
  },
  {
   "cell_type": "code",
   "execution_count": null,
   "metadata": {},
   "outputs": [],
   "source": [
    "from torch.utils.data import DataLoader\n",
    "BATCH_SIZE = 30\n",
    "\n",
    "train_dataloader = DataLoader(data_object, batch_size=BATCH_SIZE,\n",
    "                              sampler=data_object.train, \n",
    "                              collate_fn=collate_into_bow)\n",
    "valid_dataloader = DataLoader(data_object, batch_size=BATCH_SIZE,\n",
    "                              sampler=data_object.valid, \n",
    "                              collate_fn=collate_into_bow)\n",
    "test_dataloader = DataLoader(data_object, batch_size=BATCH_SIZE,\n",
    "                              sampler=data_object.test, \n",
    "                              collate_fn=collate_into_bow)"
   ]
  },
  {
   "cell_type": "code",
   "execution_count": null,
   "metadata": {},
   "outputs": [],
   "source": [
    "print(\"training size: \", len(train_dataloader)*BATCH_SIZE)\n",
    "print(\"validation size: \", len(valid_dataloader)*BATCH_SIZE)\n",
    "print(\"testing size: \", len(test_dataloader)*BATCH_SIZE)"
   ]
  },
  {
   "cell_type": "code",
   "execution_count": null,
   "metadata": {},
   "outputs": [],
   "source": [
    "for i in iter(data_object.train):\n",
    "    print(i)\n",
    "    break"
   ]
  },
  {
   "cell_type": "code",
   "execution_count": null,
   "metadata": {},
   "outputs": [],
   "source": [
    "len([data_object[i] for i in data_object.train])"
   ]
  },
  {
   "cell_type": "code",
   "execution_count": null,
   "metadata": {},
   "outputs": [],
   "source": []
  }
 ],
 "metadata": {
  "kernelspec": {
   "display_name": "Python 3",
   "language": "python",
   "name": "python3"
  },
  "language_info": {
   "codemirror_mode": {
    "name": "ipython",
    "version": 3
   },
   "file_extension": ".py",
   "mimetype": "text/x-python",
   "name": "python",
   "nbconvert_exporter": "python",
   "pygments_lexer": "ipython3",
   "version": "3.8.2"
  }
 },
 "nbformat": 4,
 "nbformat_minor": 4
}
