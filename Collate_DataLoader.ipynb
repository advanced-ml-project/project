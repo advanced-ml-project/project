{
 "cells": [
  {
   "cell_type": "markdown",
   "metadata": {},
   "source": [
    "# Collate Function and Dataloader Class\n",
    "\n",
    "In this notebook, we develop the appropriate collate function and data classes for this project. A **collate function**  is how the dataloader will processes each example from the dataset.\n",
    "\n",
    "Dataset and DataLoader are PyTorch classes that provides utilities for iterating through and sampling from a dataset."
   ]
  },
  {
   "cell_type": "code",
   "execution_count": 6,
   "metadata": {},
   "outputs": [],
   "source": [
    "import torch\n",
    "import pandas as pd\n",
    "import numpy as np\n",
    "import pre_processing as pp\n",
    "from nltk import word_tokenize\n",
    "from torchtext.data.utils import get_tokenizer\n",
    "\n",
    "tokenizer = get_tokenizer('basic_english')"
   ]
  },
  {
   "cell_type": "markdown",
   "metadata": {},
   "source": [
    "## 0. Download Data"
   ]
  },
  {
   "cell_type": "code",
   "execution_count": 14,
   "metadata": {},
   "outputs": [],
   "source": [
    "articles = pd.read_csv('data/articles.csv')\n",
    "scores = pd.read_csv('data/articles_w_scores.csv')\n",
    "data = scores[['id','vaderMean','vaderStd', 'vaderCat']].merge(articles, left_on='id', right_on='articleID')"
   ]
  },
  {
   "cell_type": "code",
   "execution_count": 15,
   "metadata": {},
   "outputs": [
    {
     "data": {
      "text/html": [
       "<div>\n",
       "<style scoped>\n",
       "    .dataframe tbody tr th:only-of-type {\n",
       "        vertical-align: middle;\n",
       "    }\n",
       "\n",
       "    .dataframe tbody tr th {\n",
       "        vertical-align: top;\n",
       "    }\n",
       "\n",
       "    .dataframe thead th {\n",
       "        text-align: right;\n",
       "    }\n",
       "</style>\n",
       "<table border=\"1\" class=\"dataframe\">\n",
       "  <thead>\n",
       "    <tr style=\"text-align: right;\">\n",
       "      <th></th>\n",
       "      <th>id</th>\n",
       "      <th>vaderMean</th>\n",
       "      <th>vaderStd</th>\n",
       "      <th>vaderCat</th>\n",
       "      <th>articleID</th>\n",
       "      <th>snippet</th>\n",
       "      <th>topic</th>\n",
       "    </tr>\n",
       "  </thead>\n",
       "  <tbody>\n",
       "    <tr>\n",
       "      <th>0</th>\n",
       "      <td>5adf6684068401528a2aa69b</td>\n",
       "      <td>0.345973</td>\n",
       "      <td>0.511952</td>\n",
       "      <td>2.0</td>\n",
       "      <td>5adf6684068401528a2aa69b</td>\n",
       "      <td>“I understand that they could meet with us, pa...</td>\n",
       "      <td>Culture/Education</td>\n",
       "    </tr>\n",
       "    <tr>\n",
       "      <th>1</th>\n",
       "      <td>5adf653f068401528a2aa697</td>\n",
       "      <td>0.044260</td>\n",
       "      <td>0.566761</td>\n",
       "      <td>2.0</td>\n",
       "      <td>5adf653f068401528a2aa697</td>\n",
       "      <td>The agency plans to publish a new regulation T...</td>\n",
       "      <td>Elections</td>\n",
       "    </tr>\n",
       "    <tr>\n",
       "      <th>2</th>\n",
       "      <td>5adf4626068401528a2aa628</td>\n",
       "      <td>0.488810</td>\n",
       "      <td>0.538851</td>\n",
       "      <td>2.0</td>\n",
       "      <td>5adf4626068401528a2aa628</td>\n",
       "      <td>What’s it like to eat at the second incarnatio...</td>\n",
       "      <td>International</td>\n",
       "    </tr>\n",
       "    <tr>\n",
       "      <th>3</th>\n",
       "      <td>5adf40d2068401528a2aa619</td>\n",
       "      <td>0.042040</td>\n",
       "      <td>0.625098</td>\n",
       "      <td>2.0</td>\n",
       "      <td>5adf40d2068401528a2aa619</td>\n",
       "      <td>President Trump welcomed President Emmanuel Ma...</td>\n",
       "      <td>International</td>\n",
       "    </tr>\n",
       "    <tr>\n",
       "      <th>4</th>\n",
       "      <td>5adf3d64068401528a2aa60f</td>\n",
       "      <td>-0.316441</td>\n",
       "      <td>0.623894</td>\n",
       "      <td>2.0</td>\n",
       "      <td>5adf3d64068401528a2aa60f</td>\n",
       "      <td>Alek Minassian, 25, a resident of Toronto’s Ri...</td>\n",
       "      <td>Gun Crimes</td>\n",
       "    </tr>\n",
       "    <tr>\n",
       "      <th>...</th>\n",
       "      <td>...</td>\n",
       "      <td>...</td>\n",
       "      <td>...</td>\n",
       "      <td>...</td>\n",
       "      <td>...</td>\n",
       "      <td>...</td>\n",
       "      <td>...</td>\n",
       "    </tr>\n",
       "    <tr>\n",
       "      <th>3355</th>\n",
       "      <td>5abfcca647de81a90121a899</td>\n",
       "      <td>0.317276</td>\n",
       "      <td>0.578538</td>\n",
       "      <td>2.0</td>\n",
       "      <td>5abfcca647de81a90121a899</td>\n",
       "      <td>Can post-Christian spirituality make a bridge ...</td>\n",
       "      <td>Politics</td>\n",
       "    </tr>\n",
       "    <tr>\n",
       "      <th>3356</th>\n",
       "      <td>5abfcca747de81a90121a89a</td>\n",
       "      <td>0.188099</td>\n",
       "      <td>0.612754</td>\n",
       "      <td>2.0</td>\n",
       "      <td>5abfcca747de81a90121a89a</td>\n",
       "      <td>A tale of two Kushner brothers, on either side...</td>\n",
       "      <td>Leisure</td>\n",
       "    </tr>\n",
       "    <tr>\n",
       "      <th>3357</th>\n",
       "      <td>5abfd02c47de81a90121a8af</td>\n",
       "      <td>-0.013215</td>\n",
       "      <td>0.631028</td>\n",
       "      <td>2.0</td>\n",
       "      <td>5abfd02c47de81a90121a8af</td>\n",
       "      <td>The president sticks his head in the sand as h...</td>\n",
       "      <td>Social Issues</td>\n",
       "    </tr>\n",
       "    <tr>\n",
       "      <th>3358</th>\n",
       "      <td>5abfd3ae47de81a90121a8bf</td>\n",
       "      <td>-0.057539</td>\n",
       "      <td>0.714906</td>\n",
       "      <td>2.0</td>\n",
       "      <td>5abfd3ae47de81a90121a8bf</td>\n",
       "      <td>In 1968, Spiro Agnew was the man of the white,...</td>\n",
       "      <td>Social Media</td>\n",
       "    </tr>\n",
       "    <tr>\n",
       "      <th>3359</th>\n",
       "      <td>5ac0ea1647de81a90121abd6</td>\n",
       "      <td>-0.182931</td>\n",
       "      <td>0.611726</td>\n",
       "      <td>2.0</td>\n",
       "      <td>5ac0ea1647de81a90121abd6</td>\n",
       "      <td>Advocates as well as opponents of gun control,...</td>\n",
       "      <td>Gun Crimes</td>\n",
       "    </tr>\n",
       "  </tbody>\n",
       "</table>\n",
       "<p>3360 rows × 7 columns</p>\n",
       "</div>"
      ],
      "text/plain": [
       "                            id  vaderMean  vaderStd  vaderCat  \\\n",
       "0     5adf6684068401528a2aa69b   0.345973  0.511952       2.0   \n",
       "1     5adf653f068401528a2aa697   0.044260  0.566761       2.0   \n",
       "2     5adf4626068401528a2aa628   0.488810  0.538851       2.0   \n",
       "3     5adf40d2068401528a2aa619   0.042040  0.625098       2.0   \n",
       "4     5adf3d64068401528a2aa60f  -0.316441  0.623894       2.0   \n",
       "...                        ...        ...       ...       ...   \n",
       "3355  5abfcca647de81a90121a899   0.317276  0.578538       2.0   \n",
       "3356  5abfcca747de81a90121a89a   0.188099  0.612754       2.0   \n",
       "3357  5abfd02c47de81a90121a8af  -0.013215  0.631028       2.0   \n",
       "3358  5abfd3ae47de81a90121a8bf  -0.057539  0.714906       2.0   \n",
       "3359  5ac0ea1647de81a90121abd6  -0.182931  0.611726       2.0   \n",
       "\n",
       "                     articleID  \\\n",
       "0     5adf6684068401528a2aa69b   \n",
       "1     5adf653f068401528a2aa697   \n",
       "2     5adf4626068401528a2aa628   \n",
       "3     5adf40d2068401528a2aa619   \n",
       "4     5adf3d64068401528a2aa60f   \n",
       "...                        ...   \n",
       "3355  5abfcca647de81a90121a899   \n",
       "3356  5abfcca747de81a90121a89a   \n",
       "3357  5abfd02c47de81a90121a8af   \n",
       "3358  5abfd3ae47de81a90121a8bf   \n",
       "3359  5ac0ea1647de81a90121abd6   \n",
       "\n",
       "                                                snippet              topic  \n",
       "0     “I understand that they could meet with us, pa...  Culture/Education  \n",
       "1     The agency plans to publish a new regulation T...          Elections  \n",
       "2     What’s it like to eat at the second incarnatio...      International  \n",
       "3     President Trump welcomed President Emmanuel Ma...      International  \n",
       "4     Alek Minassian, 25, a resident of Toronto’s Ri...         Gun Crimes  \n",
       "...                                                 ...                ...  \n",
       "3355  Can post-Christian spirituality make a bridge ...           Politics  \n",
       "3356  A tale of two Kushner brothers, on either side...            Leisure  \n",
       "3357  The president sticks his head in the sand as h...      Social Issues  \n",
       "3358  In 1968, Spiro Agnew was the man of the white,...       Social Media  \n",
       "3359  Advocates as well as opponents of gun control,...         Gun Crimes  \n",
       "\n",
       "[3360 rows x 7 columns]"
      ]
     },
     "execution_count": 15,
     "metadata": {},
     "output_type": "execute_result"
    }
   ],
   "source": [
    "data"
   ]
  },
  {
   "cell_type": "markdown",
   "metadata": {},
   "source": [
    "## 1. Create Custom Dataset Object (PyTorch)"
   ]
  },
  {
   "cell_type": "code",
   "execution_count": 8,
   "metadata": {},
   "outputs": [],
   "source": [
    "from torch.utils.data import Dataset"
   ]
  },
  {
   "cell_type": "code",
   "execution_count": 27,
   "metadata": {},
   "outputs": [],
   "source": [
    "class ProjectDataset(Dataset):\n",
    "    def __init__(self, data, target_col, text_col):\n",
    "        data_lists = []\n",
    "        \n",
    "        for index, row in data.iterrows():\n",
    "            text = pp.clean_text(row[text_col], lowercase=False)\n",
    "            text = word_tokenize(text)\n",
    "            target = row[target_col]\n",
    "            data_lists.append([target, text])\n",
    "        \n",
    "        self.samples = data_lists\n",
    "        \n",
    "    def __len__(self):\n",
    "        return len(self.samples)\n",
    "\n",
    "    def __getitem__(self, idx):\n",
    "        return self.samples[idx]"
   ]
  },
  {
   "cell_type": "code",
   "execution_count": 28,
   "metadata": {},
   "outputs": [],
   "source": [
    "data_object = ProjectDataset(data, 'vaderStd', 'snippet')"
   ]
  },
  {
   "cell_type": "code",
   "execution_count": 29,
   "metadata": {},
   "outputs": [
    {
     "data": {
      "text/plain": [
       "3360"
      ]
     },
     "execution_count": 29,
     "metadata": {},
     "output_type": "execute_result"
    }
   ],
   "source": [
    "len(data_object)"
   ]
  },
  {
   "cell_type": "code",
   "execution_count": 30,
   "metadata": {},
   "outputs": [
    {
     "data": {
      "text/plain": [
       "[[0.5119524453713237,\n",
       "  ['I',\n",
       "   'understand',\n",
       "   'that',\n",
       "   'they',\n",
       "   'could',\n",
       "   'meet',\n",
       "   'with',\n",
       "   'us',\n",
       "   'patronize',\n",
       "   'us',\n",
       "   'and',\n",
       "   'do',\n",
       "   'nothing',\n",
       "   'in',\n",
       "   'the',\n",
       "   'end',\n",
       "   'their',\n",
       "   'lawyer',\n",
       "   'says']],\n",
       " [0.5667606324178027,\n",
       "  ['The',\n",
       "   'agency',\n",
       "   'plans',\n",
       "   'to',\n",
       "   'publish',\n",
       "   'a',\n",
       "   'new',\n",
       "   'regulation',\n",
       "   'Tuesday',\n",
       "   'that',\n",
       "   'would',\n",
       "   'restrict',\n",
       "   'the',\n",
       "   'kinds',\n",
       "   'of',\n",
       "   'scientific',\n",
       "   'studies',\n",
       "   'the',\n",
       "   'agency',\n",
       "   'can',\n",
       "   'use',\n",
       "   'when',\n",
       "   'it',\n",
       "   'develops',\n",
       "   'policies']]]"
      ]
     },
     "execution_count": 30,
     "metadata": {},
     "output_type": "execute_result"
    }
   ],
   "source": [
    "data_object[0:2]"
   ]
  },
  {
   "cell_type": "markdown",
   "metadata": {},
   "source": [
    "## 2. Collate Function"
   ]
  },
  {
   "cell_type": "markdown",
   "metadata": {},
   "source": [
    "### 2.1 Bag of Words"
   ]
  },
  {
   "cell_type": "code",
   "execution_count": 65,
   "metadata": {},
   "outputs": [],
   "source": [
    "#Bag of Words\n",
    "from torchtext.data.utils import get_tokenizer\n",
    "from collections import Counter\n",
    "from torchtext.vocab import Vocab\n",
    "\n",
    "tokenizer = get_tokenizer('basic_english')\n",
    "\n",
    "def get_vocab(training_data):\n",
    "    counter = Counter()\n",
    "    for (label, line) in train_iter:\n",
    "        counter.update(line)\n",
    "    vocab = Vocab(counter, min_freq=1000)\n",
    "    return vocab\n",
    "\n",
    "\n",
    "def collate_into_bow(batch):  \n",
    "    labels = []\n",
    "    bag_vector = torch.zeros((len(batch),len(vocab)))\n",
    "    for i, (label, line) in enumerate(batch):\n",
    "        labels.append(label-1)\n",
    "        for w in line:            \n",
    "            bag_vector[i, vocab[w]] += 1\n",
    "    \n",
    "    bag_vector = (bag_vector/bag_vector.sum(axis=1, keepdim=True))\n",
    "    return torch.tensor(labels), bag_vector"
   ]
  },
  {
   "cell_type": "markdown",
   "metadata": {},
   "source": [
    "### 2.2 Continuous Bag of Words using GloVe"
   ]
  },
  {
   "cell_type": "code",
   "execution_count": 66,
   "metadata": {},
   "outputs": [
    {
     "name": "stderr",
     "output_type": "stream",
     "text": [
      ".vector_cache/glove.6B.zip: 862MB [07:51, 1.83MB/s]                               \n",
      "100%|█████████▉| 399999/400000 [00:32<00:00, 12128.48it/s]\n"
     ]
    }
   ],
   "source": [
    "from torchtext.vocab import GloVe\n",
    "glove = GloVe(name='6B') #Takes long to download\n",
    "\n",
    "def collate_into_cbow(batch):\n",
    "    cbag_vector = torch.tensor([])\n",
    "    labels = []\n",
    "    for i, (label, line) in enumerate(batch):\n",
    "        labels.append(label-1)\n",
    "        vecs = glove.get_vecs_by_tokens(line)\n",
    "        vecs = vecs.sum(axis=0)/vecs.shape[0]\n",
    "        cbag_vector = torch.cat([cbag_vector, vecs.view(1, -1)])\n",
    "    \n",
    "    return torch.tensor(labels), cbag_vector"
   ]
  },
  {
   "cell_type": "markdown",
   "metadata": {},
   "source": [
    "## 3. DataLoader"
   ]
  },
  {
   "cell_type": "markdown",
   "metadata": {},
   "source": [
    "### 3.1 Load Articles Data"
   ]
  },
  {
   "cell_type": "code",
   "execution_count": 68,
   "metadata": {},
   "outputs": [],
   "source": [
    "from torch.utils.data import DataLoader\n",
    "train_dataloader = DataLoader(data_object, batch_size=30,\n",
    "                              shuffle=True, \n",
    "                              collate_fn=collate_into_bow)"
   ]
  },
  {
   "cell_type": "code",
   "execution_count": 71,
   "metadata": {},
   "outputs": [
    {
     "data": {
      "text/plain": [
       "<torch.utils.data.dataloader.DataLoader at 0x7fdad80b1cd0>"
      ]
     },
     "execution_count": 71,
     "metadata": {},
     "output_type": "execute_result"
    }
   ],
   "source": [
    "train_dataloader"
   ]
  },
  {
   "cell_type": "code",
   "execution_count": null,
   "metadata": {},
   "outputs": [],
   "source": []
  }
 ],
 "metadata": {
  "kernelspec": {
   "display_name": "Python 3",
   "language": "python",
   "name": "python3"
  },
  "language_info": {
   "codemirror_mode": {
    "name": "ipython",
    "version": 3
   },
   "file_extension": ".py",
   "mimetype": "text/x-python",
   "name": "python",
   "nbconvert_exporter": "python",
   "pygments_lexer": "ipython3",
   "version": "3.8.1"
  }
 },
 "nbformat": 4,
 "nbformat_minor": 4
}
