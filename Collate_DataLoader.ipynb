{
 "cells": [
  {
   "cell_type": "markdown",
   "metadata": {},
   "source": [
    "# Collate Function and Dataloader Class\n",
    "\n",
    "In this notebook, we develop the appropriate collate function and data classes for this project. A **collate function**  is how the dataloader will processes each example from the dataset.\n",
    "\n",
    "Dataset and DataLoader are PyTorch classes that provides utilities for iterating through and sampling from a dataset."
   ]
  },
  {
   "cell_type": "code",
   "execution_count": 7,
   "metadata": {},
   "outputs": [],
   "source": [
    "import torch\n",
    "import pandas as pd\n",
    "import numpy as np"
   ]
  },
  {
   "cell_type": "code",
   "execution_count": 3,
   "metadata": {},
   "outputs": [],
   "source": [
    "SEED = 1234 # Specify a seed for reproductability\n",
    "\n",
    "random.seed(SEED)\n",
    "np.random.seed(SEED)\n",
    "torch.manual_seed(SEED)\n",
    "if torch.cuda.is_available():\n",
    "    torch.cuda.manual_seed(SEED)\n",
    "torch.backends.cudnn.deterministic = True"
   ]
  },
  {
   "cell_type": "markdown",
   "metadata": {},
   "source": [
    "## 0. Download Data"
   ]
  },
  {
   "cell_type": "code",
   "execution_count": 26,
   "metadata": {},
   "outputs": [],
   "source": [
    "articles = pd.read_csv('data/articles.csv')\n",
    "scores = pd.read_csv('data/articles_w_scores.csv')\n",
    "data = scores[['articleID','vaderMean','vaderStd', 'vaderIQR']].merge(articles)"
   ]
  },
  {
   "cell_type": "code",
   "execution_count": 43,
   "metadata": {},
   "outputs": [],
   "source": [
    "data_vader_std = []\n",
    "for index, row in data.iterrows():\n",
    "    text = row['headline'] if row['headline'] != 'Unknown' else row['snippet']\n",
    "    data_vader_std.append([row['vaderStd'], text])"
   ]
  },
  {
   "cell_type": "code",
   "execution_count": 44,
   "metadata": {},
   "outputs": [
    {
     "data": {
      "text/plain": [
       "[0.5119524453713237,\n",
       " 'Former N.F.L. Cheerleaders’ Settlement Offer: $1 and a Meeting With Goodell']"
      ]
     },
     "execution_count": 44,
     "metadata": {},
     "output_type": "execute_result"
    }
   ],
   "source": [
    "data_vader_std[0]"
   ]
  },
  {
   "cell_type": "markdown",
   "metadata": {},
   "source": [
    "## 1. Create Custom Dataset Object (PyTorch)"
   ]
  },
  {
   "cell_type": "code",
   "execution_count": 4,
   "metadata": {},
   "outputs": [],
   "source": [
    "from torch.utils.data import Dataset"
   ]
  },
  {
   "cell_type": "code",
   "execution_count": 5,
   "metadata": {},
   "outputs": [],
   "source": [
    "class ProjectDataset(Dataset):\n",
    "    def __init__(self, data):\n",
    "        assert isinstance(data, list)\n",
    "        self.samples = data\n",
    "        \n",
    "    def __len__(self):\n",
    "        return len(self.samples)\n",
    "\n",
    "    def __getitem__(self, idx):\n",
    "        return self.samples[idx]"
   ]
  },
  {
   "cell_type": "code",
   "execution_count": 45,
   "metadata": {},
   "outputs": [],
   "source": [
    "data_object = ProjectDataset(data_vader_std)"
   ]
  },
  {
   "cell_type": "code",
   "execution_count": null,
   "metadata": {},
   "outputs": [],
   "source": []
  },
  {
   "cell_type": "markdown",
   "metadata": {},
   "source": [
    "## 2. Collate Function"
   ]
  },
  {
   "cell_type": "markdown",
   "metadata": {},
   "source": [
    "### 2.1 Bag of Words"
   ]
  },
  {
   "cell_type": "code",
   "execution_count": 1,
   "metadata": {},
   "outputs": [],
   "source": [
    "#Bag of Words\n",
    "from torchtext.data.utils import get_tokenizer\n",
    "from collections import Counter\n",
    "from torchtext.vocab import Vocab\n",
    "\n",
    "tokenizer = get_tokenizer('basic_english')\n",
    "\n",
    "def get_vocab(training_data):\n",
    "    counter = Counter()\n",
    "    for (label, line) in train_iter:\n",
    "        counter.update(tokenizer(line))\n",
    "    vocab = Vocab(counter, min_freq=1000)\n",
    "    return vocab\n",
    "\n",
    "\n",
    "def collate_into_bow(batch):  \n",
    "    labels = []\n",
    "    bag_vector = torch.zeros((len(batch),len(vocab)))\n",
    "    for i, (label, line) in enumerate(batch):\n",
    "        words = tokenizer(line)\n",
    "        labels.append(label-1)\n",
    "        for w in words:            \n",
    "            bag_vector[i, vocab[w]] += 1\n",
    "    \n",
    "    bag_vector = (bag_vector/bag_vector.sum(axis=1, keepdim=True))\n",
    "    return torch.tensor(labels), bag_vector"
   ]
  },
  {
   "cell_type": "markdown",
   "metadata": {},
   "source": [
    "### 2.2 Continuous Bag of Words using GloVe"
   ]
  },
  {
   "cell_type": "code",
   "execution_count": null,
   "metadata": {},
   "outputs": [],
   "source": [
    "from torchtext.vocab import GloVe\n",
    "glove = GloVe(name='6B')\n",
    "\n",
    "def collate_into_cbow(batch):\n",
    "    cbag_vector = torch.tensor([])\n",
    "    labels = []\n",
    "    for i, (label, line) in enumerate(batch):\n",
    "        labels.append(label-1)\n",
    "        words = tokenizer(line)\n",
    "        vecs = glove.get_vecs_by_tokens(words)\n",
    "        vecs = vecs.sum(axis=0)/vecs.shape[0]\n",
    "        cbag_vector = torch.cat([cbag_vector, vecs.view(1, -1)])\n",
    "    \n",
    "    return torch.tensor(labels), cbag_vector"
   ]
  },
  {
   "cell_type": "markdown",
   "metadata": {},
   "source": []
  },
  {
   "cell_type": "code",
   "execution_count": null,
   "metadata": {},
   "outputs": [],
   "source": []
  },
  {
   "cell_type": "code",
   "execution_count": null,
   "metadata": {},
   "outputs": [],
   "source": []
  },
  {
   "cell_type": "code",
   "execution_count": null,
   "metadata": {},
   "outputs": [],
   "source": []
  }
 ],
 "metadata": {
  "kernelspec": {
   "display_name": "Python 3",
   "language": "python",
   "name": "python3"
  },
  "language_info": {
   "codemirror_mode": {
    "name": "ipython",
    "version": 3
   },
   "file_extension": ".py",
   "mimetype": "text/x-python",
   "name": "python",
   "nbconvert_exporter": "python",
   "pygments_lexer": "ipython3",
   "version": "3.8.1"
  }
 },
 "nbformat": 4,
 "nbformat_minor": 4
}
