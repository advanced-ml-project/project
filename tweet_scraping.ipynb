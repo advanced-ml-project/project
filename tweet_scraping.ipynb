{
 "cells": [
  {
   "cell_type": "markdown",
   "metadata": {},
   "source": [
    "# Using snscraper to Get Tweets\n",
    "\n",
    "## Step 1: Make sure you are running python v. 3.8 or higher.\n",
    "If you are not, to update python try:\n",
    "!conda upgrade notebook \n",
    "or \n",
    "!conda update jupyter"
   ]
  },
  {
   "cell_type": "code",
   "execution_count": 1,
   "metadata": {},
   "outputs": [
    {
     "name": "stdout",
     "output_type": "stream",
     "text": [
      "Python 3.8.1\r\n"
     ]
    }
   ],
   "source": [
    "# check version\n",
    "!python -V"
   ]
  },
  {
   "cell_type": "markdown",
   "metadata": {},
   "source": [
    "## Step 2: First time use requires installation of dev version of snsscrape\n",
    "Uncomment and run the code below."
   ]
  },
  {
   "cell_type": "code",
   "execution_count": 4,
   "metadata": {},
   "outputs": [],
   "source": [
    "# !pip install git+https://github.com/JustAnotherArchivist/snscrape.git"
   ]
  },
  {
   "cell_type": "markdown",
   "metadata": {},
   "source": [
    "## Step 3: Imports and Functions\n",
    "Please run the code blocks below."
   ]
  },
  {
   "cell_type": "code",
   "execution_count": 3,
   "metadata": {},
   "outputs": [],
   "source": [
    "import snscrape.modules.twitter as sntwitter\n",
    "import pandas as pd\n",
    "from datetime import date\n",
    "import time"
   ]
  },
  {
   "cell_type": "markdown",
   "metadata": {},
   "source": [
    "### Functions"
   ]
  },
  {
   "cell_type": "code",
   "execution_count": 338,
   "metadata": {},
   "outputs": [],
   "source": [
    "def getPosts(newsOutlet, maxTweets, start, end):\n",
    "    '''\n",
    "    Based on MartinBeckUT's python wrapper for snscraper.\n",
    "    Get all tweets and replies from March 2021.\n",
    "    \n",
    "    Inputs:\n",
    "        - newsOutlet: string, name of twitter news source user\n",
    "        - maxTweets: int, cut off for search results\n",
    "        - start: string ('YYYY-MM-DD'), first date to include in search\n",
    "        - end: string ('YYYY-MM-DD'), first date to exclude in search\n",
    "        \n",
    "    Returns: tuple ( tweets_df, replies_list )\n",
    "        - tweets_df: a pandas dataframe with columns: \n",
    "            Datetime,TweetId, text, userName, newsOutlet, \n",
    "            MentionedUsers, ConversationId\n",
    "        - replies_list: list, all convesationIds from the tweets\n",
    "        \n",
    "    '''     \n",
    "    # Creating list to append tweet data to\n",
    "    tweets_list = []\n",
    "    replies_list = []\n",
    "\n",
    "    # Using TwitterSearchScraper to scrape data and append tweets to list\n",
    "    for i, tweet in enumerate(sntwitter\n",
    "                              .TwitterSearchScraper(f'from:{ newsOutlet } since:{start} ' +\n",
    "                                               f'until:{end} -is:retweet -is:reply')\n",
    "                              .get_items()):\n",
    "        if i>maxTweets:\n",
    "            break\n",
    "            \n",
    "        mentions = ''\n",
    "\n",
    "        if tweet.id != tweet.conversationId:\n",
    "            if tweet.mentionedUsers:\n",
    "                for user in tweet.mentionedUsers:\n",
    "                    mentions += (' ' + user.username)\n",
    "                else:\n",
    "                    mentions = ''\n",
    "\n",
    "        text = tweet.content\n",
    "        text = text.replace(',', '')\n",
    "        text = text.replace('\"', '')\n",
    "        text = text.replace(\"'\", '')\n",
    "        \n",
    "        tweets_list.append([tweet.date, \n",
    "                            str(tweet.id), \n",
    "                            text, \n",
    "                            tweet.user.username,\n",
    "                            mentions,\n",
    "                            str(tweet.conversationId)])\n",
    "        \n",
    "        if tweet.conversationId not in replies_list:\n",
    "            replies_list.append(tweet.conversationId)\n",
    "    \n",
    "    # Creating a dataframes from the tweets lists above\n",
    "    tweets_df = pd.DataFrame(tweets_list, columns=['Datetime', \n",
    "                                                    'TweetId', \n",
    "                                                    'Text', \n",
    "                                                    'Username',\n",
    "                                                    'MentionedUsers',\n",
    "                                                    'ConversationId'])\n",
    "    \n",
    "    return ( tweets_df, replies_list )\n"
   ]
  },
  {
   "cell_type": "code",
   "execution_count": 67,
   "metadata": {},
   "outputs": [],
   "source": [
    "def getReplies(newsOutlet, convsID, start, end, maxTweets=2000):\n",
    "    '''\n",
    "    Extension of original scraper code\n",
    "    to pull all following conversations\n",
    "    \n",
    "    Inputs:\n",
    "         - newsOutlet: string, userId from orginal tweet post\n",
    "         - convsID: string, conversationId from original post\n",
    "         - start: string ('YYYY-MM-DD'), first date to include in search\n",
    "         - end: string ('YYYY-MM-DD'), first date to exclude in search\n",
    "         - maxTweets: int, cut off for search results\n",
    "     \n",
    "     Returns: tweets_list: list of lists,\n",
    "         representing each reply in the original thread.\n",
    "         Lowest level lists contain:\n",
    "             Datetime, TweetId, text, username, \n",
    "             newsOutlet, MentionedUsers, conversationId\n",
    "    '''\n",
    "       \n",
    "    # Creating list to append tweet data to\n",
    "    tweets_list = []\n",
    "\n",
    "    # Using TwitterSearchScraper to scrape data and append tweets to list\n",
    "\n",
    "    scraper_instance = sntwitter.TwitterSearchScraper(f'lang:en conversation_id:{convsID} ' + \n",
    "                                                      f'(filter:safe OR -filter:safe) -is:retweet')\n",
    "\n",
    "    \n",
    "    for i, tweet in enumerate(scraper_instance.get_items()):\n",
    "        if i>maxTweets:\n",
    "            break\n",
    "        \n",
    "        mentions = []\n",
    "\n",
    "        if tweet.id != tweet.conversationId:\n",
    "            if not tweet.mentionedUsers is None:\n",
    "                for user in tweet.mentionedUsers:\n",
    "                    mentions.append(user.username)\n",
    "            \n",
    "            text = tweet.content\n",
    "            text = text.replace(',', '')\n",
    "            text = text.replace('\"', '')\n",
    "            text = text.replace(\"'\", '')\n",
    "            \n",
    "            tweets_list.append([tweet.date,\n",
    "                                str(tweet.id), \n",
    "                                text, \n",
    "                                tweet.user.username,\n",
    "                                newsOutlet,\n",
    "                                \" \".join(mentions),\n",
    "                                str(tweet.conversationId)])\n",
    "    \n",
    "    \n",
    "    #scraper_instance._unset_guest_token()\n",
    "    \n",
    "    return tweets_list\n",
    "    "
   ]
  },
  {
   "cell_type": "markdown",
   "metadata": {},
   "source": [
    "## Step 4: Define your search ranges under \"Globals\"\n",
    "The START_DATE is included. The END_DATE is excluded."
   ]
  },
  {
   "cell_type": "markdown",
   "metadata": {},
   "source": [
    "### Globals"
   ]
  },
  {
   "cell_type": "code",
   "execution_count": 639,
   "metadata": {},
   "outputs": [],
   "source": [
    "MAX_TWEETS = 50000\n",
    "START_DATE = '2021-04-01'\n",
    "END_DATE = '2021-05-01'\n",
    "\n",
    "FILE_SUFFIX = \"_Apr2021\""
   ]
  },
  {
   "cell_type": "markdown",
   "metadata": {},
   "source": [
    "## Step 5: Run the scraper for each news source\n",
    "\n",
    "Due to issues with the scraper instance, I'm running each separately and saving out the results each time incase of interruptions. Then in the final step I'm merging dataframes.\n",
    "\n",
    "Each news source takes considerable time to run.\n",
    "An error of \"unable to find guest token\" may indicate an issue with the scraper instance.\n",
    "This happens frequently in retrieving replies.\n",
    "\n",
    "#### What to do when you get \"guest token\" error in replies:\n",
    "Processed conversation ids are recorded. If an error occurs, run the test code\n",
    "directly below to see if the full list of conversations were caputured.\n",
    "If not, run the replies code again until all have been saved.\n",
    "\n",
    "#### Immediate \"guest token\" errors without any scraper activity:\n",
    "Sometimes successive runs are strangely sticky.\n",
    "A short little request sometimes unsticks it.\n",
    "\n",
    "Try something like:\n",
    "getReplies(\"nytimes\", 1377405371279568898, START_DATE, END_DATE, 5)\n",
    "\n",
    "Or even just running something else like:\n",
    "print(MAX_TWEETS)\n",
    "\n",
    "For a few minutes until you get a response.\n",
    "Then resume.\n",
    "\n",
    "\n",
    "### Data Gathering:"
   ]
  },
  {
   "cell_type": "markdown",
   "metadata": {},
   "source": [
    "#### 5.1: All Sources Original Posts"
   ]
  },
  {
   "cell_type": "code",
   "execution_count": 587,
   "metadata": {},
   "outputs": [
    {
     "name": "stdout",
     "output_type": "stream",
     "text": [
      "Fox Posts:  (841, 6)\n"
     ]
    }
   ],
   "source": [
    "# pull fox news data\n",
    "fox_tweets, fox_conv_ids = getPosts(\"FoxNews\", \n",
    "                                   MAX_TWEETS, \n",
    "                                   START_DATE, \n",
    "                                   END_DATE)\n",
    "\n",
    "print(\"Fox Posts: \", fox_tweets.shape)"
   ]
  },
  {
   "cell_type": "code",
   "execution_count": 588,
   "metadata": {},
   "outputs": [
    {
     "name": "stdout",
     "output_type": "stream",
     "text": [
      "NY Times Posts:  (2682, 6)\n"
     ]
    }
   ],
   "source": [
    "# pull new york times post data\n",
    "nyt_tweets, nyt_conv_ids = getPosts(\"nytimes\", \n",
    "                                     MAX_TWEETS, \n",
    "                                     START_DATE, \n",
    "                                     END_DATE)\n",
    "\n",
    "print(\"NY Times Posts: \", nyt_tweets.shape)"
   ]
  },
  {
   "cell_type": "code",
   "execution_count": 640,
   "metadata": {},
   "outputs": [
    {
     "name": "stdout",
     "output_type": "stream",
     "text": [
      "Reuters Posts:  (12870, 6)\n"
     ]
    }
   ],
   "source": [
    "# pull reuters post data\n",
    "reuters_tweets, reuters_conv_ids = getPosts(\"Reuters\", \n",
    "                                     MAX_TWEETS, \n",
    "                                     START_DATE, \n",
    "                                     END_DATE)\n",
    "\n",
    "print(\"Reuters Posts: \", reuters_tweets.shape)"
   ]
  },
  {
   "cell_type": "code",
   "execution_count": 590,
   "metadata": {},
   "outputs": [],
   "source": [
    "# merging news sources\n",
    "posts_df = pd.concat([fox_tweets, nyt_tweets, reuters_tweets], ignore_index=True)\n",
    "\n",
    "# export dataframe into a CSV\n",
    "posts_df.to_csv(f'./data/tweets{FILE_SUFFIX}.csv',\n",
    "                index=False, quotechar='\"')"
   ]
  },
  {
   "cell_type": "markdown",
   "metadata": {},
   "source": [
    "#### 5.2: Replies Set up"
   ]
  },
  {
   "cell_type": "code",
   "execution_count": 591,
   "metadata": {},
   "outputs": [],
   "source": [
    "# set up replies list\n",
    "replies = []\n",
    "processed_ids = []\n",
    "\n",
    "# Today\n",
    "if date.today().day < 10:\n",
    "    day = f'0{date.today().day}'\n",
    "else:\n",
    "    day = f'{date.today().day}'\n",
    "    \n",
    "if date.today().month < 10:\n",
    "    month = f'0{date.today().month}'\n",
    "else:\n",
    "    month = f'{date.today().month}'\n",
    "\n",
    "today = f'{date.today().year}-{month}-{day}'\n",
    "\n",
    "\n",
    "# if this is a continuation of a prior run\n",
    "# uncomment and run the below\n",
    "# proc_ids = pd.read_csv(\"./data/processed_ids.csv\")\n",
    "# processed_ids = proc_ids['conv_id'].tolist()"
   ]
  },
  {
   "cell_type": "markdown",
   "metadata": {},
   "source": [
    "#### 5.2.1: New York Times Replies"
   ]
  },
  {
   "cell_type": "code",
   "execution_count": 595,
   "metadata": {},
   "outputs": [],
   "source": [
    "#time.sleep(600)\n",
    "# add nyt replies \n",
    "# NOTE: if this breaks, run again until all ids are cleared\n",
    "\n",
    "for conv_id in nyt_conv_ids:\n",
    "    if not conv_id in processed_ids:\n",
    "\n",
    "        replies.extend(getReplies(\"nytimes\",\n",
    "                                  conv_id,\n",
    "                                  START_DATE,\n",
    "                                  today,\n",
    "                                  MAX_TWEETS))\n",
    "\n",
    "        processed_ids.append(conv_id)\n",
    "    \n",
    "        time.sleep(0.05)\n"
   ]
  },
  {
   "cell_type": "code",
   "execution_count": 596,
   "metadata": {},
   "outputs": [
    {
     "name": "stdout",
     "output_type": "stream",
     "text": [
      "All NY Times replies retrieved. Move forward!\n"
     ]
    }
   ],
   "source": [
    "# Test for done-ness\n",
    "\n",
    "if len(nyt_conv_ids) == len(processed_ids):\n",
    "    print(\"All NY Times replies retrieved. Move forward!\")\n",
    "else:\n",
    "    print(f'{len(nyt_conv_ids) - len(processed_ids)} conversations ' +\n",
    "         'left to process. Run Again.')"
   ]
  },
  {
   "cell_type": "code",
   "execution_count": 597,
   "metadata": {},
   "outputs": [],
   "source": [
    "# convert reply list to dataframe\n",
    "replies_df = pd.DataFrame(replies, columns=['Datetime',\n",
    "                                            'TweetId',\n",
    "                                            'Text',\n",
    "                                            'Username',\n",
    "                                            'NewsOutlet',\n",
    "                                            'MentionedUsers',\n",
    "                                            'ConversationId'])\n",
    "\n",
    "# export\n",
    "replies_df.to_csv(f'./data/replies{FILE_SUFFIX}_nyt.csv', sep=',', index=False)\n",
    "nyt = replies_df\n",
    "\n",
    "# clear\n",
    "replies = []\n",
    "processed_ids = []"
   ]
  },
  {
   "cell_type": "code",
   "execution_count": 598,
   "metadata": {},
   "outputs": [
    {
     "name": "stdout",
     "output_type": "stream",
     "text": [
      "unique posts:  2682\n",
      "unique reply threads:  2347\n",
      "matches:  2674\n"
     ]
    }
   ],
   "source": [
    "nyt_articles = nyt.groupby('ConversationId')['TweetId'].count()\n",
    "nyt_articles = nyt_articles.reset_index()\n",
    "\n",
    "print(\"unique posts: \", nyt_tweets.shape[0])\n",
    "print(\"unique reply threads: \", nyt_articles.shape[0])\n",
    "print(\"matches: \", nyt_tweets.merge(nyt_articles, \n",
    "                                    on='ConversationId', \n",
    "                                    how='inner').shape[0])"
   ]
  },
  {
   "cell_type": "markdown",
   "metadata": {},
   "source": [
    "#### 5.2.2: Reuters Replies"
   ]
  },
  {
   "cell_type": "code",
   "execution_count": 665,
   "metadata": {},
   "outputs": [],
   "source": [
    "#time.sleep(600)\n",
    "# add reuters replies\n",
    "# NOTE: if this breaks, run again until all ids are cleared\n",
    "\n",
    "for conv_id in reuters_conv_ids:\n",
    "    if not conv_id in processed_ids:\n",
    "        replies.extend(getReplies(\"Reuters\",\n",
    "                                  conv_id,\n",
    "                                  START_DATE,\n",
    "                                  today,\n",
    "                                  MAX_TWEETS))\n",
    "\n",
    "        processed_ids.append(conv_id)\n",
    "    \n",
    "        time.sleep(0.05)\n"
   ]
  },
  {
   "cell_type": "code",
   "execution_count": 666,
   "metadata": {},
   "outputs": [
    {
     "name": "stdout",
     "output_type": "stream",
     "text": [
      "All Reuters replies retrieved. Move forward!\n"
     ]
    }
   ],
   "source": [
    "# test for done-ness again\n",
    "\n",
    "if len(reuters_conv_ids) == len(processed_ids):\n",
    "    print(\"All Reuters replies retrieved. Move forward!\")\n",
    "else:\n",
    "    print(f'{len(reuters_conv_ids) - len(processed_ids)} conversations ' +\n",
    "         'left to process. Run Again.')"
   ]
  },
  {
   "cell_type": "code",
   "execution_count": 667,
   "metadata": {},
   "outputs": [],
   "source": [
    "# convert reply list to dataframe\n",
    "replies_df = pd.DataFrame(replies, columns=['Datetime',\n",
    "                                            'TweetId',\n",
    "                                            'Text',\n",
    "                                            'Username',\n",
    "                                            'NewsOutlet',\n",
    "                                            'MentionedUsers',\n",
    "                                            'ConversationId'])\n",
    "\n",
    "# export\n",
    "replies_df.to_csv(f'./data/replies{FILE_SUFFIX}_reu.csv', sep=',', index=False)\n",
    "reu = replies_df\n",
    "\n",
    "#clear\n",
    "replies = []\n",
    "processed_ids = []"
   ]
  },
  {
   "cell_type": "code",
   "execution_count": 668,
   "metadata": {},
   "outputs": [
    {
     "name": "stdout",
     "output_type": "stream",
     "text": [
      "unique posts:  12870\n",
      "unique reply threads:  11392\n",
      "matches:  11560\n"
     ]
    }
   ],
   "source": [
    "reu_articles = reu.groupby('ConversationId')['TweetId'].count()\n",
    "reu_articles = reu_articles.reset_index()\n",
    "\n",
    "print(\"unique posts: \", reuters_tweets.shape[0])\n",
    "print(\"unique reply threads: \", reu_articles.shape[0])\n",
    "print(\"matches: \", reuters_tweets.merge(reu_articles, \n",
    "                                    on='ConversationId', \n",
    "                                    how='inner').shape[0])"
   ]
  },
  {
   "cell_type": "markdown",
   "metadata": {},
   "source": [
    "#### 5.2.3: Fox News Replies"
   ]
  },
  {
   "cell_type": "code",
   "execution_count": 599,
   "metadata": {},
   "outputs": [],
   "source": [
    "#time.sleep(500)\n",
    "# add fox replies\n",
    "# NOTE: if this breaks, run again until all ids are cleared\n",
    "\n",
    "for conv_id in fox_conv_ids:\n",
    "    if not conv_id in processed_ids:\n",
    "        replies.extend(getReplies(\"FoxNews\",\n",
    "                                  conv_id,\n",
    "                                  START_DATE,\n",
    "                                  today,\n",
    "                                  MAX_TWEETS))\n",
    "\n",
    "        processed_ids.append(conv_id)\n",
    "    \n",
    "        time.sleep(0.05)\n"
   ]
  },
  {
   "cell_type": "code",
   "execution_count": 600,
   "metadata": {},
   "outputs": [
    {
     "name": "stdout",
     "output_type": "stream",
     "text": [
      "All Fox News replies retrieved. Move forward!\n"
     ]
    }
   ],
   "source": [
    "# test for done-ness again\n",
    "\n",
    "if (len(fox_conv_ids) == len(processed_ids)):\n",
    "    print(\"All Fox News replies retrieved. Move forward!\")\n",
    "else:\n",
    "    print(f'{(len(fox_conv_ids) - len(processed_ids))} conversations ' +\n",
    "         'left to process. Run Again.')"
   ]
  },
  {
   "cell_type": "code",
   "execution_count": 601,
   "metadata": {},
   "outputs": [],
   "source": [
    "# convert reply list to dataframe\n",
    "replies_df = pd.DataFrame(replies, columns=['Datetime',\n",
    "                                            'TweetId',\n",
    "                                            'Text',\n",
    "                                            'Username',\n",
    "                                            'NewsOutlet',\n",
    "                                            'MentionedUsers',\n",
    "                                            'ConversationId'])\n",
    "\n",
    "# export\n",
    "replies_df.to_csv(f'./data/replies{FILE_SUFFIX}_fox.csv', sep=',', index=False)\n",
    "fox = replies_df\n",
    "\n",
    "# clear\n",
    "replies = []\n",
    "processed_ids = []"
   ]
  },
  {
   "cell_type": "code",
   "execution_count": 602,
   "metadata": {},
   "outputs": [
    {
     "name": "stdout",
     "output_type": "stream",
     "text": [
      "unique posts:  841\n",
      "unique reply threads:  841\n",
      "matches:  841\n"
     ]
    }
   ],
   "source": [
    "fox_articles = fox.groupby('ConversationId')['TweetId'].count()\n",
    "fox_articles = fox_articles.reset_index()\n",
    "\n",
    "print(\"unique posts: \", fox_tweets.shape[0])\n",
    "print(\"unique reply threads: \", fox_articles.shape[0])\n",
    "print(\"matches: \", fox_tweets.merge(fox_articles, \n",
    "                                    on='ConversationId', \n",
    "                                    how='inner').shape[0])"
   ]
  },
  {
   "cell_type": "markdown",
   "metadata": {},
   "source": [
    "# Other notes and code snippets\n",
    "\n",
    "## If you need to stop during step 5. Save processed Ids and begin again later"
   ]
  },
  {
   "cell_type": "code",
   "execution_count": 304,
   "metadata": {},
   "outputs": [],
   "source": [
    "# save processed ids incase of interrupted run\n",
    "proc_ids = pd.DataFrame({\"conv_id\": processed_ids})\n",
    "proc_ids.to_csv(\"./data/processed_ids.csv\", sep=',', index=False)"
   ]
  },
  {
   "cell_type": "markdown",
   "metadata": {},
   "source": [
    "## For easy of use, you can join them all now (or later)\n",
    "...but without compression this file is too big to share."
   ]
  },
  {
   "cell_type": "code",
   "execution_count": 423,
   "metadata": {},
   "outputs": [
    {
     "name": "stderr",
     "output_type": "stream",
     "text": [
      "<ipython-input-423-03dea9ebecbf>:2: FutureWarning: The default value of regex will change from True to False in a future version.\n",
      "  dataset['Text'] = dataset['Text'].str.replace(r\"[,'\\\"]+\",\"\")\n",
      "<ipython-input-423-03dea9ebecbf>:3: FutureWarning: The default value of regex will change from True to False in a future version.\n",
      "  dataset['Text'] = dataset['Text'].str.replace(r\"[\\r\\n]+\",\"\")\n"
     ]
    }
   ],
   "source": [
    "# remove stuff that breaks the file some times\n",
    "for dataset in [nyt, fox, reu]:\n",
    "    dataset['Text'] = dataset['Text'].str.replace(r\"[,'\\\"]+\",\"\")\n",
    "    dataset['Text'] = dataset['Text'].str.replace(r\"[\\r\\n]+\",\"\")\n"
   ]
  },
  {
   "cell_type": "code",
   "execution_count": null,
   "metadata": {},
   "outputs": [],
   "source": [
    "# import all if needed\n",
    "reu = pd.read_csv(f'./data/replies{FILE_SUFFIX}_reu.csv', quotechar='\"')\n",
    "fox = pd.read_csv(f'./data/replies{FILE_SUFFIX}_fox.csv', quotechar='\"')\n",
    "nyt = pd.read_csv(f'./data/replies{FILE_SUFFIX}_nyt.csv', quotechar='\"')"
   ]
  },
  {
   "cell_type": "code",
   "execution_count": 532,
   "metadata": {},
   "outputs": [],
   "source": [
    "# export all together\n",
    "all_replies = pd.concat([reu, fox, nyt], ignore_index=True)\n",
    "all_replies.to_csv(f'./data/replies{FILE_SUFFIX}.csv', sep=',', index=False)"
   ]
  },
  {
   "cell_type": "code",
   "execution_count": null,
   "metadata": {},
   "outputs": [],
   "source": []
  },
  {
   "cell_type": "markdown",
   "metadata": {},
   "source": [
    "## Get Tweets filtered by Topic/Keywords"
   ]
  },
  {
   "cell_type": "code",
   "execution_count": 80,
   "metadata": {},
   "outputs": [],
   "source": [
    "def getPosts_custom_query(maxTweets, start, end):\n",
    "    # Creating list to append tweet data to\n",
    "    tweets_list = []\n",
    "    \n",
    "    query = f'(from:nytimes OR from:FoxNews OR from:CNN \\\n",
    "    OR from:BBCBreaking OR from:Reuters OR from:washingtonpost \\\n",
    "    OR from:realDailyWire) AND (black OR Trump OR Chauvin OR Floyd OR Biden OR \\\n",
    "    asian OR attacked OR killed OR arrested) -is:retweet -is:reply since:{start} until:{end}'\n",
    "    \n",
    "    try:\n",
    "        # Using TwitterSearchScraper to scrape data and append tweets to list\n",
    "        for i, tweet in enumerate(sntwitter\n",
    "                                  .TwitterSearchScraper(query)\n",
    "                                  .get_items()):\n",
    "            if i>maxTweets:\n",
    "                break\n",
    "\n",
    "            mentions = ''\n",
    "\n",
    "            if tweet.id != tweet.conversationId:\n",
    "                if tweet.mentionedUsers:\n",
    "                    for user in tweet.mentionedUsers:\n",
    "                        mentions += (' ' + user.username)\n",
    "                    else:\n",
    "                        mentions = ''\n",
    "\n",
    "            text = tweet.content\n",
    "            text = text.replace(',', '')\n",
    "            text = text.replace('\"', '')\n",
    "            text = text.replace(\"'\", '')\n",
    "\n",
    "            tweets_list.append([tweet.date, \n",
    "                                str(tweet.id), \n",
    "                                text, \n",
    "                                tweet.user.username,\n",
    "                                mentions,\n",
    "                                str(tweet.conversationId)])\n",
    "    \n",
    "    except Exception as e:\n",
    "        time.sleep(400)\n",
    "        print(e)\n",
    "        return ([], '500')\n",
    "    \n",
    "    # Creating a dataframes from the tweets lists above\n",
    "    tweets_df = pd.DataFrame(tweets_list, columns=['Datetime', \n",
    "                                                    'TweetId', \n",
    "                                                    'Text', \n",
    "                                                    'Username',\n",
    "                                                    'MentionedUsers',\n",
    "                                                    'ConversationId'])\n",
    "    \n",
    "    return (tweets_df, '200')"
   ]
  },
  {
   "cell_type": "code",
   "execution_count": 81,
   "metadata": {},
   "outputs": [
    {
     "name": "stdout",
     "output_type": "stream",
     "text": [
      "Requesting: 0 epoch\n",
      "Start date: 2020-08-01\n",
      "End date: 2020-08-05\n",
      "Observations added:411\n",
      "\n",
      "Requesting: 1 epoch\n",
      "Start date: 2020-08-06\n",
      "End date: 2020-08-10\n",
      "Observations added:447\n",
      "\n",
      "Requesting: 2 epoch\n",
      "Start date: 2020-08-11\n",
      "End date: 2020-08-15\n",
      "Observations added:661\n",
      "\n",
      "Requesting: 3 epoch\n",
      "Start date: 2020-08-16\n",
      "End date: 2020-08-20\n",
      "Observations added:561\n",
      "\n",
      "Requesting: 4 epoch\n",
      "Start date: 2020-08-21\n",
      "End date: 2020-08-25\n",
      "Observations added:511\n",
      "\n",
      "Requesting: 5 epoch\n",
      "Start date: 2020-08-26\n",
      "End date: 2020-08-30\n",
      "Observations added:679\n",
      "\n",
      "Requesting: 6 epoch\n",
      "Start date: 2020-08-31\n",
      "End date: 2020-09-04\n",
      "Observations added:530\n",
      "\n",
      "Requesting: 7 epoch\n",
      "Start date: 2020-09-05\n",
      "End date: 2020-09-09\n",
      "Observations added:318\n",
      "\n",
      "Requesting: 8 epoch\n",
      "Start date: 2020-09-10\n",
      "End date: 2020-09-14\n",
      "Observations added:417\n",
      "\n",
      "Requesting: 9 epoch\n",
      "Start date: 2020-09-15\n",
      "End date: 2020-09-19\n",
      "Observations added:552\n",
      "\n",
      "Requesting: 10 epoch\n",
      "Start date: 2020-09-20\n",
      "End date: 2020-09-24\n",
      "Observations added:499\n",
      "\n",
      "Requesting: 11 epoch\n",
      "Start date: 2020-09-25\n",
      "End date: 2020-09-29\n",
      "Observations added:431\n",
      "\n",
      "Requesting: 12 epoch\n",
      "Start date: 2020-09-30\n",
      "End date: 2020-10-04\n",
      "Observations added:892\n",
      "\n",
      "Requesting: 13 epoch\n",
      "Start date: 2020-10-05\n",
      "End date: 2020-10-09\n",
      "Observations added:793\n",
      "\n",
      "Requesting: 14 epoch\n",
      "Start date: 2020-10-10\n",
      "End date: 2020-10-14\n",
      "Observations added:395\n",
      "\n",
      "Requesting: 15 epoch\n",
      "Start date: 2020-10-15\n",
      "End date: 2020-10-19\n",
      "Observations added:593\n",
      "\n",
      "Requesting: 16 epoch\n",
      "Start date: 2020-10-20\n",
      "End date: 2020-10-24\n",
      "Observations added:849\n",
      "\n",
      "Requesting: 17 epoch\n",
      "Start date: 2020-10-25\n",
      "End date: 2020-10-29\n",
      "Observations added:612\n",
      "\n",
      "Requesting: 18 epoch\n",
      "Start date: 2020-10-30\n",
      "End date: 2020-11-03\n",
      "Observations added:553\n",
      "\n",
      "Requesting: 19 epoch\n",
      "Start date: 2020-11-04\n",
      "End date: 2020-11-08\n",
      "Observations added:963\n",
      "\n",
      "Requesting: 20 epoch\n",
      "Start date: 2020-11-09\n",
      "End date: 2020-11-13\n",
      "Observations added:791\n",
      "\n",
      "Requesting: 21 epoch\n",
      "Start date: 2020-11-14\n",
      "End date: 2020-11-18\n",
      "Observations added:454\n",
      "\n",
      "Requesting: 22 epoch\n",
      "Start date: 2020-11-19\n",
      "End date: 2020-11-23\n",
      "Observations added:490\n",
      "\n",
      "Requesting: 23 epoch\n",
      "Start date: 2020-11-24\n",
      "End date: 2020-11-28\n",
      "Observations added:423\n",
      "\n",
      "Requesting: 24 epoch\n",
      "Start date: 2020-11-29\n",
      "End date: 2020-12-03\n",
      "Observations added:424\n",
      "\n",
      "Requesting: 25 epoch\n",
      "Start date: 2020-12-04\n",
      "End date: 2020-12-08\n",
      "Observations added:411\n",
      "\n",
      "Requesting: 26 epoch\n",
      "Start date: 2020-12-09\n",
      "End date: 2020-12-13\n",
      "Observations added:482\n",
      "\n",
      "Requesting: 27 epoch\n",
      "Start date: 2020-12-14\n",
      "End date: 2020-12-18\n",
      "Observations added:509\n",
      "\n",
      "Requesting: 28 epoch\n",
      "Start date: 2020-12-19\n",
      "End date: 2020-12-23\n",
      "Observations added:338\n",
      "\n",
      "Requesting: 29 epoch\n",
      "Start date: 2020-12-24\n",
      "End date: 2020-12-28\n",
      "Observations added:222\n",
      "\n",
      "Requesting: 30 epoch\n",
      "Start date: 2020-12-29\n",
      "End date: 2021-01-02\n",
      "Observations added:297\n",
      "\n",
      "Requesting: 31 epoch\n",
      "Start date: 2021-01-03\n",
      "End date: 2021-01-07\n",
      "Observations added:519\n",
      "\n",
      "Requesting: 32 epoch\n",
      "Start date: 2021-01-08\n",
      "End date: 2021-01-12\n",
      "Observations added:654\n",
      "\n",
      "Requesting: 33 epoch\n",
      "Start date: 2021-01-13\n",
      "End date: 2021-01-17\n",
      "Observations added:889\n",
      "\n",
      "Requesting: 34 epoch\n",
      "Start date: 2021-01-18\n",
      "End date: 2021-01-22\n",
      "Observations added:1310\n",
      "\n",
      "Requesting: 35 epoch\n",
      "Start date: 2021-01-23\n",
      "End date: 2021-01-27\n",
      "Observations added:689\n",
      "\n",
      "Requesting: 36 epoch\n",
      "Start date: 2021-01-28\n",
      "End date: 2021-02-01\n",
      "Observations added:354\n",
      "\n",
      "Requesting: 37 epoch\n",
      "Start date: 2021-02-02\n",
      "End date: 2021-02-06\n",
      "Observations added:563\n",
      "\n",
      "Requesting: 38 epoch\n",
      "Start date: 2021-02-07\n",
      "End date: 2021-02-11\n",
      "Observations added:562\n",
      "\n",
      "Requesting: 39 epoch\n",
      "Start date: 2021-02-12\n",
      "End date: 2021-02-16\n",
      "Observations added:465\n",
      "\n",
      "Requesting: 40 epoch\n",
      "Start date: 2021-02-17\n",
      "End date: 2021-02-21\n",
      "Observations added:439\n",
      "\n",
      "Requesting: 41 epoch\n",
      "Start date: 2021-02-22\n",
      "End date: 2021-02-26\n",
      "Observations added:512\n",
      "\n",
      "Requesting: 42 epoch\n",
      "Start date: 2021-02-27\n",
      "End date: 2021-03-03\n",
      "Observations added:376\n",
      "\n",
      "Requesting: 43 epoch\n",
      "Start date: 2021-03-04\n",
      "End date: 2021-03-08\n",
      "Observations added:373\n",
      "\n",
      "Requesting: 44 epoch\n",
      "Start date: 2021-03-09\n",
      "End date: 2021-03-13\n",
      "Observations added:575\n",
      "\n",
      "Requesting: 45 epoch\n",
      "Start date: 2021-03-14\n",
      "End date: 2021-03-18\n",
      "Observations added:444\n",
      "\n",
      "Requesting: 46 epoch\n",
      "Start date: 2021-03-19\n",
      "End date: 2021-03-23\n",
      "Observations added:363\n",
      "\n",
      "Requesting: 47 epoch\n",
      "Start date: 2021-03-24\n",
      "End date: 2021-03-28\n",
      "Observations added:502\n",
      "\n",
      "Requesting: 48 epoch\n",
      "Start date: 2021-03-29\n",
      "End date: 2021-04-02\n",
      "Observations added:602\n",
      "\n",
      "Requesting: 49 epoch\n",
      "Start date: 2021-04-03\n",
      "End date: 2021-04-07\n",
      "Observations added:357\n",
      "\n",
      "Requesting: 50 epoch\n",
      "Start date: 2021-04-08\n",
      "End date: 2021-04-12\n",
      "Observations added:370\n",
      "\n",
      "Requesting: 51 epoch\n",
      "Start date: 2021-04-13\n",
      "End date: 2021-04-17\n",
      "Observations added:560\n",
      "\n",
      "Requesting: 52 epoch\n",
      "Start date: 2021-04-18\n",
      "End date: 2021-04-22\n",
      "Observations added:545\n",
      "\n",
      "Requesting: 53 epoch\n",
      "Start date: 2021-04-23\n",
      "End date: 2021-04-27\n",
      "Observations added:347\n",
      "\n",
      "Requesting: 54 epoch\n",
      "Start date: 2021-04-28\n",
      "End date: 2021-05-02\n",
      "Observations added:596\n",
      "\n",
      "Requesting: 55 epoch\n",
      "Start date: 2021-05-03\n",
      "End date: 2021-05-07\n",
      "Observations added:436\n",
      "\n",
      "Requesting: 56 epoch\n",
      "Start date: 2021-05-08\n",
      "End date: 2021-05-12\n",
      "Observations added:256\n",
      "\n",
      "Requesting: 57 epoch\n",
      "Start date: 2021-05-13\n",
      "End date: 2021-05-17\n",
      "Observations added:272\n",
      "\n",
      "Requesting: 58 epoch\n",
      "Start date: 2021-05-18\n",
      "End date: 2021-05-22\n",
      "Observations added:423\n",
      "\n",
      "Requesting: 59 epoch\n",
      "Start date: 2021-05-23\n",
      "End date: 2021-05-27\n",
      "Observations added:45\n",
      "\n"
     ]
    }
   ],
   "source": [
    "import time\n",
    "import datetime as dt\n",
    "from datetime import datetime\n",
    "\n",
    "epochs = 60\n",
    "data_frames ={}\n",
    "start_time = datetime.strptime('2020-08-01', '%Y-%m-%d')\n",
    "end_time = datetime.strptime('2020-08-05', '%Y-%m-%d') #5 more days\n",
    "\n",
    "data = pd.DataFrame([], columns=['Datetime', 'TweetId','Text', 'Username','MentionedUsers','ConversationId'])\n",
    "\n",
    "\n",
    "for i in range(epochs):\n",
    "    start_string = datetime.strftime(start_time + dt.timedelta(days=5*i), '%Y-%m-%d')\n",
    "    end_string = datetime.strftime(end_time + dt.timedelta(days=5*i), '%Y-%m-%d')\n",
    "    \n",
    "    print('Requesting: {} epoch'.format(i))\n",
    "    print('Start date: {}'.format(start_string))\n",
    "    print('End date: {}'.format(end_string))\n",
    "    \n",
    "    max_tweets = 10000\n",
    "    tweets_df, code = getPosts_custom_query(MAX_TWEETS, start_string, end_string)\n",
    "    \n",
    "    if code == 500:\n",
    "        i -= 1\n",
    "    else:\n",
    "        data = data.append(tweets_df)\n",
    "        print('Observations added:{}'.format(len(tweets_df)))\n",
    "    \n",
    "    print('')\n",
    "        \n",
    "    \n",
    "    "
   ]
  },
  {
   "cell_type": "code",
   "execution_count": 83,
   "metadata": {},
   "outputs": [],
   "source": [
    "data.to_csv('data/tweets_first_round.csv', index=False)"
   ]
  },
  {
   "cell_type": "code",
   "execution_count": 86,
   "metadata": {},
   "outputs": [
    {
     "data": {
      "text/html": [
       "<div>\n",
       "<style scoped>\n",
       "    .dataframe tbody tr th:only-of-type {\n",
       "        vertical-align: middle;\n",
       "    }\n",
       "\n",
       "    .dataframe tbody tr th {\n",
       "        vertical-align: top;\n",
       "    }\n",
       "\n",
       "    .dataframe thead th {\n",
       "        text-align: right;\n",
       "    }\n",
       "</style>\n",
       "<table border=\"1\" class=\"dataframe\">\n",
       "  <thead>\n",
       "    <tr style=\"text-align: right;\">\n",
       "      <th></th>\n",
       "      <th>Datetime</th>\n",
       "      <th>TweetId</th>\n",
       "      <th>Text</th>\n",
       "      <th>Username</th>\n",
       "      <th>MentionedUsers</th>\n",
       "      <th>ConversationId</th>\n",
       "    </tr>\n",
       "  </thead>\n",
       "  <tbody>\n",
       "    <tr>\n",
       "      <th>0</th>\n",
       "      <td>2020-08-04 23:39:29+00:00</td>\n",
       "      <td>1290794516312739840</td>\n",
       "      <td>Dramatic video shows a massive explosion near ...</td>\n",
       "      <td>CNN</td>\n",
       "      <td></td>\n",
       "      <td>1290794516312739840</td>\n",
       "    </tr>\n",
       "    <tr>\n",
       "      <th>1</th>\n",
       "      <td>2020-08-04 23:15:55+00:00</td>\n",
       "      <td>1290788587873730561</td>\n",
       "      <td>Sen. Lindsey Graham was tasked with talking Pr...</td>\n",
       "      <td>CNN</td>\n",
       "      <td></td>\n",
       "      <td>1290788587873730561</td>\n",
       "    </tr>\n",
       "    <tr>\n",
       "      <th>2</th>\n",
       "      <td>2020-08-04 23:15:32+00:00</td>\n",
       "      <td>1290788491282898944</td>\n",
       "      <td>🎥 WALSH: George Floyd Bodycam Footage Is Out. ...</td>\n",
       "      <td>realDailyWire</td>\n",
       "      <td></td>\n",
       "      <td>1290788491282898944</td>\n",
       "    </tr>\n",
       "    <tr>\n",
       "      <th>3</th>\n",
       "      <td>2020-08-04 22:59:03+00:00</td>\n",
       "      <td>1290784342806089730</td>\n",
       "      <td>Many thought Trump’s Axios interview felt like...</td>\n",
       "      <td>washingtonpost</td>\n",
       "      <td></td>\n",
       "      <td>1290784342806089730</td>\n",
       "    </tr>\n",
       "    <tr>\n",
       "      <th>4</th>\n",
       "      <td>2020-08-04 22:47:10+00:00</td>\n",
       "      <td>1290781350228762624</td>\n",
       "      <td>“When a woman is in a role that’s new people u...</td>\n",
       "      <td>nytimes</td>\n",
       "      <td></td>\n",
       "      <td>1290009491354710017</td>\n",
       "    </tr>\n",
       "    <tr>\n",
       "      <th>...</th>\n",
       "      <td>...</td>\n",
       "      <td>...</td>\n",
       "      <td>...</td>\n",
       "      <td>...</td>\n",
       "      <td>...</td>\n",
       "      <td>...</td>\n",
       "    </tr>\n",
       "    <tr>\n",
       "      <th>40</th>\n",
       "      <td>2021-05-23 01:35:00+00:00</td>\n",
       "      <td>1396278456493789185</td>\n",
       "      <td>WARNING: GRAPHIC CONTENT — Disturbing video of...</td>\n",
       "      <td>Reuters</td>\n",
       "      <td></td>\n",
       "      <td>1396278456493789185</td>\n",
       "    </tr>\n",
       "    <tr>\n",
       "      <th>41</th>\n",
       "      <td>2021-05-23 01:25:00+00:00</td>\n",
       "      <td>1396275939684745218</td>\n",
       "      <td>ICYMI: President Biden went to a Ford test tra...</td>\n",
       "      <td>Reuters</td>\n",
       "      <td></td>\n",
       "      <td>1396275939684745218</td>\n",
       "    </tr>\n",
       "    <tr>\n",
       "      <th>42</th>\n",
       "      <td>2021-05-23 01:00:00+00:00</td>\n",
       "      <td>1396269649268989957</td>\n",
       "      <td>Biden administration grants temporary protecte...</td>\n",
       "      <td>FoxNews</td>\n",
       "      <td></td>\n",
       "      <td>1396269649268989957</td>\n",
       "    </tr>\n",
       "    <tr>\n",
       "      <th>43</th>\n",
       "      <td>2021-05-23 00:01:07+00:00</td>\n",
       "      <td>1396254831606747138</td>\n",
       "      <td>President Biden took an electric Ford pickup t...</td>\n",
       "      <td>CNN</td>\n",
       "      <td></td>\n",
       "      <td>1396254831606747138</td>\n",
       "    </tr>\n",
       "    <tr>\n",
       "      <th>44</th>\n",
       "      <td>2021-05-23 00:00:04+00:00</td>\n",
       "      <td>1396254564823732227</td>\n",
       "      <td>For the only Black farmer in his part of Misso...</td>\n",
       "      <td>nytimes</td>\n",
       "      <td></td>\n",
       "      <td>1396254564823732227</td>\n",
       "    </tr>\n",
       "  </tbody>\n",
       "</table>\n",
       "<p>30906 rows × 6 columns</p>\n",
       "</div>"
      ],
      "text/plain": [
       "                     Datetime              TweetId  \\\n",
       "0   2020-08-04 23:39:29+00:00  1290794516312739840   \n",
       "1   2020-08-04 23:15:55+00:00  1290788587873730561   \n",
       "2   2020-08-04 23:15:32+00:00  1290788491282898944   \n",
       "3   2020-08-04 22:59:03+00:00  1290784342806089730   \n",
       "4   2020-08-04 22:47:10+00:00  1290781350228762624   \n",
       "..                        ...                  ...   \n",
       "40  2021-05-23 01:35:00+00:00  1396278456493789185   \n",
       "41  2021-05-23 01:25:00+00:00  1396275939684745218   \n",
       "42  2021-05-23 01:00:00+00:00  1396269649268989957   \n",
       "43  2021-05-23 00:01:07+00:00  1396254831606747138   \n",
       "44  2021-05-23 00:00:04+00:00  1396254564823732227   \n",
       "\n",
       "                                                 Text        Username  \\\n",
       "0   Dramatic video shows a massive explosion near ...             CNN   \n",
       "1   Sen. Lindsey Graham was tasked with talking Pr...             CNN   \n",
       "2   🎥 WALSH: George Floyd Bodycam Footage Is Out. ...   realDailyWire   \n",
       "3   Many thought Trump’s Axios interview felt like...  washingtonpost   \n",
       "4   “When a woman is in a role that’s new people u...         nytimes   \n",
       "..                                                ...             ...   \n",
       "40  WARNING: GRAPHIC CONTENT — Disturbing video of...         Reuters   \n",
       "41  ICYMI: President Biden went to a Ford test tra...         Reuters   \n",
       "42  Biden administration grants temporary protecte...         FoxNews   \n",
       "43  President Biden took an electric Ford pickup t...             CNN   \n",
       "44  For the only Black farmer in his part of Misso...         nytimes   \n",
       "\n",
       "   MentionedUsers       ConversationId  \n",
       "0                  1290794516312739840  \n",
       "1                  1290788587873730561  \n",
       "2                  1290788491282898944  \n",
       "3                  1290784342806089730  \n",
       "4                  1290009491354710017  \n",
       "..            ...                  ...  \n",
       "40                 1396278456493789185  \n",
       "41                 1396275939684745218  \n",
       "42                 1396269649268989957  \n",
       "43                 1396254831606747138  \n",
       "44                 1396254564823732227  \n",
       "\n",
       "[30906 rows x 6 columns]"
      ]
     },
     "execution_count": 86,
     "metadata": {},
     "output_type": "execute_result"
    }
   ],
   "source": [
    "data"
   ]
  },
  {
   "cell_type": "code",
   "execution_count": 87,
   "metadata": {},
   "outputs": [],
   "source": [
    "#conversations = list(data.ConversationId.unique())\n",
    "#processed_ids =[]\n",
    "#replies = []"
   ]
  },
  {
   "cell_type": "code",
   "execution_count": 113,
   "metadata": {},
   "outputs": [],
   "source": [
    "for conversation in conversations:\n",
    "    \n",
    "    if conversation not in processed_ids:\n",
    "        \n",
    "        try:\n",
    "            replies.extend(getReplies(\"\",conversation,\n",
    "                                  '','',2000))\n",
    "            processed_ids.append(conversation)\n",
    "            \n",
    "        except Exception as e:\n",
    "            print('First attempt unsuccessful')\n",
    "            print(e)\n",
    "            time.sleep(400)\n",
    "            try:\n",
    "                replies.extend(getReplies(\"\",conversation,\n",
    "                                  '','',2000))\n",
    "                processed_ids.append(conversation)\n",
    "            except Exception as e:\n",
    "                print('Second attempt unsuccessful')\n",
    "                print(e)\n",
    "                time.sleep(400)\n",
    "            \n",
    "        \n",
    "    "
   ]
  },
  {
   "cell_type": "code",
   "execution_count": 115,
   "metadata": {},
   "outputs": [],
   "source": [
    "replies_df = pd.DataFrame(replies, columns=['Datetime',\n",
    "                                            'TweetId',\n",
    "                                            'Text',\n",
    "                                            'Username',\n",
    "                                            'NewsOutlet',\n",
    "                                            'MentionedUsers',\n",
    "                                            'ConversationId'])"
   ]
  },
  {
   "cell_type": "code",
   "execution_count": 91,
   "metadata": {},
   "outputs": [],
   "source": [
    "#replies_df.to_csv('data/replies_first_round.csv', index=False)"
   ]
  },
  {
   "cell_type": "code",
   "execution_count": 114,
   "metadata": {},
   "outputs": [
    {
     "data": {
      "text/plain": [
       "0"
      ]
     },
     "execution_count": 114,
     "metadata": {},
     "output_type": "execute_result"
    }
   ],
   "source": [
    "len(conversations) - len(processed_ids)"
   ]
  },
  {
   "cell_type": "code",
   "execution_count": 116,
   "metadata": {},
   "outputs": [
    {
     "data": {
      "text/plain": [
       "4578898"
      ]
     },
     "execution_count": 116,
     "metadata": {},
     "output_type": "execute_result"
    }
   ],
   "source": [
    "len(replies)"
   ]
  },
  {
   "cell_type": "code",
   "execution_count": null,
   "metadata": {},
   "outputs": [],
   "source": []
  },
  {
   "cell_type": "code",
   "execution_count": null,
   "metadata": {},
   "outputs": [],
   "source": []
  }
 ],
 "metadata": {
  "kernelspec": {
   "display_name": "Python 3",
   "language": "python",
   "name": "python3"
  },
  "language_info": {
   "codemirror_mode": {
    "name": "ipython",
    "version": 3
   },
   "file_extension": ".py",
   "mimetype": "text/x-python",
   "name": "python",
   "nbconvert_exporter": "python",
   "pygments_lexer": "ipython3",
   "version": "3.8.1"
  }
 },
 "nbformat": 4,
 "nbformat_minor": 5
}
